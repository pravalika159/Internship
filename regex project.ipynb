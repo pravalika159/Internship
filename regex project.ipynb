{
 "cells": [
  {
   "cell_type": "code",
   "execution_count": 8,
   "id": "453e38ee",
   "metadata": {},
   "outputs": [
    {
     "name": "stdout",
     "output_type": "stream",
     "text": [
      "Python:Exercises::PHP:exercises:\n"
     ]
    }
   ],
   "source": [
    "#Question 1- Write a Python program to replace all occurrences of a space, comma, or dot with a colon.\n",
    "import re\n",
    "target_string='Python Exercises, PHP exercises.'\n",
    "repl=\":\"\n",
    "pattern=\"[\\W]\"\n",
    "result=re.sub(pattern,repl,target_string)\n",
    "print(result)"
   ]
  },
  {
   "cell_type": "code",
   "execution_count": 9,
   "id": "8b53be8f",
   "metadata": {
    "scrolled": true
   },
   "outputs": [
    {
     "data": {
      "text/html": [
       "<div>\n",
       "<style scoped>\n",
       "    .dataframe tbody tr th:only-of-type {\n",
       "        vertical-align: middle;\n",
       "    }\n",
       "\n",
       "    .dataframe tbody tr th {\n",
       "        vertical-align: top;\n",
       "    }\n",
       "\n",
       "    .dataframe thead th {\n",
       "        text-align: right;\n",
       "    }\n",
       "</style>\n",
       "<table border=\"1\" class=\"dataframe\">\n",
       "  <thead>\n",
       "    <tr style=\"text-align: right;\">\n",
       "      <th></th>\n",
       "      <th>SUMMARY</th>\n",
       "    </tr>\n",
       "  </thead>\n",
       "  <tbody>\n",
       "    <tr>\n",
       "      <th>0</th>\n",
       "      <td>hello,world!</td>\n",
       "    </tr>\n",
       "    <tr>\n",
       "      <th>1</th>\n",
       "      <td>XXXXX test</td>\n",
       "    </tr>\n",
       "    <tr>\n",
       "      <th>2</th>\n",
       "      <td>123four,five:;six....</td>\n",
       "    </tr>\n",
       "  </tbody>\n",
       "</table>\n",
       "</div>"
      ],
      "text/plain": [
       "                 SUMMARY\n",
       "0           hello,world!\n",
       "1             XXXXX test\n",
       "2  123four,five:;six...."
      ]
     },
     "execution_count": 9,
     "metadata": {},
     "output_type": "execute_result"
    }
   ],
   "source": [
    "import pandas as pd\n",
    "df=pd.DataFrame({'SUMMARY':['hello,world!','XXXXX test','123four,five:;six....']})\n",
    "df"
   ]
  },
  {
   "cell_type": "code",
   "execution_count": 19,
   "id": "1a743bc9",
   "metadata": {},
   "outputs": [
    {
     "name": "stderr",
     "output_type": "stream",
     "text": [
      "C:\\Users\\prava\\AppData\\Local\\Temp\\ipykernel_24928\\1565713249.py:3: FutureWarning: The default value of regex will change from True to False in a future version.\n",
      "  df['SUMMARY'].str.replace(pattern,lambda m:m.group().upper())\n"
     ]
    },
    {
     "data": {
      "text/html": [
       "<div>\n",
       "<style scoped>\n",
       "    .dataframe tbody tr th:only-of-type {\n",
       "        vertical-align: middle;\n",
       "    }\n",
       "\n",
       "    .dataframe tbody tr th {\n",
       "        vertical-align: top;\n",
       "    }\n",
       "\n",
       "    .dataframe thead th {\n",
       "        text-align: right;\n",
       "    }\n",
       "</style>\n",
       "<table border=\"1\" class=\"dataframe\">\n",
       "  <thead>\n",
       "    <tr style=\"text-align: right;\">\n",
       "      <th></th>\n",
       "      <th>SUMMARY</th>\n",
       "    </tr>\n",
       "  </thead>\n",
       "  <tbody>\n",
       "    <tr>\n",
       "      <th>0</th>\n",
       "      <td>hello,world!</td>\n",
       "    </tr>\n",
       "    <tr>\n",
       "      <th>1</th>\n",
       "      <td>XXXXX test</td>\n",
       "    </tr>\n",
       "    <tr>\n",
       "      <th>2</th>\n",
       "      <td>123four,five:;six....</td>\n",
       "    </tr>\n",
       "  </tbody>\n",
       "</table>\n",
       "</div>"
      ],
      "text/plain": [
       "                 SUMMARY\n",
       "0           hello,world!\n",
       "1             XXXXX test\n",
       "2  123four,five:;six...."
      ]
     },
     "execution_count": 19,
     "metadata": {},
     "output_type": "execute_result"
    }
   ],
   "source": [
    "#pattern=\"[\\W*]\"\n",
    "pattern=r'\\W+'\n",
    "df['SUMMARY'].str.replace(pattern,lambda m:m.group().upper())\n",
    "df"
   ]
  },
  {
   "cell_type": "code",
   "execution_count": 62,
   "id": "01341865",
   "metadata": {},
   "outputs": [
    {
     "name": "stdout",
     "output_type": "stream",
     "text": [
      "['Want', 'Become', 'Software', 'Engineer', 'Internship', 'Number', 'DS2402']\n"
     ]
    }
   ],
   "source": [
    "#Question 3- Create a function in python to find all words that are at least 4 characters long in astring. \n",
    "#The use of the re.compile() method is mandatory.\n",
    "import re\n",
    "text='I Want To Become A Software Engineer. My Internship Number Is DS2402'\n",
    "pattern=re.compile(r'[\\w]{4,}')\n",
    "result=pattern.findall(text)\n",
    "print(result)"
   ]
  },
  {
   "cell_type": "code",
   "execution_count": 63,
   "id": "660f8d53",
   "metadata": {},
   "outputs": [
    {
     "name": "stdout",
     "output_type": "stream",
     "text": [
      "['Want', 'Becom', 'Softw', 'are', 'Engin', 'eer', 'Inter', 'nship', 'Numbe', 'DS240']\n"
     ]
    }
   ],
   "source": [
    "##Question 4- Create a function in python to find all three, four, and five character words in a string.\n",
    "##The use of the re.compile() method is mandatory.\n",
    "target_string='I Want To Become A Software Engineer. My Internship Number Is DS2402'\n",
    "pattern=re.compile(r'[\\w]{3,5}')\n",
    "result=pattern.findall(target_string)\n",
    "print(result)"
   ]
  },
  {
   "cell_type": "code",
   "execution_count": 97,
   "id": "40dbcfec",
   "metadata": {},
   "outputs": [
    {
     "name": "stdout",
     "output_type": "stream",
     "text": [
      "example.com\n",
      "hr@fliprobo.com\n",
      "github.com\n",
      "HelloDataScienceWorld\n",
      "DataScientist\n"
     ]
    }
   ],
   "source": [
    "##Question 5- Create a function in Python to remove the parenthesis in a list of strings. The use of the\n",
    "##re.compile() method is mandatory.\n",
    "target_string=[\"example (.com)\", \"hr@fliprobo(.com)\",\"github(.com)\", \"Hello (Data Science World)\",\"Data (Scientist)\"]\n",
    "for i in target_string:\n",
    "    pattern=re.compile(r\"[\\s()]\",flags=0)\n",
    "    res=pattern.sub(\"\",i)\n",
    "    print(res)"
   ]
  },
  {
   "cell_type": "code",
   "execution_count": 110,
   "id": "00e793d1",
   "metadata": {},
   "outputs": [
    {
     "name": "stdout",
     "output_type": "stream",
     "text": [
      "exaple \n",
      "hr@fliprb \n",
      "github \n",
      "Hell Data Siene Wrld\n",
      "Data Sientist\n"
     ]
    }
   ],
   "source": [
    "#Question 6- Write a python program to remove the parenthesis area from the text stored in the text\n",
    "#file using Regular Expression.\n",
    "text=[\"example (.com)\",\"hr@fliprobo (.com)\",\"github (.com)\",\"Hello (Data Science World)\",\"Data (Scientist)\"]\n",
    "for i in text:\n",
    "    comp=re.compile(r\"[(.com)]|\",flags=0)\n",
    "    res=re.sub(comp,\"\",i)\n",
    "    print(res)"
   ]
  },
  {
   "cell_type": "code",
   "execution_count": 7,
   "id": "04195f6a",
   "metadata": {},
   "outputs": [],
   "source": [
    "import re\n",
    "text=\"example(.com)\" \"hr@fliprobo (.com)\" \"github (.com)\" \"Hello(Data Science World)\" \"Data(Scientist)\"\n",
    "pattern=re.compile(r'^(.com)')\n",
    "for i in pattern.finditer(text):\n",
    "    print(i,group())"
   ]
  },
  {
   "cell_type": "code",
   "execution_count": 31,
   "id": "187cda07",
   "metadata": {},
   "outputs": [
    {
     "name": "stdout",
     "output_type": "stream",
     "text": [
      "['Importance', 'Of', 'Regular', 'Expressions', 'In', 'Python']\n"
     ]
    }
   ],
   "source": [
    "#Question 7- Write a regular expression in Python to split a string into uppercase letters.\n",
    "#Sample text: “ImportanceOfRegularExpressionsInPython”\n",
    "#Expected Output: [‘Importance’, ‘Of’, ‘Regular’, ‘Expression’, ‘In’, ‘Python’]\n",
    "text='ImportanceOfRegularExpressionsInPython'\n",
    "pattern=r'[A-Z][a-z]+'\n",
    "result=re.findall(pattern,text)\n",
    "print(result)"
   ]
  },
  {
   "cell_type": "code",
   "execution_count": 118,
   "id": "7649bf67",
   "metadata": {},
   "outputs": [
    {
     "name": "stdout",
     "output_type": "stream",
     "text": [
      "RegularExpression IsAn ImportantTopic InPython\n"
     ]
    }
   ],
   "source": [
    "#Question 8- Create a function in python to insert spaces between words starting with numbers.\n",
    "#Sample Text: “RegularExpression1IsAn2ImportantTopic3InPython&quot;\n",
    "#Expected Output: RegularExpression 1IsAn 2ImportantTopic 3InPython\n",
    "text=\"RegularExpression1IsAn2ImportantTopic3InPython\"\n",
    "pattern=r'[\\d]'\n",
    "result=re.sub(pattern,' ',text)\n",
    "print(result)"
   ]
  },
  {
   "cell_type": "code",
   "execution_count": 17,
   "id": "535fd10c",
   "metadata": {},
   "outputs": [
    {
     "ename": "NameError",
     "evalue": "name 'pd' is not defined",
     "output_type": "error",
     "traceback": [
      "\u001b[1;31m---------------------------------------------------------------------------\u001b[0m",
      "\u001b[1;31mNameError\u001b[0m                                 Traceback (most recent call last)",
      "Cell \u001b[1;32mIn[17], line 1\u001b[0m\n\u001b[1;32m----> 1\u001b[0m data\u001b[38;5;241m=\u001b[39mpd\u001b[38;5;241m.\u001b[39mread_csv(\u001b[38;5;124m'\u001b[39m\u001b[38;5;124mhttps://raw.githubusercontent.com/dsrscientist/DSData/master/happiness_score_dataset.csv\u001b[39m\u001b[38;5;124m'\u001b[39m)\n\u001b[0;32m      2\u001b[0m df\n",
      "\u001b[1;31mNameError\u001b[0m: name 'pd' is not defined"
     ]
    }
   ],
   "source": [
    "data=pd.read_csv('https://raw.githubusercontent.com/dsrscientist/DSData/master/happiness_score_dataset.csv')\n",
    "df"
   ]
  },
  {
   "cell_type": "code",
   "execution_count": 183,
   "id": "ea948cd7",
   "metadata": {},
   "outputs": [
    {
     "data": {
      "text/plain": [
       "0      Switzerland\n",
       "1          Iceland\n",
       "2          Denmark\n",
       "3           Norway\n",
       "4           Canada\n",
       "          ...     \n",
       "153         Rwanda\n",
       "154          Benin\n",
       "155          Syria\n",
       "156        Burundi\n",
       "157           Togo\n",
       "Name: Country, Length: 158, dtype: object"
      ]
     },
     "execution_count": 183,
     "metadata": {},
     "output_type": "execute_result"
    }
   ],
   "source": [
    "df['Country']"
   ]
  },
  {
   "cell_type": "code",
   "execution_count": 20,
   "id": "ab50660c",
   "metadata": {},
   "outputs": [
    {
     "name": "stdout",
     "output_type": "stream",
     "text": [
      "example (.com)\n",
      "hr@fliprobo (.com)\n",
      "github (.com)\n",
      "Hello (Data Science World)\n",
      "Data (Scientist)\n"
     ]
    }
   ],
   "source": [
    "text=\"example (.com)\",\"hr@fliprobo (.com)\",\"github (.com)\",\"Hello (Data Science World)\",\"Data (Scientist)\"\n",
    "for i in text:\n",
    "    comp=re.compile(r\"\\(.\\)\",flags=0)\n",
    "    res=comp.sub(\"\",i)\n",
    "    print(res)"
   ]
  },
  {
   "cell_type": "code",
   "execution_count": null,
   "id": "00fb72d7",
   "metadata": {},
   "outputs": [],
   "source": []
  }
 ],
 "metadata": {
  "kernelspec": {
   "display_name": "Python 3 (ipykernel)",
   "language": "python",
   "name": "python3"
  },
  "language_info": {
   "codemirror_mode": {
    "name": "ipython",
    "version": 3
   },
   "file_extension": ".py",
   "mimetype": "text/x-python",
   "name": "python",
   "nbconvert_exporter": "python",
   "pygments_lexer": "ipython3",
   "version": "3.11.4"
  }
 },
 "nbformat": 4,
 "nbformat_minor": 5
}
