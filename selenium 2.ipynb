{
 "cells": [
  {
   "cell_type": "code",
   "execution_count": 20,
   "id": "ed2beeaa",
   "metadata": {},
   "outputs": [],
   "source": [
    "import selenium\n",
    "from selenium import webdriver\n",
    "from selenium.webdriver.common.by import By\n",
    "import pandas as pd\n",
    "import time\n",
    "import warnings \n",
    "warnings.filterwarnings('ignore')"
   ]
  },
  {
   "cell_type": "markdown",
   "id": "dfca7fed",
   "metadata": {},
   "source": [
    "### Q1: In this question you have to scrape data using the filters available on the webpage You have to use the location and\n",
    "salary filter.\n",
    "You have to scrape data for “Data Scientist” designation for first 10 job results.\n",
    "You have to scrape the job-title, job-location, company name, experience required.\n",
    "The location filter to be used is “Delhi/NCR”. The salary filter to be used is “3-6” lakhs\n",
    "The task will be done as shown in the below steps:\n",
    "1. first get the web page https://www.naukri.com/\n",
    "2. Enter “Data Scientist” in “Skill, Designations, and Companies” field.\n",
    "3. Then click the search button.\n",
    "4. Then apply the location filter and salary filter by checking the respective boxes\n",
    "5. Then scrape the data for the first 10 jobs results you get.\n",
    "6. Finally create a dataframe of the scraped data."
   ]
  },
  {
   "cell_type": "code",
   "execution_count": 21,
   "id": "58811754",
   "metadata": {},
   "outputs": [],
   "source": [
    "naukri=webdriver.Chrome()"
   ]
  },
  {
   "cell_type": "code",
   "execution_count": 22,
   "id": "263c9acc",
   "metadata": {},
   "outputs": [],
   "source": [
    "naukri.get('https://www.naukri.com/')"
   ]
  },
  {
   "cell_type": "code",
   "execution_count": 23,
   "id": "1be7bac5",
   "metadata": {},
   "outputs": [],
   "source": [
    "title=naukri.find_element(By.CLASS_NAME,\"suggestor-input \")\n",
    "title.send_keys('Data Scientist')"
   ]
  },
  {
   "cell_type": "code",
   "execution_count": 24,
   "id": "b4cdafc3",
   "metadata": {},
   "outputs": [],
   "source": [
    "search=naukri.find_element(By.XPATH,'/html/body/div[1]/div[7]/div/div/div[6]')\n",
    "search.click()"
   ]
  },
  {
   "cell_type": "code",
   "execution_count": 26,
   "id": "3fbb08bd",
   "metadata": {},
   "outputs": [],
   "source": [
    "location_filter=naukri.find_element(By.XPATH,'//div[@class=\"styles_filterContainer__4aQaD\"][5]/div[2]/div[2]')\n",
    "location_filter.click()"
   ]
  },
  {
   "cell_type": "code",
   "execution_count": 27,
   "id": "58a280d1",
   "metadata": {},
   "outputs": [],
   "source": [
    "salary_filter=naukri.find_element(By.XPATH,'//div[@class=\"styles_filterContainer__4aQaD\"][6]/div/div[2]')\n",
    "salary_filter.click()"
   ]
  },
  {
   "cell_type": "code",
   "execution_count": 28,
   "id": "38e84e76",
   "metadata": {},
   "outputs": [],
   "source": [
    "job_titles=[]\n",
    "job_locations=[]\n",
    "company_names=[]\n",
    "experience_required=[]"
   ]
  },
  {
   "cell_type": "code",
   "execution_count": 29,
   "id": "cdb17a0b",
   "metadata": {},
   "outputs": [
    {
     "name": "stdout",
     "output_type": "stream",
     "text": [
      "['Data Scientist', 'Data Scientist', 'Data Scientist', 'Senior Data Scientist/ Data Scientist', 'Lead Data Scientist', 'Python Data Scientist', 'Associate Data Scientist', 'Associate Data Scientist', 'Data Scientist', 'Lead Customer Success - Data Scientist', 'Assistant Manager/Manager/Senior Manager - Data Scientist', 'Data Scientist', 'Python and ML Trainer', 'Data Scientist', 'Data Scientist', 'Data Scientist', 'Data Scientist', 'Data Scientist - Gen AI/LLM/Investment Banking/Asset Management', 'Data Scientist - Computer Vision - Consulting Firm', 'Data Scientist Analyst']\n"
     ]
    }
   ],
   "source": [
    "title_tags=naukri.find_elements(By.XPATH,'//div[@class=\"cust-job-tuple layout-wrapper lay-2 sjw__tuple \"]/div/a')\n",
    "for t in title_tags:\n",
    "    tit=t.text\n",
    "    job_titles.append(tit)\n",
    "print(job_titles)"
   ]
  },
  {
   "cell_type": "code",
   "execution_count": 30,
   "id": "c3f4e197",
   "metadata": {},
   "outputs": [
    {
     "name": "stdout",
     "output_type": "stream",
     "text": [
      "20\n"
     ]
    }
   ],
   "source": [
    "print(len(job_titles))"
   ]
  },
  {
   "cell_type": "code",
   "execution_count": 31,
   "id": "6243bcc4",
   "metadata": {},
   "outputs": [
    {
     "name": "stdout",
     "output_type": "stream",
     "text": [
      "['Kolkata, Mumbai, New Delhi, Hyderabad, Pune, Chennai, Bengaluru', 'Gurugram, Bengaluru', 'Kolkata, Mumbai, New Delhi, Hyderabad, Pune, Chennai, Bengaluru', 'Mumbai, Pune, Chennai, Gurugram, Bengaluru', 'Kolkata, Mumbai, New Delhi, Hyderabad/Secunderabad, Pune, Chennai, Bangalore/Bengaluru', 'Kolkata, Mumbai, New Delhi, Hyderabad, Pune, Chennai, Bengaluru', 'Kolkata, Mumbai, New Delhi, Hyderabad, Pune, Chennai, Bengaluru', 'Kolkata, Mumbai, New Delhi, Hyderabad, Pune, Chennai, Bengaluru', 'Kolkata, Mumbai, New Delhi, Hyderabad, Pune, Chennai, Bengaluru', 'Pune, Gurugram', 'Gurugram, Bengaluru', 'Noida', 'Hyderabad, New Delhi, Pune, Gurugram, Bengaluru', 'Gurugram, Bengaluru', 'Varanasi, Kannur, Mumbai, New Delhi', 'Noida, Uttar Pradesh, Gurugram, Haryana', 'Gurugram', 'Gurugram', 'Gurugram, Gurgaon/Gurugram', 'Gurugram']\n"
     ]
    }
   ],
   "source": [
    "location_tags=naukri.find_elements(By.XPATH,'//span[@class=\"locWdth\"]')\n",
    "for l in location_tags:\n",
    "    loc=l.text\n",
    "    job_locations.append(loc)\n",
    "print(job_locations)"
   ]
  },
  {
   "cell_type": "code",
   "execution_count": 32,
   "id": "8ed1f9ca",
   "metadata": {},
   "outputs": [
    {
     "name": "stdout",
     "output_type": "stream",
     "text": [
      "20\n"
     ]
    }
   ],
   "source": [
    "print(len(job_locations))"
   ]
  },
  {
   "cell_type": "code",
   "execution_count": 33,
   "id": "a98a93c2",
   "metadata": {},
   "outputs": [
    {
     "name": "stdout",
     "output_type": "stream",
     "text": [
      "['Kashsam Data Solutions', 'Blackbuck', 'Scienaptic Systems', 'Neal Analytics', 'Elitefit.ai', 'Wizaltia Hr Solutions', 'Kmart', 'KAS Services', 'Fort Technologies', 'ZS Associates', 'Leading Client', 'Times Internet', 'The Scholar', 'Acenet', 'Searchurcollege', 'Adglobal360', 'Sampark Softwares', 'Leading Client', 'Leading Client', 'Aryng']\n"
     ]
    }
   ],
   "source": [
    "company_tags=naukri.find_elements(By.XPATH,'//div[@class=\" row2\"]/span/a[1]')\n",
    "for c in company_tags:\n",
    "    com=c.text\n",
    "    company_names.append(com)\n",
    "print(company_names)"
   ]
  },
  {
   "cell_type": "code",
   "execution_count": 34,
   "id": "62832ce2",
   "metadata": {},
   "outputs": [
    {
     "name": "stdout",
     "output_type": "stream",
     "text": [
      "20\n"
     ]
    }
   ],
   "source": [
    "print(len(company_names))"
   ]
  },
  {
   "cell_type": "code",
   "execution_count": 35,
   "id": "fe7dd7bd",
   "metadata": {},
   "outputs": [
    {
     "name": "stdout",
     "output_type": "stream",
     "text": [
      "['3-7 Yrs', '3-7 Yrs', '2-7 Yrs', '3-7 Yrs', '3-7 Yrs', '2-7 Yrs', '1-2 Yrs', '1-2 Yrs', '1-3 Yrs', '2-4 Yrs', '2-7 Yrs', '3-8 Yrs', '3-8 Yrs', '3-4 Yrs', '1-3 Yrs', '4-9 Yrs', '3-5 Yrs', '4-9 Yrs', '3-8 Yrs', '3-5 Yrs']\n"
     ]
    }
   ],
   "source": [
    "experience_tags=naukri.find_elements(By.XPATH,'//span[@class=\"expwdth\"]')\n",
    "for e in experience_tags:\n",
    "    exp=e.text\n",
    "    experience_required.append(exp)\n",
    "print(experience_required)"
   ]
  },
  {
   "cell_type": "code",
   "execution_count": 36,
   "id": "b8f95374",
   "metadata": {},
   "outputs": [
    {
     "name": "stdout",
     "output_type": "stream",
     "text": [
      "20\n"
     ]
    }
   ],
   "source": [
    "print(len(experience_required))"
   ]
  },
  {
   "cell_type": "code",
   "execution_count": 37,
   "id": "d0e52fb8",
   "metadata": {},
   "outputs": [
    {
     "data": {
      "text/html": [
       "<div>\n",
       "<style scoped>\n",
       "    .dataframe tbody tr th:only-of-type {\n",
       "        vertical-align: middle;\n",
       "    }\n",
       "\n",
       "    .dataframe tbody tr th {\n",
       "        vertical-align: top;\n",
       "    }\n",
       "\n",
       "    .dataframe thead th {\n",
       "        text-align: right;\n",
       "    }\n",
       "</style>\n",
       "<table border=\"1\" class=\"dataframe\">\n",
       "  <thead>\n",
       "    <tr style=\"text-align: right;\">\n",
       "      <th></th>\n",
       "      <th>JOB TITLES</th>\n",
       "      <th>JOB LOCATIONS</th>\n",
       "      <th>COMPANY NAMES</th>\n",
       "      <th>EXPERIENCE REQUIRED</th>\n",
       "    </tr>\n",
       "  </thead>\n",
       "  <tbody>\n",
       "    <tr>\n",
       "      <th>0</th>\n",
       "      <td>Data Scientist</td>\n",
       "      <td>Kolkata, Mumbai, New Delhi, Hyderabad, Pune, C...</td>\n",
       "      <td>Kashsam Data Solutions</td>\n",
       "      <td>3-7 Yrs</td>\n",
       "    </tr>\n",
       "    <tr>\n",
       "      <th>1</th>\n",
       "      <td>Data Scientist</td>\n",
       "      <td>Gurugram, Bengaluru</td>\n",
       "      <td>Blackbuck</td>\n",
       "      <td>3-7 Yrs</td>\n",
       "    </tr>\n",
       "    <tr>\n",
       "      <th>2</th>\n",
       "      <td>Data Scientist</td>\n",
       "      <td>Kolkata, Mumbai, New Delhi, Hyderabad, Pune, C...</td>\n",
       "      <td>Scienaptic Systems</td>\n",
       "      <td>2-7 Yrs</td>\n",
       "    </tr>\n",
       "    <tr>\n",
       "      <th>3</th>\n",
       "      <td>Senior Data Scientist/ Data Scientist</td>\n",
       "      <td>Mumbai, Pune, Chennai, Gurugram, Bengaluru</td>\n",
       "      <td>Neal Analytics</td>\n",
       "      <td>3-7 Yrs</td>\n",
       "    </tr>\n",
       "    <tr>\n",
       "      <th>4</th>\n",
       "      <td>Lead Data Scientist</td>\n",
       "      <td>Kolkata, Mumbai, New Delhi, Hyderabad/Secunder...</td>\n",
       "      <td>Elitefit.ai</td>\n",
       "      <td>3-7 Yrs</td>\n",
       "    </tr>\n",
       "    <tr>\n",
       "      <th>5</th>\n",
       "      <td>Python Data Scientist</td>\n",
       "      <td>Kolkata, Mumbai, New Delhi, Hyderabad, Pune, C...</td>\n",
       "      <td>Wizaltia Hr Solutions</td>\n",
       "      <td>2-7 Yrs</td>\n",
       "    </tr>\n",
       "    <tr>\n",
       "      <th>6</th>\n",
       "      <td>Associate Data Scientist</td>\n",
       "      <td>Kolkata, Mumbai, New Delhi, Hyderabad, Pune, C...</td>\n",
       "      <td>Kmart</td>\n",
       "      <td>1-2 Yrs</td>\n",
       "    </tr>\n",
       "    <tr>\n",
       "      <th>7</th>\n",
       "      <td>Associate Data Scientist</td>\n",
       "      <td>Kolkata, Mumbai, New Delhi, Hyderabad, Pune, C...</td>\n",
       "      <td>KAS Services</td>\n",
       "      <td>1-2 Yrs</td>\n",
       "    </tr>\n",
       "    <tr>\n",
       "      <th>8</th>\n",
       "      <td>Data Scientist</td>\n",
       "      <td>Kolkata, Mumbai, New Delhi, Hyderabad, Pune, C...</td>\n",
       "      <td>Fort Technologies</td>\n",
       "      <td>1-3 Yrs</td>\n",
       "    </tr>\n",
       "    <tr>\n",
       "      <th>9</th>\n",
       "      <td>Lead Customer Success - Data Scientist</td>\n",
       "      <td>Pune, Gurugram</td>\n",
       "      <td>ZS Associates</td>\n",
       "      <td>2-4 Yrs</td>\n",
       "    </tr>\n",
       "  </tbody>\n",
       "</table>\n",
       "</div>"
      ],
      "text/plain": [
       "                               JOB TITLES  \\\n",
       "0                          Data Scientist   \n",
       "1                          Data Scientist   \n",
       "2                          Data Scientist   \n",
       "3   Senior Data Scientist/ Data Scientist   \n",
       "4                     Lead Data Scientist   \n",
       "5                   Python Data Scientist   \n",
       "6                Associate Data Scientist   \n",
       "7                Associate Data Scientist   \n",
       "8                          Data Scientist   \n",
       "9  Lead Customer Success - Data Scientist   \n",
       "\n",
       "                                       JOB LOCATIONS           COMPANY NAMES  \\\n",
       "0  Kolkata, Mumbai, New Delhi, Hyderabad, Pune, C...  Kashsam Data Solutions   \n",
       "1                                Gurugram, Bengaluru               Blackbuck   \n",
       "2  Kolkata, Mumbai, New Delhi, Hyderabad, Pune, C...      Scienaptic Systems   \n",
       "3         Mumbai, Pune, Chennai, Gurugram, Bengaluru          Neal Analytics   \n",
       "4  Kolkata, Mumbai, New Delhi, Hyderabad/Secunder...             Elitefit.ai   \n",
       "5  Kolkata, Mumbai, New Delhi, Hyderabad, Pune, C...   Wizaltia Hr Solutions   \n",
       "6  Kolkata, Mumbai, New Delhi, Hyderabad, Pune, C...                   Kmart   \n",
       "7  Kolkata, Mumbai, New Delhi, Hyderabad, Pune, C...            KAS Services   \n",
       "8  Kolkata, Mumbai, New Delhi, Hyderabad, Pune, C...       Fort Technologies   \n",
       "9                                     Pune, Gurugram           ZS Associates   \n",
       "\n",
       "  EXPERIENCE REQUIRED  \n",
       "0             3-7 Yrs  \n",
       "1             3-7 Yrs  \n",
       "2             2-7 Yrs  \n",
       "3             3-7 Yrs  \n",
       "4             3-7 Yrs  \n",
       "5             2-7 Yrs  \n",
       "6             1-2 Yrs  \n",
       "7             1-2 Yrs  \n",
       "8             1-3 Yrs  \n",
       "9             2-4 Yrs  "
      ]
     },
     "execution_count": 37,
     "metadata": {},
     "output_type": "execute_result"
    }
   ],
   "source": [
    "df=pd.DataFrame({'JOB TITLES':job_titles[:10],'JOB LOCATIONS':job_locations[:10],\n",
    "                 'COMPANY NAMES':company_names[:10],'EXPERIENCE REQUIRED':experience_required[:10]})\n",
    "df"
   ]
  },
  {
   "cell_type": "code",
   "execution_count": null,
   "id": "d9fad5ee",
   "metadata": {},
   "outputs": [],
   "source": []
  },
  {
   "cell_type": "code",
   "execution_count": null,
   "id": "94557532",
   "metadata": {},
   "outputs": [],
   "source": []
  },
  {
   "cell_type": "code",
   "execution_count": null,
   "id": "ceeec406",
   "metadata": {},
   "outputs": [],
   "source": []
  },
  {
   "cell_type": "markdown",
   "id": "5c211f6d",
   "metadata": {},
   "source": [
    "### Q2: Write a python program to scrape data for “Data Scientist” Job position in “Bangalore” location. You have to scrape the\n",
    "job-title, job-location, company_name, experience_required. You have to scrape first 10 jobs data.\n",
    "This task will be done in following steps:\n",
    "1. First get the webpage https://www.shine.com/\n",
    "2. Enter “Data Analyst” in “Job title, Skills” field and enter “Bangalore” in “enter the location” field.\n",
    "3. Then click the searchbutton.\n",
    "4. Then scrape the data for the first 10 jobs results you get.\n",
    "5. Finally create a dataframe of the scraped data."
   ]
  },
  {
   "cell_type": "code",
   "execution_count": 38,
   "id": "22ff4688",
   "metadata": {},
   "outputs": [],
   "source": [
    "shine=webdriver.Chrome()"
   ]
  },
  {
   "cell_type": "code",
   "execution_count": 45,
   "id": "5746892e",
   "metadata": {},
   "outputs": [],
   "source": [
    "shine.get('https://www.shine.com/')"
   ]
  },
  {
   "cell_type": "code",
   "execution_count": 46,
   "id": "49a2f219",
   "metadata": {},
   "outputs": [],
   "source": [
    "job_title=shine.find_element(By.CLASS_NAME,\"form-control  \")\n",
    "job_title.send_keys('Data Analyst')"
   ]
  },
  {
   "cell_type": "code",
   "execution_count": 47,
   "id": "f2c50b53",
   "metadata": {},
   "outputs": [],
   "source": [
    "job_location=shine.find_element(By.XPATH,'/html/body/div/div[4]/div/div[2]/div[2]/div/form/div/div[1]/ul/li[2]/div/input')\n",
    "job_location.send_keys('Bangalore')"
   ]
  },
  {
   "cell_type": "code",
   "execution_count": 48,
   "id": "6a1386cc",
   "metadata": {},
   "outputs": [],
   "source": [
    "search=shine.find_element(By.XPATH,'/html/body/div/div[4]/div/div[2]/div[2]/div/form/div/div[2]/div/button')\n",
    "search.click()"
   ]
  },
  {
   "cell_type": "code",
   "execution_count": 49,
   "id": "f4d3fdec",
   "metadata": {},
   "outputs": [],
   "source": [
    "job_titles=[]\n",
    "job_locations=[]\n",
    "company_names=[]\n",
    "experience_required=[]"
   ]
  },
  {
   "cell_type": "code",
   "execution_count": 50,
   "id": "f07fb18f",
   "metadata": {},
   "outputs": [
    {
     "name": "stdout",
     "output_type": "stream",
     "text": [
      "['Data Analyst Recruitment', 'Data Analyst Recruitment', 'Data Analyst (Power BI, Python, SQL)- Internal Audit do ...', 'Clinical Data Analyst', 'Data Analyst', 'Data Analyst', 'Data Governance Analyst', 'Data Engineer Ii', 'Data Engineer Ii', 'Hiring For Data Analyst', 'Azure Data engineer', 'Business Analyst', 'Business Analyst', 'Clinical Data Analyst', 'Oracle Utilities (customer care & Billing) CC&B Busines ...', 'Clinical Data Analyst', 'Data Executive karnataka', 'Clinical Coding Analyst', 'Online Data Entry work (Work from Home)', 'Business Analyst Opening']\n"
     ]
    }
   ],
   "source": [
    "title_tags=shine.find_elements(By.XPATH,'//strong[@class=\"jobCard_pReplaceH2__xWmHg\"]/a')\n",
    "for t in title_tags:\n",
    "    tit=t.text\n",
    "    job_titles.append(tit)\n",
    "print(job_titles)"
   ]
  },
  {
   "cell_type": "code",
   "execution_count": 51,
   "id": "a6b83c7a",
   "metadata": {},
   "outputs": [
    {
     "name": "stdout",
     "output_type": "stream",
     "text": [
      "20\n"
     ]
    }
   ],
   "source": [
    "print(len(job_titles))"
   ]
  },
  {
   "cell_type": "code",
   "execution_count": 52,
   "id": "3ac5349d",
   "metadata": {},
   "outputs": [
    {
     "name": "stdout",
     "output_type": "stream",
     "text": [
      "['Bangalore\\n+12', 'Bangalore\\n+12', 'Bangalore', 'Bangalore\\n+6', 'Bangalore\\n+9', 'Bangalore\\n+9', 'Bangalore', 'Bangalore\\n+9', 'Bangalore\\n+9', 'Bangalore\\n+12', 'Bangalore\\n+4', 'Bangalore\\n+9', 'Bangalore', 'Bangalore\\n+6', 'Bangalore\\n+2', 'Bangalore\\n+6', 'Bangalore\\n+9', 'Bangalore\\n+8', 'Bangalore\\n+9', 'Bangalore\\n+13']\n"
     ]
    }
   ],
   "source": [
    "location_tags=shine.find_elements(By.XPATH,'//div[@class=\" jobCard_jobCard_lists_item__YxRkV jobCard_locationIcon__zrWt2\"]')\n",
    "for l in location_tags:\n",
    "    loc=l.text\n",
    "    job_locations.append(loc)\n",
    "print(job_locations)"
   ]
  },
  {
   "cell_type": "code",
   "execution_count": 53,
   "id": "5519cc15",
   "metadata": {},
   "outputs": [
    {
     "name": "stdout",
     "output_type": "stream",
     "text": [
      "20\n"
     ]
    }
   ],
   "source": [
    "print(len(job_locations))"
   ]
  },
  {
   "cell_type": "code",
   "execution_count": 54,
   "id": "6eead2e9",
   "metadata": {},
   "outputs": [
    {
     "name": "stdout",
     "output_type": "stream",
     "text": [
      "['radhika enterprises', 'radhika enterprises', 'talent leads hr solutions pvt ltd', 'techno endura', 'sahast sales corporation', 'sahast sales corporation', 'white horse manpower consultancy (p...', 'v-tech data outsourcing', 'v-tech data outsourcing', 'radhika enterprises', 'capgemini technology services india...', 'sunita agri exports private limited', 'wehyre business consultancy', 'techno endura', 'ltimindtree limited', 'techno endura', 'v-tech data outsourcing', 'acura solutions. hiring for clinica...', 'aspect solution', 'divya staffing solution']\n"
     ]
    }
   ],
   "source": [
    "company_tags=shine.find_elements(By.XPATH,'//div[@class=\"jobCard_jobCard_cName__mYnow\"]/span')\n",
    "for c in company_tags:\n",
    "    com=c.text\n",
    "    company_names.append(com)\n",
    "print(company_names)"
   ]
  },
  {
   "cell_type": "code",
   "execution_count": 55,
   "id": "bb3846c0",
   "metadata": {},
   "outputs": [
    {
     "name": "stdout",
     "output_type": "stream",
     "text": [
      "20\n"
     ]
    }
   ],
   "source": [
    "print(len(company_names))"
   ]
  },
  {
   "cell_type": "code",
   "execution_count": 56,
   "id": "6978bbae",
   "metadata": {},
   "outputs": [
    {
     "name": "stdout",
     "output_type": "stream",
     "text": [
      "['0 to 4 Yrs', '0 to 4 Yrs', '3 to 8 Yrs', '0 to 1 Yr', '12 to 22 Yrs', '12 to 22 Yrs', '5 to 8 Yrs', '0 to 1 Yr', '0 to 1 Yr', '0 to 4 Yrs', '6 to 10 Yrs', '7 to 12 Yrs', '2 to 7 Yrs', '0 to 1 Yr', '5 to 9 Yrs', '0 to 1 Yr', '0 to 1 Yr', '3 to 5 Yrs', '0 to 1 Yr', '0 to 4 Yrs']\n"
     ]
    }
   ],
   "source": [
    "experience_tags=shine.find_elements(By.XPATH,'//div[@class=\" jobCard_jobCard_lists_item__YxRkV jobCard_jobIcon__3FB1t\"]')\n",
    "for e in experience_tags:\n",
    "    exp=e.text\n",
    "    experience_required.append(exp)\n",
    "print(experience_required)"
   ]
  },
  {
   "cell_type": "code",
   "execution_count": 57,
   "id": "61317224",
   "metadata": {},
   "outputs": [
    {
     "name": "stdout",
     "output_type": "stream",
     "text": [
      "20\n"
     ]
    }
   ],
   "source": [
    "print(len(experience_required))"
   ]
  },
  {
   "cell_type": "code",
   "execution_count": 58,
   "id": "624df2a8",
   "metadata": {},
   "outputs": [
    {
     "data": {
      "text/html": [
       "<div>\n",
       "<style scoped>\n",
       "    .dataframe tbody tr th:only-of-type {\n",
       "        vertical-align: middle;\n",
       "    }\n",
       "\n",
       "    .dataframe tbody tr th {\n",
       "        vertical-align: top;\n",
       "    }\n",
       "\n",
       "    .dataframe thead th {\n",
       "        text-align: right;\n",
       "    }\n",
       "</style>\n",
       "<table border=\"1\" class=\"dataframe\">\n",
       "  <thead>\n",
       "    <tr style=\"text-align: right;\">\n",
       "      <th></th>\n",
       "      <th>JOB TITLES</th>\n",
       "      <th>JOB LOCATIONS</th>\n",
       "      <th>COMPANY NAMES</th>\n",
       "      <th>EXPERIENCE REQUIRED</th>\n",
       "    </tr>\n",
       "  </thead>\n",
       "  <tbody>\n",
       "    <tr>\n",
       "      <th>0</th>\n",
       "      <td>Data Analyst Recruitment</td>\n",
       "      <td>Bangalore\\n+12</td>\n",
       "      <td>radhika enterprises</td>\n",
       "      <td>0 to 4 Yrs</td>\n",
       "    </tr>\n",
       "    <tr>\n",
       "      <th>1</th>\n",
       "      <td>Data Analyst Recruitment</td>\n",
       "      <td>Bangalore\\n+12</td>\n",
       "      <td>radhika enterprises</td>\n",
       "      <td>0 to 4 Yrs</td>\n",
       "    </tr>\n",
       "    <tr>\n",
       "      <th>2</th>\n",
       "      <td>Data Analyst (Power BI, Python, SQL)- Internal...</td>\n",
       "      <td>Bangalore</td>\n",
       "      <td>talent leads hr solutions pvt ltd</td>\n",
       "      <td>3 to 8 Yrs</td>\n",
       "    </tr>\n",
       "    <tr>\n",
       "      <th>3</th>\n",
       "      <td>Clinical Data Analyst</td>\n",
       "      <td>Bangalore\\n+6</td>\n",
       "      <td>techno endura</td>\n",
       "      <td>0 to 1 Yr</td>\n",
       "    </tr>\n",
       "    <tr>\n",
       "      <th>4</th>\n",
       "      <td>Data Analyst</td>\n",
       "      <td>Bangalore\\n+9</td>\n",
       "      <td>sahast sales corporation</td>\n",
       "      <td>12 to 22 Yrs</td>\n",
       "    </tr>\n",
       "    <tr>\n",
       "      <th>5</th>\n",
       "      <td>Data Analyst</td>\n",
       "      <td>Bangalore\\n+9</td>\n",
       "      <td>sahast sales corporation</td>\n",
       "      <td>12 to 22 Yrs</td>\n",
       "    </tr>\n",
       "    <tr>\n",
       "      <th>6</th>\n",
       "      <td>Data Governance Analyst</td>\n",
       "      <td>Bangalore</td>\n",
       "      <td>white horse manpower consultancy (p...</td>\n",
       "      <td>5 to 8 Yrs</td>\n",
       "    </tr>\n",
       "    <tr>\n",
       "      <th>7</th>\n",
       "      <td>Data Engineer Ii</td>\n",
       "      <td>Bangalore\\n+9</td>\n",
       "      <td>v-tech data outsourcing</td>\n",
       "      <td>0 to 1 Yr</td>\n",
       "    </tr>\n",
       "    <tr>\n",
       "      <th>8</th>\n",
       "      <td>Data Engineer Ii</td>\n",
       "      <td>Bangalore\\n+9</td>\n",
       "      <td>v-tech data outsourcing</td>\n",
       "      <td>0 to 1 Yr</td>\n",
       "    </tr>\n",
       "    <tr>\n",
       "      <th>9</th>\n",
       "      <td>Hiring For Data Analyst</td>\n",
       "      <td>Bangalore\\n+12</td>\n",
       "      <td>radhika enterprises</td>\n",
       "      <td>0 to 4 Yrs</td>\n",
       "    </tr>\n",
       "  </tbody>\n",
       "</table>\n",
       "</div>"
      ],
      "text/plain": [
       "                                          JOB TITLES   JOB LOCATIONS  \\\n",
       "0                           Data Analyst Recruitment  Bangalore\\n+12   \n",
       "1                           Data Analyst Recruitment  Bangalore\\n+12   \n",
       "2  Data Analyst (Power BI, Python, SQL)- Internal...       Bangalore   \n",
       "3                              Clinical Data Analyst   Bangalore\\n+6   \n",
       "4                                       Data Analyst   Bangalore\\n+9   \n",
       "5                                       Data Analyst   Bangalore\\n+9   \n",
       "6                            Data Governance Analyst       Bangalore   \n",
       "7                                   Data Engineer Ii   Bangalore\\n+9   \n",
       "8                                   Data Engineer Ii   Bangalore\\n+9   \n",
       "9                            Hiring For Data Analyst  Bangalore\\n+12   \n",
       "\n",
       "                            COMPANY NAMES EXPERIENCE REQUIRED  \n",
       "0                     radhika enterprises          0 to 4 Yrs  \n",
       "1                     radhika enterprises          0 to 4 Yrs  \n",
       "2       talent leads hr solutions pvt ltd          3 to 8 Yrs  \n",
       "3                           techno endura           0 to 1 Yr  \n",
       "4                sahast sales corporation        12 to 22 Yrs  \n",
       "5                sahast sales corporation        12 to 22 Yrs  \n",
       "6  white horse manpower consultancy (p...          5 to 8 Yrs  \n",
       "7                 v-tech data outsourcing           0 to 1 Yr  \n",
       "8                 v-tech data outsourcing           0 to 1 Yr  \n",
       "9                     radhika enterprises          0 to 4 Yrs  "
      ]
     },
     "execution_count": 58,
     "metadata": {},
     "output_type": "execute_result"
    }
   ],
   "source": [
    "df=pd.DataFrame({'JOB TITLES':job_titles[0:10],'JOB LOCATIONS':job_locations[0:10],\n",
    "                 'COMPANY NAMES':company_names[0:10],'EXPERIENCE REQUIRED':experience_required[:10]})\n",
    "df"
   ]
  },
  {
   "cell_type": "code",
   "execution_count": null,
   "id": "98edaa30",
   "metadata": {},
   "outputs": [],
   "source": []
  },
  {
   "cell_type": "code",
   "execution_count": null,
   "id": "7baabee8",
   "metadata": {},
   "outputs": [],
   "source": []
  },
  {
   "cell_type": "code",
   "execution_count": null,
   "id": "f23e274d",
   "metadata": {},
   "outputs": [],
   "source": []
  },
  {
   "cell_type": "markdown",
   "id": "b2613070",
   "metadata": {},
   "source": [
    "### Q3: Scrape 100 reviews data from flipkart.com for iphone11 phone. You have to go the link:\n",
    "\n",
    "https://www.flipkart.com/apple-iphone-11-black-64-gb/product-\n",
    "reviews/itm4e5041ba101fd?pid=MOBFWQ6BXGJCEYNY&lid=LSTMOBFWQ6BXGJCEYNYZXSHRJ&marketplace=F\n",
    "\n",
    "LIPKART\n",
    "As shown in the above page you have to scrape the tick marked attributes. These are:\n",
    "1. Rating\n",
    "2. Review summary\n",
    "3. Full review\n",
    "4. You have to scrape this data for first 100reviews."
   ]
  },
  {
   "cell_type": "code",
   "execution_count": 59,
   "id": "094ca7ff",
   "metadata": {},
   "outputs": [],
   "source": [
    "import time"
   ]
  },
  {
   "cell_type": "code",
   "execution_count": 60,
   "id": "cbde6f80",
   "metadata": {},
   "outputs": [],
   "source": [
    "flipkart=webdriver.Chrome()"
   ]
  },
  {
   "cell_type": "code",
   "execution_count": 61,
   "id": "69ce1194",
   "metadata": {},
   "outputs": [],
   "source": [
    "flipkart.get('https://www.flipkart.com/apple-iphone-11-black-64-gb/product-reviews/itm4e5041ba101fd?pid=MOBFWQ6BXGJCEYNY&lid=LSTMOBFWQ6BXGJCEYNYZXSHRJ&marketplace=FLIPKART')"
   ]
  },
  {
   "cell_type": "code",
   "execution_count": 62,
   "id": "e21731c1",
   "metadata": {},
   "outputs": [],
   "source": [
    "ratings=[]\n",
    "start=1\n",
    "end=12\n",
    "for page in range(start,end):\n",
    "    rating_tags=flipkart.find_elements(By.XPATH,'//div[@class=\"_3LWZlK _1BLPMq\"]')\n",
    "    for i in rating_tags:\n",
    "        rat=i.text\n",
    "        ratings.append(rat)\n",
    "next_button=flipkart.find_element(By.XPATH,'/html/body/div/div/div[3]/div/div/div[2]/div[13]/div/div/nav/a[11]')\n",
    "next_button.click()\n",
    "time.sleep(12)"
   ]
  },
  {
   "cell_type": "code",
   "execution_count": 63,
   "id": "df8913bc",
   "metadata": {},
   "outputs": [
    {
     "name": "stdout",
     "output_type": "stream",
     "text": [
      "110\n"
     ]
    }
   ],
   "source": [
    "print(len(ratings))"
   ]
  },
  {
   "cell_type": "code",
   "execution_count": 64,
   "id": "58e841fb",
   "metadata": {},
   "outputs": [],
   "source": [
    "page_1=flipkart.find_element(By.XPATH,'/html/body/div/div/div[3]/div/div/div[2]/div[13]/div/div/nav/a[2]')\n",
    "page_1.click()"
   ]
  },
  {
   "cell_type": "code",
   "execution_count": 65,
   "id": "2a7171f2",
   "metadata": {},
   "outputs": [],
   "source": [
    "review_summary=[]\n",
    "start=1\n",
    "end=12\n",
    "for page in range(start,end):\n",
    "    review_tags=flipkart.find_elements(By.XPATH,'//p[@class=\"_2-N8zT\"]')\n",
    "    for i in review_tags:\n",
    "        rew=i.text\n",
    "        review_summary.append(rew)\n",
    "next_button=flipkart.find_element(By.XPATH,'/html/body/div/div/div[3]/div/div/div[2]/div[13]/div/div/nav/a[11]/span')\n",
    "next_button.click()\n",
    "time.sleep(12)"
   ]
  },
  {
   "cell_type": "code",
   "execution_count": 66,
   "id": "b5dd60ab",
   "metadata": {},
   "outputs": [
    {
     "name": "stdout",
     "output_type": "stream",
     "text": [
      "110\n"
     ]
    }
   ],
   "source": [
    "print(len(review_summary))"
   ]
  },
  {
   "cell_type": "code",
   "execution_count": 67,
   "id": "10db4430",
   "metadata": {},
   "outputs": [],
   "source": [
    "page_1=flipkart.find_element(By.XPATH,'/html/body/div/div/div[3]/div/div/div[2]/div[13]/div/div/nav/a[2]')\n",
    "page_1.click()"
   ]
  },
  {
   "cell_type": "code",
   "execution_count": 68,
   "id": "627d28f8",
   "metadata": {},
   "outputs": [],
   "source": [
    "full_reviews=[]\n",
    "start=1\n",
    "end=12\n",
    "for page in range(start,end):\n",
    "    fullreview_tags=flipkart.find_elements(By.XPATH,'//div[@class=\"t-ZTKy\"]')\n",
    "    for i in fullreview_tags:\n",
    "        full_reviews.append(i.text)\n",
    "next_button=flipkart.find_element(By.XPATH,'/html/body/div/div/div[3]/div/div/div[2]/div[13]/div/div/nav/a[11]')\n",
    "next_button.click()\n",
    "time.sleep(12)"
   ]
  },
  {
   "cell_type": "code",
   "execution_count": 69,
   "id": "f3720fc2",
   "metadata": {},
   "outputs": [
    {
     "name": "stdout",
     "output_type": "stream",
     "text": [
      "110\n"
     ]
    }
   ],
   "source": [
    "print(len(full_reviews))"
   ]
  },
  {
   "cell_type": "code",
   "execution_count": 70,
   "id": "aaf84892",
   "metadata": {},
   "outputs": [
    {
     "data": {
      "text/html": [
       "<div>\n",
       "<style scoped>\n",
       "    .dataframe tbody tr th:only-of-type {\n",
       "        vertical-align: middle;\n",
       "    }\n",
       "\n",
       "    .dataframe tbody tr th {\n",
       "        vertical-align: top;\n",
       "    }\n",
       "\n",
       "    .dataframe thead th {\n",
       "        text-align: right;\n",
       "    }\n",
       "</style>\n",
       "<table border=\"1\" class=\"dataframe\">\n",
       "  <thead>\n",
       "    <tr style=\"text-align: right;\">\n",
       "      <th></th>\n",
       "      <th>RATINGS</th>\n",
       "      <th>REVIEWS</th>\n",
       "      <th>FULL REVIEWS</th>\n",
       "    </tr>\n",
       "  </thead>\n",
       "  <tbody>\n",
       "    <tr>\n",
       "      <th>0</th>\n",
       "      <td>5</td>\n",
       "      <td>Perfect product!</td>\n",
       "      <td>Photos super</td>\n",
       "    </tr>\n",
       "    <tr>\n",
       "      <th>1</th>\n",
       "      <td>5</td>\n",
       "      <td>Best in the market!</td>\n",
       "      <td>Good Camera</td>\n",
       "    </tr>\n",
       "    <tr>\n",
       "      <th>2</th>\n",
       "      <td>5</td>\n",
       "      <td>Wonderful</td>\n",
       "      <td>This is amazing at all</td>\n",
       "    </tr>\n",
       "    <tr>\n",
       "      <th>3</th>\n",
       "      <td>5</td>\n",
       "      <td>Worth every penny</td>\n",
       "      <td>Feeling awesome after getting the delivery of ...</td>\n",
       "    </tr>\n",
       "    <tr>\n",
       "      <th>4</th>\n",
       "      <td>5</td>\n",
       "      <td>Terrific purchase</td>\n",
       "      <td>Value for money 😍</td>\n",
       "    </tr>\n",
       "    <tr>\n",
       "      <th>...</th>\n",
       "      <td>...</td>\n",
       "      <td>...</td>\n",
       "      <td>...</td>\n",
       "    </tr>\n",
       "    <tr>\n",
       "      <th>95</th>\n",
       "      <td>5</td>\n",
       "      <td>Terrific</td>\n",
       "      <td>Very very good</td>\n",
       "    </tr>\n",
       "    <tr>\n",
       "      <th>96</th>\n",
       "      <td>5</td>\n",
       "      <td>Must buy!</td>\n",
       "      <td>It’s really awesome</td>\n",
       "    </tr>\n",
       "    <tr>\n",
       "      <th>97</th>\n",
       "      <td>5</td>\n",
       "      <td>Classy product</td>\n",
       "      <td>Camera is awesome\\nBest battery backup\\nA perf...</td>\n",
       "    </tr>\n",
       "    <tr>\n",
       "      <th>98</th>\n",
       "      <td>5</td>\n",
       "      <td>Just wow!</td>\n",
       "      <td>Perfect Product!!</td>\n",
       "    </tr>\n",
       "    <tr>\n",
       "      <th>99</th>\n",
       "      <td>5</td>\n",
       "      <td>Fabulous!</td>\n",
       "      <td>Super🔥 and good performance 👌❤️</td>\n",
       "    </tr>\n",
       "  </tbody>\n",
       "</table>\n",
       "<p>100 rows × 3 columns</p>\n",
       "</div>"
      ],
      "text/plain": [
       "   RATINGS              REVIEWS  \\\n",
       "0        5     Perfect product!   \n",
       "1        5  Best in the market!   \n",
       "2        5            Wonderful   \n",
       "3        5    Worth every penny   \n",
       "4        5    Terrific purchase   \n",
       "..     ...                  ...   \n",
       "95       5             Terrific   \n",
       "96       5            Must buy!   \n",
       "97       5       Classy product   \n",
       "98       5            Just wow!   \n",
       "99       5            Fabulous!   \n",
       "\n",
       "                                         FULL REVIEWS  \n",
       "0                                        Photos super  \n",
       "1                                         Good Camera  \n",
       "2                              This is amazing at all  \n",
       "3   Feeling awesome after getting the delivery of ...  \n",
       "4                                   Value for money 😍  \n",
       "..                                                ...  \n",
       "95                                     Very very good  \n",
       "96                                It’s really awesome  \n",
       "97  Camera is awesome\\nBest battery backup\\nA perf...  \n",
       "98                                  Perfect Product!!  \n",
       "99                    Super🔥 and good performance 👌❤️  \n",
       "\n",
       "[100 rows x 3 columns]"
      ]
     },
     "execution_count": 70,
     "metadata": {},
     "output_type": "execute_result"
    }
   ],
   "source": [
    "df=pd.DataFrame({'RATINGS':ratings[:100],'REVIEWS':review_summary[:100],'FULL REVIEWS':full_reviews[:100]})\n",
    "df"
   ]
  },
  {
   "cell_type": "code",
   "execution_count": null,
   "id": "001d57f0",
   "metadata": {},
   "outputs": [],
   "source": []
  },
  {
   "cell_type": "code",
   "execution_count": null,
   "id": "880b3e6c",
   "metadata": {},
   "outputs": [],
   "source": []
  },
  {
   "cell_type": "code",
   "execution_count": null,
   "id": "0bc3e322",
   "metadata": {},
   "outputs": [],
   "source": []
  },
  {
   "cell_type": "markdown",
   "id": "518f0f07",
   "metadata": {},
   "source": [
    "### Q4: Scrape data for first 100 sneakers you find when you visit flipkart.com and search for “sneakers” inthe search\n",
    "field.\n",
    "You have to scrape 3 attributes of each sneaker:\n",
    "1. Brand\n",
    "2. ProductDescription\n",
    "3. Price\n",
    "As shown in the below image, you have to scrape the above attributes."
   ]
  },
  {
   "cell_type": "code",
   "execution_count": 84,
   "id": "f75707cc",
   "metadata": {},
   "outputs": [],
   "source": [
    "driver=webdriver.Chrome()"
   ]
  },
  {
   "cell_type": "code",
   "execution_count": 85,
   "id": "0f2bdfe3",
   "metadata": {},
   "outputs": [],
   "source": [
    "driver.get('https://www.flipkart.com/apple-iphone-11-black-64-gb/product-reviews/itm4e5041ba101fd?pid=MOBFWQ6BXGJCEYNY&lid=LSTMOBFWQ6BXGJCEYNYZXSHRJ&marketplace=FLIPKART')"
   ]
  },
  {
   "cell_type": "code",
   "execution_count": 86,
   "id": "7a6e908c",
   "metadata": {},
   "outputs": [],
   "source": [
    "product=driver.find_element(By.CLASS_NAME,\"_3704LK\")\n",
    "product.send_keys('sneakers')"
   ]
  },
  {
   "cell_type": "code",
   "execution_count": 87,
   "id": "9e0fbd47",
   "metadata": {},
   "outputs": [],
   "source": [
    "search=driver.find_element(By.XPATH,'/html/body/div/div/div[1]/div[1]/div[2]/div[2]/form/div/button')\n",
    "search.click()"
   ]
  },
  {
   "cell_type": "code",
   "execution_count": 88,
   "id": "f8e38050",
   "metadata": {},
   "outputs": [],
   "source": [
    "brand=[]\n",
    "start=1\n",
    "end=4\n",
    "for page in range(start,end):\n",
    "    brand_tags=driver.find_elements(By.XPATH,'//div[@class=\"_2WkVRV\"]')\n",
    "    for i in brand_tags:\n",
    "        brand.append(i.text)\n",
    "next_button=driver.find_element(By.CLASS_NAME,'_1LKTO3')\n",
    "next_button.click\n",
    "time.sleep(4)"
   ]
  },
  {
   "cell_type": "code",
   "execution_count": 89,
   "id": "696054d6",
   "metadata": {},
   "outputs": [
    {
     "name": "stdout",
     "output_type": "stream",
     "text": [
      "120\n"
     ]
    }
   ],
   "source": [
    "print(len(brand))"
   ]
  },
  {
   "cell_type": "code",
   "execution_count": 90,
   "id": "27c30fcf",
   "metadata": {},
   "outputs": [],
   "source": [
    "page_1=driver.find_element(By.XPATH,'/html/body/div/div/div[3]/div[1]/div[2]/div[12]/div/div/nav/a[1]')\n",
    "page_1.click()"
   ]
  },
  {
   "cell_type": "code",
   "execution_count": 91,
   "id": "f45a686e",
   "metadata": {},
   "outputs": [],
   "source": [
    "productdescription=[]\n",
    "start=1\n",
    "end=4\n",
    "for page in range(start,end):\n",
    "    productdesc_tags=driver.find_elements(By.XPATH,'//div[@class=\"_2B099V\"]/a[1]')\n",
    "    for i in productdesc_tags:\n",
    "        productdescription.append(i.text)\n",
    "next_button=driver.find_element(By.CLASS_NAME,'_1LKTO3')\n",
    "next_button.click\n",
    "time.sleep(4)"
   ]
  },
  {
   "cell_type": "code",
   "execution_count": 92,
   "id": "2b4da208",
   "metadata": {},
   "outputs": [
    {
     "name": "stdout",
     "output_type": "stream",
     "text": [
      "120\n"
     ]
    }
   ],
   "source": [
    "print(len(productdescription))"
   ]
  },
  {
   "cell_type": "code",
   "execution_count": 93,
   "id": "ecf65f97",
   "metadata": {},
   "outputs": [],
   "source": [
    "page_1=driver.find_element(By.XPATH,'/html/body/div/div/div[3]/div[1]/div[2]/div[12]/div/div/nav/a[1]')\n",
    "page_1.click()"
   ]
  },
  {
   "cell_type": "code",
   "execution_count": 94,
   "id": "45552816",
   "metadata": {},
   "outputs": [],
   "source": [
    "price=[]\n",
    "start=1\n",
    "end=4\n",
    "for page in range(start,end):\n",
    "    price_tags=driver.find_elements(By.XPATH,'//div[@class=\"_30jeq3\"]')\n",
    "    for i in price_tags:\n",
    "        price.append(i.text)\n",
    "next_button=driver.find_element(By.CLASS_NAME,'_1LKTO3')\n",
    "next_button.click()\n",
    "time.sleep(3)"
   ]
  },
  {
   "cell_type": "code",
   "execution_count": 95,
   "id": "d2c21a3f",
   "metadata": {},
   "outputs": [
    {
     "name": "stdout",
     "output_type": "stream",
     "text": [
      "120\n"
     ]
    }
   ],
   "source": [
    "print(len(price))"
   ]
  },
  {
   "cell_type": "code",
   "execution_count": 96,
   "id": "fc2ad06f",
   "metadata": {},
   "outputs": [
    {
     "data": {
      "text/html": [
       "<div>\n",
       "<style scoped>\n",
       "    .dataframe tbody tr th:only-of-type {\n",
       "        vertical-align: middle;\n",
       "    }\n",
       "\n",
       "    .dataframe tbody tr th {\n",
       "        vertical-align: top;\n",
       "    }\n",
       "\n",
       "    .dataframe thead th {\n",
       "        text-align: right;\n",
       "    }\n",
       "</style>\n",
       "<table border=\"1\" class=\"dataframe\">\n",
       "  <thead>\n",
       "    <tr style=\"text-align: right;\">\n",
       "      <th></th>\n",
       "      <th>BRAND</th>\n",
       "      <th>PRODUCT DESCRIPTION</th>\n",
       "      <th>PRICE</th>\n",
       "    </tr>\n",
       "  </thead>\n",
       "  <tbody>\n",
       "    <tr>\n",
       "      <th>0</th>\n",
       "      <td>Layasa</td>\n",
       "      <td>Trending Stylish Casual Outdoor Shoes Sneakers...</td>\n",
       "      <td>₹299</td>\n",
       "    </tr>\n",
       "    <tr>\n",
       "      <th>1</th>\n",
       "      <td>BRUTON</td>\n",
       "      <td>Sneakers For Women</td>\n",
       "      <td>₹379</td>\n",
       "    </tr>\n",
       "    <tr>\n",
       "      <th>2</th>\n",
       "      <td>URBANBOX</td>\n",
       "      <td>Casual Sneakers Colour Blocked Shoes For Boys ...</td>\n",
       "      <td>₹449</td>\n",
       "    </tr>\n",
       "    <tr>\n",
       "      <th>3</th>\n",
       "      <td>Deals4you</td>\n",
       "      <td>Flyumph Sneakers For Men</td>\n",
       "      <td>₹1,066</td>\n",
       "    </tr>\n",
       "    <tr>\n",
       "      <th>4</th>\n",
       "      <td>Robbie jones</td>\n",
       "      <td>LEXUS Sneakers For Men</td>\n",
       "      <td>₹937</td>\n",
       "    </tr>\n",
       "    <tr>\n",
       "      <th>...</th>\n",
       "      <td>...</td>\n",
       "      <td>...</td>\n",
       "      <td>...</td>\n",
       "    </tr>\n",
       "    <tr>\n",
       "      <th>95</th>\n",
       "      <td>Robbie jones</td>\n",
       "      <td>Sneakers For Men</td>\n",
       "      <td>₹411</td>\n",
       "    </tr>\n",
       "    <tr>\n",
       "      <th>96</th>\n",
       "      <td>BRUTON</td>\n",
       "      <td>Casual Sneakers Shoes for Men | Soft Cushioned...</td>\n",
       "      <td>₹1,179</td>\n",
       "    </tr>\n",
       "    <tr>\n",
       "      <th>97</th>\n",
       "      <td>BRUTON</td>\n",
       "      <td>Sneakers For Women</td>\n",
       "      <td>₹584</td>\n",
       "    </tr>\n",
       "    <tr>\n",
       "      <th>98</th>\n",
       "      <td>asian</td>\n",
       "      <td>Casual Sneaker Shoes For Men | Enhanced Comfor...</td>\n",
       "      <td>₹1,119</td>\n",
       "    </tr>\n",
       "    <tr>\n",
       "      <th>99</th>\n",
       "      <td>Abros</td>\n",
       "      <td>Daze V2 Sneakers For Men</td>\n",
       "      <td>₹1,066</td>\n",
       "    </tr>\n",
       "  </tbody>\n",
       "</table>\n",
       "<p>100 rows × 3 columns</p>\n",
       "</div>"
      ],
      "text/plain": [
       "           BRAND                                PRODUCT DESCRIPTION   PRICE\n",
       "0         Layasa  Trending Stylish Casual Outdoor Shoes Sneakers...    ₹299\n",
       "1         BRUTON                                 Sneakers For Women    ₹379\n",
       "2       URBANBOX  Casual Sneakers Colour Blocked Shoes For Boys ...    ₹449\n",
       "3      Deals4you                           Flyumph Sneakers For Men  ₹1,066\n",
       "4   Robbie jones                             LEXUS Sneakers For Men    ₹937\n",
       "..           ...                                                ...     ...\n",
       "95  Robbie jones                                   Sneakers For Men    ₹411\n",
       "96        BRUTON  Casual Sneakers Shoes for Men | Soft Cushioned...  ₹1,179\n",
       "97        BRUTON                                 Sneakers For Women    ₹584\n",
       "98         asian  Casual Sneaker Shoes For Men | Enhanced Comfor...  ₹1,119\n",
       "99         Abros                           Daze V2 Sneakers For Men  ₹1,066\n",
       "\n",
       "[100 rows x 3 columns]"
      ]
     },
     "execution_count": 96,
     "metadata": {},
     "output_type": "execute_result"
    }
   ],
   "source": [
    "df=pd.DataFrame({'BRAND':brand[:100],'PRODUCT DESCRIPTION':productdescription[:100],'PRICE':price[:100]})\n",
    "df"
   ]
  },
  {
   "cell_type": "code",
   "execution_count": null,
   "id": "ae9e41c1",
   "metadata": {},
   "outputs": [],
   "source": []
  },
  {
   "cell_type": "code",
   "execution_count": null,
   "id": "e2fd2ba6",
   "metadata": {},
   "outputs": [],
   "source": []
  },
  {
   "cell_type": "code",
   "execution_count": null,
   "id": "b8ae10dd",
   "metadata": {},
   "outputs": [],
   "source": []
  },
  {
   "cell_type": "markdown",
   "id": "99323874",
   "metadata": {},
   "source": [
    "### Q5: Go to webpage https://www.amazon.in/ Enter “Laptop” in the search field and then click the search icon. Then set CPU\n",
    "Type filter to “Intel Core i7” as shown in the below image:\n",
    "Aftersetting the filters scrape first 10 laptops data. You have to scrape 3 attributes for each laptop:\n",
    "1. Titles\n",
    "2. Ratings\n",
    "3. Price previous_button=driver.find_element(By.XPATH,'/html/body/div/div/div[3]/div[1]/div[2]/div[12]/div/div/nav/a[1]')\n",
    "previous_button.click()"
   ]
  },
  {
   "cell_type": "code",
   "execution_count": 110,
   "id": "6f67951c",
   "metadata": {},
   "outputs": [],
   "source": [
    "amazon=webdriver.Chrome()"
   ]
  },
  {
   "cell_type": "code",
   "execution_count": 111,
   "id": "2a3d4b0b",
   "metadata": {},
   "outputs": [],
   "source": [
    "amazon.get('https://www.amazon.in/')"
   ]
  },
  {
   "cell_type": "code",
   "execution_count": 112,
   "id": "826482fd",
   "metadata": {},
   "outputs": [],
   "source": [
    "product=amazon.find_element(By.XPATH,'/html/body/div[1]/header/div/div[1]/div[2]/div/form/div[2]/div[1]/input')\n",
    "product.send_keys('Laptop')"
   ]
  },
  {
   "cell_type": "code",
   "execution_count": 113,
   "id": "d5a704a4",
   "metadata": {},
   "outputs": [],
   "source": [
    "search=amazon.find_element(By.XPATH,'/html/body/div[1]/header/div/div[1]/div[2]/div/form/div[3]/div')\n",
    "search.click()"
   ]
  },
  {
   "cell_type": "code",
   "execution_count": 114,
   "id": "0bc22437",
   "metadata": {},
   "outputs": [],
   "source": [
    "cpu_filter=amazon.find_element(By.XPATH,'/html/body/div[1]/div[1]/div[1]/div[2]/div/div[3]/span/div[1]/div/div/div[6]/div[19]/div/ul/span[10]/li/span/a/div/label/i')\n",
    "cpu_filter.click()"
   ]
  },
  {
   "cell_type": "code",
   "execution_count": 115,
   "id": "24ed7db2",
   "metadata": {},
   "outputs": [],
   "source": [
    "title=[]\n",
    "rating=[]\n",
    "price=[]"
   ]
  },
  {
   "cell_type": "code",
   "execution_count": 116,
   "id": "e9eab3a8",
   "metadata": {},
   "outputs": [],
   "source": [
    "title_tags=amazon.find_elements(By.XPATH,'//h2[@class=\"a-size-mini a-spacing-none a-color-base s-line-clamp-2\"]')\n",
    "for i in title_tags:\n",
    "    title.append(i.text)"
   ]
  },
  {
   "cell_type": "code",
   "execution_count": 117,
   "id": "51879089",
   "metadata": {},
   "outputs": [
    {
     "name": "stdout",
     "output_type": "stream",
     "text": [
      "24\n"
     ]
    }
   ],
   "source": [
    "print(len(title))"
   ]
  },
  {
   "cell_type": "code",
   "execution_count": 118,
   "id": "c349f4c5",
   "metadata": {},
   "outputs": [],
   "source": [
    "rating_tags=amazon.find_elements(By.XPATH,'//span[@class=\"a-size-base s-underline-text\"]')\n",
    "for i in rating_tags:\n",
    "    if i.text is None:\n",
    "        rating.append('no value')\n",
    "    else:\n",
    "        rating.append(i.text)"
   ]
  },
  {
   "cell_type": "code",
   "execution_count": 119,
   "id": "4001d7e4",
   "metadata": {},
   "outputs": [
    {
     "name": "stdout",
     "output_type": "stream",
     "text": [
      "25\n"
     ]
    }
   ],
   "source": [
    "print(len(rating))"
   ]
  },
  {
   "cell_type": "code",
   "execution_count": 120,
   "id": "5169c51b",
   "metadata": {},
   "outputs": [],
   "source": [
    "price_tags=amazon.find_elements(By.XPATH,'//span[@class=\"a-price\"]')\n",
    "for i in price_tags:\n",
    "    price.append(i.text)"
   ]
  },
  {
   "cell_type": "code",
   "execution_count": 121,
   "id": "762bf606",
   "metadata": {},
   "outputs": [
    {
     "name": "stdout",
     "output_type": "stream",
     "text": [
      "24\n"
     ]
    }
   ],
   "source": [
    "print(len(price))"
   ]
  },
  {
   "cell_type": "code",
   "execution_count": 122,
   "id": "01d403d0",
   "metadata": {},
   "outputs": [
    {
     "data": {
      "text/html": [
       "<div>\n",
       "<style scoped>\n",
       "    .dataframe tbody tr th:only-of-type {\n",
       "        vertical-align: middle;\n",
       "    }\n",
       "\n",
       "    .dataframe tbody tr th {\n",
       "        vertical-align: top;\n",
       "    }\n",
       "\n",
       "    .dataframe thead th {\n",
       "        text-align: right;\n",
       "    }\n",
       "</style>\n",
       "<table border=\"1\" class=\"dataframe\">\n",
       "  <thead>\n",
       "    <tr style=\"text-align: right;\">\n",
       "      <th></th>\n",
       "      <th>TITLES</th>\n",
       "      <th>RATINGS</th>\n",
       "      <th>PRICES</th>\n",
       "    </tr>\n",
       "  </thead>\n",
       "  <tbody>\n",
       "    <tr>\n",
       "      <th>0</th>\n",
       "      <td>ASUS TUF Gaming F15, 15.6\"(39.62 cms) FHD 144H...</td>\n",
       "      <td>260</td>\n",
       "      <td>₹67,990</td>\n",
       "    </tr>\n",
       "    <tr>\n",
       "      <th>1</th>\n",
       "      <td>GIGABYTE G5 MF-G2IN313SH Gaming Laptop Intel C...</td>\n",
       "      <td>8</td>\n",
       "      <td>₹59,990</td>\n",
       "    </tr>\n",
       "    <tr>\n",
       "      <th>2</th>\n",
       "      <td>ASUS Vivobook 15, Intel Core i7-12650H 12th Ge...</td>\n",
       "      <td>467</td>\n",
       "      <td>₹1,13,490</td>\n",
       "    </tr>\n",
       "    <tr>\n",
       "      <th>3</th>\n",
       "      <td>Dell G15 5530 Gaming Laptop, Intel i7-13650HX/...</td>\n",
       "      <td>4</td>\n",
       "      <td>₹99,990</td>\n",
       "    </tr>\n",
       "    <tr>\n",
       "      <th>4</th>\n",
       "      <td>Lenovo ThinkBook 15 Intel 12th Gen Core i7 15....</td>\n",
       "      <td>266</td>\n",
       "      <td>₹57,990</td>\n",
       "    </tr>\n",
       "    <tr>\n",
       "      <th>5</th>\n",
       "      <td>Lenovo IdeaPad Slim 3 Intel Core i7 11th Gen 1...</td>\n",
       "      <td>3</td>\n",
       "      <td>₹59,690</td>\n",
       "    </tr>\n",
       "    <tr>\n",
       "      <th>6</th>\n",
       "      <td>HP Victus Gaming Laptop, 12th Gen Intel Core i...</td>\n",
       "      <td>472</td>\n",
       "      <td>₹81,990</td>\n",
       "    </tr>\n",
       "    <tr>\n",
       "      <th>7</th>\n",
       "      <td>MSI Modern 14, Intel 12th Gen. i7-1255U, 36CM ...</td>\n",
       "      <td>381</td>\n",
       "      <td>₹49,990</td>\n",
       "    </tr>\n",
       "    <tr>\n",
       "      <th>8</th>\n",
       "      <td>HP Pavilion X360 11th Gen Intel Core i7 14\" (3...</td>\n",
       "      <td>104</td>\n",
       "      <td>₹67,990</td>\n",
       "    </tr>\n",
       "    <tr>\n",
       "      <th>9</th>\n",
       "      <td>HP Pavilion 14 12th Gen Intel Core i7 16GB SDR...</td>\n",
       "      <td>152</td>\n",
       "      <td>₹76,990</td>\n",
       "    </tr>\n",
       "  </tbody>\n",
       "</table>\n",
       "</div>"
      ],
      "text/plain": [
       "                                              TITLES RATINGS     PRICES\n",
       "0  ASUS TUF Gaming F15, 15.6\"(39.62 cms) FHD 144H...     260    ₹67,990\n",
       "1  GIGABYTE G5 MF-G2IN313SH Gaming Laptop Intel C...       8    ₹59,990\n",
       "2  ASUS Vivobook 15, Intel Core i7-12650H 12th Ge...     467  ₹1,13,490\n",
       "3  Dell G15 5530 Gaming Laptop, Intel i7-13650HX/...       4    ₹99,990\n",
       "4  Lenovo ThinkBook 15 Intel 12th Gen Core i7 15....     266    ₹57,990\n",
       "5  Lenovo IdeaPad Slim 3 Intel Core i7 11th Gen 1...       3    ₹59,690\n",
       "6  HP Victus Gaming Laptop, 12th Gen Intel Core i...     472    ₹81,990\n",
       "7  MSI Modern 14, Intel 12th Gen. i7-1255U, 36CM ...     381    ₹49,990\n",
       "8  HP Pavilion X360 11th Gen Intel Core i7 14\" (3...     104    ₹67,990\n",
       "9  HP Pavilion 14 12th Gen Intel Core i7 16GB SDR...     152    ₹76,990"
      ]
     },
     "execution_count": 122,
     "metadata": {},
     "output_type": "execute_result"
    }
   ],
   "source": [
    "df=pd.DataFrame({'TITLES':title[:10],'RATINGS':rating[:10],'PRICES':price[:10]})\n",
    "df"
   ]
  },
  {
   "cell_type": "code",
   "execution_count": null,
   "id": "ab57b00d",
   "metadata": {},
   "outputs": [],
   "source": []
  },
  {
   "cell_type": "code",
   "execution_count": null,
   "id": "0677435a",
   "metadata": {},
   "outputs": [],
   "source": []
  },
  {
   "cell_type": "code",
   "execution_count": null,
   "id": "681bafc1",
   "metadata": {},
   "outputs": [],
   "source": []
  },
  {
   "cell_type": "markdown",
   "id": "98c9060a",
   "metadata": {},
   "source": [
    "### Q6: Write a python program to scrape data for Top 1000 Quotes of All Time.\n",
    "The above task will be done in following steps:\n",
    "1. First get the webpagehttps://www.azquotes.com/\n",
    "2. Click on TopQuote\n",
    "3. Than scrap a)Quote b) Author c) Type Of Quotes"
   ]
  },
  {
   "cell_type": "code",
   "execution_count": 123,
   "id": "326b186a",
   "metadata": {},
   "outputs": [],
   "source": [
    "driver=webdriver.Chrome()"
   ]
  },
  {
   "cell_type": "code",
   "execution_count": 124,
   "id": "39419a25",
   "metadata": {},
   "outputs": [],
   "source": [
    "driver.get('https://www.azquotes.com/')"
   ]
  },
  {
   "cell_type": "code",
   "execution_count": 128,
   "id": "5245ac14",
   "metadata": {},
   "outputs": [],
   "source": [
    "show_options=driver.find_element(By.XPATH,'//div[@class=\"mainmenu\"]/a')\n",
    "show_options.click()"
   ]
  },
  {
   "cell_type": "code",
   "execution_count": 129,
   "id": "4fb7ec81",
   "metadata": {},
   "outputs": [],
   "source": [
    "top_quotes=driver.find_element(By.XPATH,'//div[@class=\"mainmenu\"]/ul/li[5]')\n",
    "top_quotes.click()"
   ]
  },
  {
   "cell_type": "code",
   "execution_count": 130,
   "id": "d09aaebe",
   "metadata": {},
   "outputs": [],
   "source": [
    "quote=[]\n",
    "author=[]\n",
    "type_of_quotes=[]"
   ]
  },
  {
   "cell_type": "code",
   "execution_count": 131,
   "id": "7d2fdc24",
   "metadata": {},
   "outputs": [],
   "source": [
    "start=0\n",
    "end=10\n",
    "for page in range(start,end):\n",
    "    quo=driver.find_elements(By.XPATH,'//a[@class=\"title\"]')\n",
    "    for i in quo:\n",
    "        quote.append(i.text)\n",
    "next_button=driver.find_element(By.CLASS_NAME,\"next\")\n",
    "next_button.click()\n",
    "time.sleep(10)"
   ]
  },
  {
   "cell_type": "code",
   "execution_count": 132,
   "id": "c98f81cd",
   "metadata": {},
   "outputs": [
    {
     "name": "stdout",
     "output_type": "stream",
     "text": [
      "1000\n"
     ]
    }
   ],
   "source": [
    "print(len(quote))"
   ]
  },
  {
   "cell_type": "code",
   "execution_count": 133,
   "id": "88b25538",
   "metadata": {},
   "outputs": [],
   "source": [
    "previous_button=driver.find_element(By.XPATH,'/html/body/div[1]/div[2]/div/div/div/div[1]/div/div[4]/li[2]/a')\n",
    "previous_button.click()"
   ]
  },
  {
   "cell_type": "code",
   "execution_count": 134,
   "id": "144f0f21",
   "metadata": {},
   "outputs": [
    {
     "name": "stdout",
     "output_type": "stream",
     "text": [
      "1000\n"
     ]
    }
   ],
   "source": [
    "start=0\n",
    "end=10\n",
    "for page in range(start,end):\n",
    "    auth=driver.find_elements(By.XPATH,'//div[@class=\"author\"]')\n",
    "    for i in auth:\n",
    "        author.append(i.text)\n",
    "next_button=driver.find_element(By.CLASS_NAME,\"next\")\n",
    "next_button.click()\n",
    "time.sleep(10)\n",
    "print(len(author))"
   ]
  },
  {
   "cell_type": "code",
   "execution_count": 135,
   "id": "978fcae2",
   "metadata": {},
   "outputs": [],
   "source": [
    "previous_button=driver.find_element(By.XPATH,'/html/body/div[1]/div[2]/div/div/div/div[1]/div/div[4]/li[2]/a')\n",
    "previous_button.click()"
   ]
  },
  {
   "cell_type": "code",
   "execution_count": 136,
   "id": "a7708c70",
   "metadata": {},
   "outputs": [
    {
     "name": "stdout",
     "output_type": "stream",
     "text": [
      "1000\n"
     ]
    }
   ],
   "source": [
    "start=0\n",
    "end=10\n",
    "for page in range(start,end):\n",
    "    type_quo=driver.find_elements(By.XPATH,'//div[@class=\"tags\"]')\n",
    "    for i in type_quo:\n",
    "        type_of_quotes.append(i.text)\n",
    "next_button=driver.find_element(By.CLASS_NAME,\"next\")\n",
    "next_button.click()\n",
    "time.sleep(10)\n",
    "print(len(type_of_quotes))"
   ]
  },
  {
   "cell_type": "code",
   "execution_count": 137,
   "id": "42a81250",
   "metadata": {},
   "outputs": [
    {
     "data": {
      "text/html": [
       "<div>\n",
       "<style scoped>\n",
       "    .dataframe tbody tr th:only-of-type {\n",
       "        vertical-align: middle;\n",
       "    }\n",
       "\n",
       "    .dataframe tbody tr th {\n",
       "        vertical-align: top;\n",
       "    }\n",
       "\n",
       "    .dataframe thead th {\n",
       "        text-align: right;\n",
       "    }\n",
       "</style>\n",
       "<table border=\"1\" class=\"dataframe\">\n",
       "  <thead>\n",
       "    <tr style=\"text-align: right;\">\n",
       "      <th></th>\n",
       "      <th>QUOTES</th>\n",
       "      <th>AUTHORS</th>\n",
       "      <th>TYPE OF QUOTES</th>\n",
       "    </tr>\n",
       "  </thead>\n",
       "  <tbody>\n",
       "    <tr>\n",
       "      <th>0</th>\n",
       "      <td>The essence of strategy is choosing what not t...</td>\n",
       "      <td>Michael Porter</td>\n",
       "      <td>Essence, Deep Thought, Transcendentalism</td>\n",
       "    </tr>\n",
       "    <tr>\n",
       "      <th>1</th>\n",
       "      <td>One cannot and must not try to erase the past ...</td>\n",
       "      <td>Golda Meir</td>\n",
       "      <td>Inspiration, Past, Trying</td>\n",
       "    </tr>\n",
       "    <tr>\n",
       "      <th>2</th>\n",
       "      <td>Patriotism means to stand by the country. It d...</td>\n",
       "      <td>Theodore Roosevelt</td>\n",
       "      <td>Country, Peace, War</td>\n",
       "    </tr>\n",
       "    <tr>\n",
       "      <th>3</th>\n",
       "      <td>Death is something inevitable. When a man has ...</td>\n",
       "      <td>Nelson Mandela</td>\n",
       "      <td>Inspirational, Motivational, Death</td>\n",
       "    </tr>\n",
       "    <tr>\n",
       "      <th>4</th>\n",
       "      <td>You have to love a nation that celebrates its ...</td>\n",
       "      <td>Erma Bombeck</td>\n",
       "      <td>4th Of July, Food, Patriotic</td>\n",
       "    </tr>\n",
       "    <tr>\n",
       "      <th>...</th>\n",
       "      <td>...</td>\n",
       "      <td>...</td>\n",
       "      <td>...</td>\n",
       "    </tr>\n",
       "    <tr>\n",
       "      <th>995</th>\n",
       "      <td>When the going gets weird, the weird turn pro.</td>\n",
       "      <td>Hunter S. Thompson</td>\n",
       "      <td>Music, Sports, Hunting</td>\n",
       "    </tr>\n",
       "    <tr>\n",
       "      <th>996</th>\n",
       "      <td>When a train goes through a tunnel and it gets...</td>\n",
       "      <td>Corrie Ten Boom</td>\n",
       "      <td>Trust, Encouraging, Uplifting</td>\n",
       "    </tr>\n",
       "    <tr>\n",
       "      <th>997</th>\n",
       "      <td>If you think you are too small to make a diffe...</td>\n",
       "      <td>Dalai Lama</td>\n",
       "      <td>Inspirational, Funny, Change</td>\n",
       "    </tr>\n",
       "    <tr>\n",
       "      <th>998</th>\n",
       "      <td>God doesn't require us to succeed, he only req...</td>\n",
       "      <td>Mother Teresa</td>\n",
       "      <td>Success, God, Mother</td>\n",
       "    </tr>\n",
       "    <tr>\n",
       "      <th>999</th>\n",
       "      <td>Change your thoughts and you change your world.</td>\n",
       "      <td>Norman Vincent Peale</td>\n",
       "      <td>Inspirational, Motivational, Change</td>\n",
       "    </tr>\n",
       "  </tbody>\n",
       "</table>\n",
       "<p>1000 rows × 3 columns</p>\n",
       "</div>"
      ],
      "text/plain": [
       "                                                QUOTES               AUTHORS  \\\n",
       "0    The essence of strategy is choosing what not t...        Michael Porter   \n",
       "1    One cannot and must not try to erase the past ...            Golda Meir   \n",
       "2    Patriotism means to stand by the country. It d...    Theodore Roosevelt   \n",
       "3    Death is something inevitable. When a man has ...        Nelson Mandela   \n",
       "4    You have to love a nation that celebrates its ...          Erma Bombeck   \n",
       "..                                                 ...                   ...   \n",
       "995     When the going gets weird, the weird turn pro.    Hunter S. Thompson   \n",
       "996  When a train goes through a tunnel and it gets...       Corrie Ten Boom   \n",
       "997  If you think you are too small to make a diffe...            Dalai Lama   \n",
       "998  God doesn't require us to succeed, he only req...         Mother Teresa   \n",
       "999    Change your thoughts and you change your world.  Norman Vincent Peale   \n",
       "\n",
       "                               TYPE OF QUOTES  \n",
       "0    Essence, Deep Thought, Transcendentalism  \n",
       "1                   Inspiration, Past, Trying  \n",
       "2                         Country, Peace, War  \n",
       "3          Inspirational, Motivational, Death  \n",
       "4                4th Of July, Food, Patriotic  \n",
       "..                                        ...  \n",
       "995                    Music, Sports, Hunting  \n",
       "996             Trust, Encouraging, Uplifting  \n",
       "997              Inspirational, Funny, Change  \n",
       "998                      Success, God, Mother  \n",
       "999       Inspirational, Motivational, Change  \n",
       "\n",
       "[1000 rows x 3 columns]"
      ]
     },
     "execution_count": 137,
     "metadata": {},
     "output_type": "execute_result"
    }
   ],
   "source": [
    "df=pd.DataFrame({'QUOTES':quote,'AUTHORS':author,'TYPE OF QUOTES':type_of_quotes})\n",
    "df"
   ]
  },
  {
   "cell_type": "code",
   "execution_count": null,
   "id": "5ea7ee60",
   "metadata": {},
   "outputs": [],
   "source": []
  },
  {
   "cell_type": "code",
   "execution_count": null,
   "id": "1d2dff85",
   "metadata": {},
   "outputs": [],
   "source": []
  },
  {
   "cell_type": "code",
   "execution_count": null,
   "id": "091bb4b9",
   "metadata": {},
   "outputs": [],
   "source": []
  },
  {
   "cell_type": "markdown",
   "id": "cc7bba07",
   "metadata": {},
   "source": [
    "### Q7: Write a python program to display list of respected former Prime Ministers of India (i.e. Name,\n",
    "\n",
    "Born-Dead, Term of office, Remarks) from https://www.jagranjosh.com/general-knowledge/list-of-\n",
    "all-prime-ministers-of-india-1473165149-1\n",
    "\n",
    "scrap the mentioned data and make the DataFrame"
   ]
  },
  {
   "cell_type": "code",
   "execution_count": 138,
   "id": "41390687",
   "metadata": {},
   "outputs": [],
   "source": [
    "ministers=webdriver.Chrome()"
   ]
  },
  {
   "cell_type": "code",
   "execution_count": 139,
   "id": "7a056ae6",
   "metadata": {},
   "outputs": [],
   "source": [
    "ministers.get('https://www.jagranjosh.com/general-knowledge/list-of-all-prime-ministers-of-india-1473165149-1')"
   ]
  },
  {
   "cell_type": "code",
   "execution_count": 140,
   "id": "2b90a720",
   "metadata": {},
   "outputs": [],
   "source": [
    "name=[]\n",
    "born_dead=[]\n",
    "term_of_office=[]\n",
    "remarks=[]"
   ]
  },
  {
   "cell_type": "code",
   "execution_count": 141,
   "id": "f2cceeaa",
   "metadata": {},
   "outputs": [
    {
     "name": "stdout",
     "output_type": "stream",
     "text": [
      "['Jawahar Lal Nehru']\n"
     ]
    }
   ],
   "source": [
    "names=[]\n",
    "name_tags=ministers.find_elements(By.XPATH,'//div[@class=\"TableData\"]/table//tr[2]/td[2]/div/strong/a')\n",
    "for i in name_tags:\n",
    "    name.append(i.text)\n",
    "print(name)"
   ]
  },
  {
   "cell_type": "code",
   "execution_count": null,
   "id": "2f34efdb",
   "metadata": {},
   "outputs": [],
   "source": []
  },
  {
   "cell_type": "code",
   "execution_count": null,
   "id": "3170463c",
   "metadata": {},
   "outputs": [],
   "source": []
  },
  {
   "cell_type": "code",
   "execution_count": null,
   "id": "7b5c3a87",
   "metadata": {},
   "outputs": [],
   "source": []
  },
  {
   "cell_type": "code",
   "execution_count": null,
   "id": "f74477d7",
   "metadata": {},
   "outputs": [],
   "source": []
  },
  {
   "cell_type": "markdown",
   "id": "023aa196",
   "metadata": {},
   "source": [
    "### Q8: Write a python program to display list of 50 Most expensive cars in the world\n",
    "(i.e. Car name and Price) from https://www.motor1.com/\n",
    "\n",
    "This task will be done in following steps:\n",
    "1. First get the webpage https://www.motor1.com/\n",
    "2. Then You have to type in the search bar ’50 most expensive cars’\n",
    "3. Then click on 50 most expensive carsin the world..\n",
    "4. Then scrap thementioned data and make the dataframe."
   ]
  },
  {
   "cell_type": "code",
   "execution_count": 155,
   "id": "35bba82a",
   "metadata": {},
   "outputs": [],
   "source": [
    "cars=webdriver.Chrome()"
   ]
  },
  {
   "cell_type": "code",
   "execution_count": 156,
   "id": "7e8aabad",
   "metadata": {},
   "outputs": [],
   "source": [
    "cars.get('https://www.motor1.com/')"
   ]
  },
  {
   "cell_type": "code",
   "execution_count": 161,
   "id": "836786ec",
   "metadata": {},
   "outputs": [],
   "source": [
    "search=cars.find_element(By.XPATH,'/html/body/div[9]/div[2]/div/div/div[3]/div/div/button')\n",
    "search.click()"
   ]
  },
  {
   "cell_type": "code",
   "execution_count": 162,
   "id": "baf2c649",
   "metadata": {},
   "outputs": [],
   "source": [
    "search_1=cars.find_element(By.XPATH,'/html/body/div[9]/div[2]/div/div/div[3]/div/div/div/form/input')\n",
    "search_1.send_keys('50 most expensive cars')"
   ]
  },
  {
   "cell_type": "code",
   "execution_count": 163,
   "id": "3d0827c5",
   "metadata": {},
   "outputs": [],
   "source": [
    "search_2=cars.find_element(By.XPATH,'/html/body/div[9]/div[2]/div/div/div[3]/div/div/div/form/button[1]')\n",
    "search_2.click()"
   ]
  },
  {
   "cell_type": "code",
   "execution_count": 164,
   "id": "ad355011",
   "metadata": {},
   "outputs": [],
   "source": [
    "search_3=cars.find_element(By.XPATH,'//div[@class=\"text-box\"]/h3/a')\n",
    "search_3.click()"
   ]
  },
  {
   "cell_type": "code",
   "execution_count": 165,
   "id": "de98018d",
   "metadata": {},
   "outputs": [],
   "source": [
    "car_names=[]\n",
    "car_tags=cars.find_elements(By.XPATH,'//h3[@class=\"subheader\"]')\n",
    "for i in car_tags:\n",
    "    car_names.append(i.text)"
   ]
  },
  {
   "cell_type": "code",
   "execution_count": 166,
   "id": "1d825126",
   "metadata": {},
   "outputs": [
    {
     "name": "stdout",
     "output_type": "stream",
     "text": [
      "51\n"
     ]
    }
   ],
   "source": [
    "print(len(car_names))"
   ]
  },
  {
   "cell_type": "code",
   "execution_count": 167,
   "id": "fa45309e",
   "metadata": {},
   "outputs": [
    {
     "ename": "SyntaxError",
     "evalue": "invalid syntax (2692270136.py, line 3)",
     "output_type": "error",
     "traceback": [
      "\u001b[1;36m  Cell \u001b[1;32mIn[167], line 3\u001b[1;36m\u001b[0m\n\u001b[1;33m    for i in\u001b[0m\n\u001b[1;37m            ^\u001b[0m\n\u001b[1;31mSyntaxError\u001b[0m\u001b[1;31m:\u001b[0m invalid syntax\n"
     ]
    }
   ],
   "source": [
    "car_prices=[]\n",
    "price_tags=cars.find_elements(By.XPATH)\n",
    "for i in"
   ]
  },
  {
   "cell_type": "code",
   "execution_count": null,
   "id": "7966d61e",
   "metadata": {},
   "outputs": [],
   "source": []
  }
 ],
 "metadata": {
  "kernelspec": {
   "display_name": "Python 3 (ipykernel)",
   "language": "python",
   "name": "python3"
  },
  "language_info": {
   "codemirror_mode": {
    "name": "ipython",
    "version": 3
   },
   "file_extension": ".py",
   "mimetype": "text/x-python",
   "name": "python",
   "nbconvert_exporter": "python",
   "pygments_lexer": "ipython3",
   "version": "3.11.4"
  }
 },
 "nbformat": 4,
 "nbformat_minor": 5
}
