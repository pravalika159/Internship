{
 "cells": [
  {
   "cell_type": "code",
   "execution_count": 1,
   "id": "ed2beeaa",
   "metadata": {},
   "outputs": [],
   "source": [
    "import selenium\n",
    "from selenium import webdriver\n",
    "from selenium.webdriver.common.by import By\n",
    "import pandas as pd\n",
    "import time\n",
    "import warnings \n",
    "warnings.filterwarnings('ignore')"
   ]
  },
  {
   "cell_type": "raw",
   "id": "5b2375d7",
   "metadata": {},
   "source": [
    "Q1: In this question you have to scrape data using the filters available on the webpage You have to use the location and\n",
    "salary filter.\n",
    "You have to scrape data for “Data Scientist” designation for first 10 job results.\n",
    "You have to scrape the job-title, job-location, company name, experience required.\n",
    "The location filter to be used is “Delhi/NCR”. The salary filter to be used is “3-6” lakhs\n",
    "The task will be done as shown in the below steps:\n",
    "1. first get the web page https://www.naukri.com/\n",
    "2. Enter “Data Scientist” in “Skill, Designations, and Companies” field.\n",
    "3. Then click the search button.\n",
    "4. Then apply the location filter and salary filter by checking the respective boxes\n",
    "5. Then scrape the data for the first 10 jobs results you get.\n",
    "6. Finally create a dataframe of the scraped data."
   ]
  },
  {
   "cell_type": "code",
   "execution_count": 2,
   "id": "58811754",
   "metadata": {},
   "outputs": [],
   "source": [
    "naukri=webdriver.Chrome()"
   ]
  },
  {
   "cell_type": "code",
   "execution_count": 3,
   "id": "263c9acc",
   "metadata": {},
   "outputs": [],
   "source": [
    "naukri.get('https://www.naukri.com/')"
   ]
  },
  {
   "cell_type": "code",
   "execution_count": 4,
   "id": "1be7bac5",
   "metadata": {},
   "outputs": [],
   "source": [
    "title=naukri.find_element(By.CLASS_NAME,\"suggestor-input \")\n",
    "title.send_keys('Data Scientist')"
   ]
  },
  {
   "cell_type": "code",
   "execution_count": 5,
   "id": "b4cdafc3",
   "metadata": {},
   "outputs": [],
   "source": [
    "search=naukri.find_element(By.XPATH,'/html/body/div[1]/div[7]/div/div/div[6]')\n",
    "search.click()"
   ]
  },
  {
   "cell_type": "code",
   "execution_count": 7,
   "id": "3fbb08bd",
   "metadata": {},
   "outputs": [],
   "source": [
    "location_filter=naukri.find_element(By.XPATH,'//div[@class=\"styles_filterContainer__4aQaD\"][5]/div[2]/div[2]')\n",
    "location_filter.click()"
   ]
  },
  {
   "cell_type": "code",
   "execution_count": 9,
   "id": "58a280d1",
   "metadata": {},
   "outputs": [],
   "source": [
    "salary_filter=naukri.find_element(By.XPATH,'//div[@class=\"styles_filterContainer__4aQaD\"][6]/div/div[2]')\n",
    "salary_filter.click()"
   ]
  },
  {
   "cell_type": "code",
   "execution_count": 10,
   "id": "38e84e76",
   "metadata": {},
   "outputs": [],
   "source": [
    "job_titles=[]\n",
    "job_locations=[]\n",
    "company_names=[]\n",
    "experience_required=[]"
   ]
  },
  {
   "cell_type": "code",
   "execution_count": 11,
   "id": "cdb17a0b",
   "metadata": {},
   "outputs": [
    {
     "name": "stdout",
     "output_type": "stream",
     "text": [
      "['Data Scientist', 'Data Scientist', 'Data Scientist', 'Python Data Scientist', 'Senior Data Scientist/ Data Scientist', 'Lead Data Scientist', 'Associate Data Scientist', 'Associate Data Scientist', 'Data Scientist', 'Lead Customer Success - Data Scientist', 'Assistant Manager/Manager/Senior Manager - Data Scientist', 'Data Scientist', 'Python and ML Trainer', 'JOB Opening // Data science // Neosoft Mumbai ,Pune,noida', 'Data Scientist', 'Data Scientist', 'Data Scientist - Gen AI/LLM/Investment Banking/Asset Management', 'Data Scientist', 'Data Scientist', 'Data Scientist - Computer Vision - Consulting Firm']\n"
     ]
    }
   ],
   "source": [
    "title_tags=naukri.find_elements(By.XPATH,'//div[@class=\"cust-job-tuple layout-wrapper lay-2 sjw__tuple \"]/div/a')\n",
    "for t in title_tags:\n",
    "    tit=t.text\n",
    "    job_titles.append(tit)\n",
    "print(job_titles)"
   ]
  },
  {
   "cell_type": "code",
   "execution_count": 12,
   "id": "c3f4e197",
   "metadata": {},
   "outputs": [
    {
     "name": "stdout",
     "output_type": "stream",
     "text": [
      "20\n"
     ]
    }
   ],
   "source": [
    "print(len(job_titles))"
   ]
  },
  {
   "cell_type": "code",
   "execution_count": 13,
   "id": "6243bcc4",
   "metadata": {},
   "outputs": [
    {
     "name": "stdout",
     "output_type": "stream",
     "text": [
      "['Kolkata, Mumbai, New Delhi, Hyderabad, Pune, Chennai, Bengaluru', 'Kolkata, Mumbai, New Delhi, Hyderabad, Pune, Chennai, Bengaluru', 'Gurugram, Bengaluru', 'Kolkata, Mumbai, New Delhi, Hyderabad, Pune, Chennai, Bengaluru', 'Mumbai, Pune, Chennai, Gurugram, Bengaluru', 'Kolkata, Mumbai, New Delhi, Hyderabad/Secunderabad, Pune, Chennai, Bangalore/Bengaluru', 'Kolkata, Mumbai, New Delhi, Hyderabad, Pune, Chennai, Bengaluru', 'Kolkata, Mumbai, New Delhi, Hyderabad, Pune, Chennai, Bengaluru', 'Kolkata, Mumbai, New Delhi, Hyderabad, Pune, Chennai, Bengaluru', 'Pune, Gurugram', 'Gurugram, Bengaluru', 'Noida', 'Hyderabad, New Delhi, Pune, Gurugram, Bengaluru', 'Noida, Mumbai, Pune', 'Gurugram, Bengaluru', 'Gurugram', 'Gurugram', 'Varanasi, Kannur, Mumbai, New Delhi', 'Noida, Uttar Pradesh, Gurugram, Haryana', 'Gurugram, Gurgaon/Gurugram']\n"
     ]
    }
   ],
   "source": [
    "location_tags=naukri.find_elements(By.XPATH,'//span[@class=\"locWdth\"]')\n",
    "for l in location_tags:\n",
    "    loc=l.text\n",
    "    job_locations.append(loc)\n",
    "print(job_locations)"
   ]
  },
  {
   "cell_type": "code",
   "execution_count": 14,
   "id": "8ed1f9ca",
   "metadata": {},
   "outputs": [
    {
     "name": "stdout",
     "output_type": "stream",
     "text": [
      "20\n"
     ]
    }
   ],
   "source": [
    "print(len(job_locations))"
   ]
  },
  {
   "cell_type": "code",
   "execution_count": 15,
   "id": "a98a93c2",
   "metadata": {},
   "outputs": [
    {
     "name": "stdout",
     "output_type": "stream",
     "text": [
      "['Kashsam Data Solutions', 'Scienaptic Systems', 'Blackbuck', 'Wizaltia Hr Solutions', 'Neal Analytics', 'Elitefit.ai', 'Kmart', 'KAS Services', 'Fort Technologies', 'ZS Associates', 'Leading Client', 'Times Internet', 'The Scholar', 'NeoSOFT', 'Acenet', 'Sampark Softwares', 'Leading Client', 'Searchurcollege', 'Adglobal360', 'Leading Client']\n"
     ]
    }
   ],
   "source": [
    "company_tags=naukri.find_elements(By.XPATH,'//div[@class=\" row2\"]/span/a[1]')\n",
    "for c in company_tags:\n",
    "    com=c.text\n",
    "    company_names.append(com)\n",
    "print(company_names)"
   ]
  },
  {
   "cell_type": "code",
   "execution_count": 16,
   "id": "62832ce2",
   "metadata": {},
   "outputs": [
    {
     "name": "stdout",
     "output_type": "stream",
     "text": [
      "20\n"
     ]
    }
   ],
   "source": [
    "print(len(company_names))"
   ]
  },
  {
   "cell_type": "code",
   "execution_count": 17,
   "id": "fe7dd7bd",
   "metadata": {},
   "outputs": [
    {
     "name": "stdout",
     "output_type": "stream",
     "text": [
      "['3-7 Yrs', '2-7 Yrs', '3-7 Yrs', '2-7 Yrs', '3-7 Yrs', '3-7 Yrs', '1-2 Yrs', '1-2 Yrs', '1-3 Yrs', '2-4 Yrs', '2-7 Yrs', '3-8 Yrs', '3-8 Yrs', '4-7 Yrs', '3-4 Yrs', '3-5 Yrs', '4-9 Yrs', '1-3 Yrs', '4-9 Yrs', '3-8 Yrs']\n"
     ]
    }
   ],
   "source": [
    "experience_tags=naukri.find_elements(By.XPATH,'//span[@class=\"expwdth\"]')\n",
    "for e in experience_tags:\n",
    "    exp=e.text\n",
    "    experience_required.append(exp)\n",
    "print(experience_required)"
   ]
  },
  {
   "cell_type": "code",
   "execution_count": 18,
   "id": "b8f95374",
   "metadata": {},
   "outputs": [
    {
     "name": "stdout",
     "output_type": "stream",
     "text": [
      "20\n"
     ]
    }
   ],
   "source": [
    "print(len(experience_required))"
   ]
  },
  {
   "cell_type": "code",
   "execution_count": 19,
   "id": "d0e52fb8",
   "metadata": {},
   "outputs": [
    {
     "data": {
      "text/html": [
       "<div>\n",
       "<style scoped>\n",
       "    .dataframe tbody tr th:only-of-type {\n",
       "        vertical-align: middle;\n",
       "    }\n",
       "\n",
       "    .dataframe tbody tr th {\n",
       "        vertical-align: top;\n",
       "    }\n",
       "\n",
       "    .dataframe thead th {\n",
       "        text-align: right;\n",
       "    }\n",
       "</style>\n",
       "<table border=\"1\" class=\"dataframe\">\n",
       "  <thead>\n",
       "    <tr style=\"text-align: right;\">\n",
       "      <th></th>\n",
       "      <th>JOB TITLES</th>\n",
       "      <th>JOB LOCATIONS</th>\n",
       "      <th>COMPANY NAMES</th>\n",
       "      <th>EXPERIENCE REQUIRED</th>\n",
       "    </tr>\n",
       "  </thead>\n",
       "  <tbody>\n",
       "    <tr>\n",
       "      <th>0</th>\n",
       "      <td>Data Scientist</td>\n",
       "      <td>Kolkata, Mumbai, New Delhi, Hyderabad, Pune, C...</td>\n",
       "      <td>Kashsam Data Solutions</td>\n",
       "      <td>3-7 Yrs</td>\n",
       "    </tr>\n",
       "    <tr>\n",
       "      <th>1</th>\n",
       "      <td>Data Scientist</td>\n",
       "      <td>Kolkata, Mumbai, New Delhi, Hyderabad, Pune, C...</td>\n",
       "      <td>Scienaptic Systems</td>\n",
       "      <td>2-7 Yrs</td>\n",
       "    </tr>\n",
       "    <tr>\n",
       "      <th>2</th>\n",
       "      <td>Data Scientist</td>\n",
       "      <td>Gurugram, Bengaluru</td>\n",
       "      <td>Blackbuck</td>\n",
       "      <td>3-7 Yrs</td>\n",
       "    </tr>\n",
       "    <tr>\n",
       "      <th>3</th>\n",
       "      <td>Python Data Scientist</td>\n",
       "      <td>Kolkata, Mumbai, New Delhi, Hyderabad, Pune, C...</td>\n",
       "      <td>Wizaltia Hr Solutions</td>\n",
       "      <td>2-7 Yrs</td>\n",
       "    </tr>\n",
       "    <tr>\n",
       "      <th>4</th>\n",
       "      <td>Senior Data Scientist/ Data Scientist</td>\n",
       "      <td>Mumbai, Pune, Chennai, Gurugram, Bengaluru</td>\n",
       "      <td>Neal Analytics</td>\n",
       "      <td>3-7 Yrs</td>\n",
       "    </tr>\n",
       "    <tr>\n",
       "      <th>5</th>\n",
       "      <td>Lead Data Scientist</td>\n",
       "      <td>Kolkata, Mumbai, New Delhi, Hyderabad/Secunder...</td>\n",
       "      <td>Elitefit.ai</td>\n",
       "      <td>3-7 Yrs</td>\n",
       "    </tr>\n",
       "    <tr>\n",
       "      <th>6</th>\n",
       "      <td>Associate Data Scientist</td>\n",
       "      <td>Kolkata, Mumbai, New Delhi, Hyderabad, Pune, C...</td>\n",
       "      <td>Kmart</td>\n",
       "      <td>1-2 Yrs</td>\n",
       "    </tr>\n",
       "    <tr>\n",
       "      <th>7</th>\n",
       "      <td>Associate Data Scientist</td>\n",
       "      <td>Kolkata, Mumbai, New Delhi, Hyderabad, Pune, C...</td>\n",
       "      <td>KAS Services</td>\n",
       "      <td>1-2 Yrs</td>\n",
       "    </tr>\n",
       "    <tr>\n",
       "      <th>8</th>\n",
       "      <td>Data Scientist</td>\n",
       "      <td>Kolkata, Mumbai, New Delhi, Hyderabad, Pune, C...</td>\n",
       "      <td>Fort Technologies</td>\n",
       "      <td>1-3 Yrs</td>\n",
       "    </tr>\n",
       "    <tr>\n",
       "      <th>9</th>\n",
       "      <td>Lead Customer Success - Data Scientist</td>\n",
       "      <td>Pune, Gurugram</td>\n",
       "      <td>ZS Associates</td>\n",
       "      <td>2-4 Yrs</td>\n",
       "    </tr>\n",
       "  </tbody>\n",
       "</table>\n",
       "</div>"
      ],
      "text/plain": [
       "                               JOB TITLES  \\\n",
       "0                          Data Scientist   \n",
       "1                          Data Scientist   \n",
       "2                          Data Scientist   \n",
       "3                   Python Data Scientist   \n",
       "4   Senior Data Scientist/ Data Scientist   \n",
       "5                     Lead Data Scientist   \n",
       "6                Associate Data Scientist   \n",
       "7                Associate Data Scientist   \n",
       "8                          Data Scientist   \n",
       "9  Lead Customer Success - Data Scientist   \n",
       "\n",
       "                                       JOB LOCATIONS           COMPANY NAMES  \\\n",
       "0  Kolkata, Mumbai, New Delhi, Hyderabad, Pune, C...  Kashsam Data Solutions   \n",
       "1  Kolkata, Mumbai, New Delhi, Hyderabad, Pune, C...      Scienaptic Systems   \n",
       "2                                Gurugram, Bengaluru               Blackbuck   \n",
       "3  Kolkata, Mumbai, New Delhi, Hyderabad, Pune, C...   Wizaltia Hr Solutions   \n",
       "4         Mumbai, Pune, Chennai, Gurugram, Bengaluru          Neal Analytics   \n",
       "5  Kolkata, Mumbai, New Delhi, Hyderabad/Secunder...             Elitefit.ai   \n",
       "6  Kolkata, Mumbai, New Delhi, Hyderabad, Pune, C...                   Kmart   \n",
       "7  Kolkata, Mumbai, New Delhi, Hyderabad, Pune, C...            KAS Services   \n",
       "8  Kolkata, Mumbai, New Delhi, Hyderabad, Pune, C...       Fort Technologies   \n",
       "9                                     Pune, Gurugram           ZS Associates   \n",
       "\n",
       "  EXPERIENCE REQUIRED  \n",
       "0             3-7 Yrs  \n",
       "1             2-7 Yrs  \n",
       "2             3-7 Yrs  \n",
       "3             2-7 Yrs  \n",
       "4             3-7 Yrs  \n",
       "5             3-7 Yrs  \n",
       "6             1-2 Yrs  \n",
       "7             1-2 Yrs  \n",
       "8             1-3 Yrs  \n",
       "9             2-4 Yrs  "
      ]
     },
     "execution_count": 19,
     "metadata": {},
     "output_type": "execute_result"
    }
   ],
   "source": [
    "df=pd.DataFrame({'JOB TITLES':job_titles[:10],'JOB LOCATIONS':job_locations[:10],\n",
    "                 'COMPANY NAMES':company_names[:10],'EXPERIENCE REQUIRED':experience_required[:10]})\n",
    "df"
   ]
  },
  {
   "cell_type": "code",
   "execution_count": null,
   "id": "d9fad5ee",
   "metadata": {},
   "outputs": [],
   "source": []
  },
  {
   "cell_type": "raw",
   "id": "fdc109d8",
   "metadata": {},
   "source": [
    "Q2: Write a python program to scrape data for “Data Scientist” Job position in “Bangalore” location. You have to scrape the\n",
    "job-title, job-location, company_name, experience_required. You have to scrape first 10 jobs data.\n",
    "This task will be done in following steps:\n",
    "1. First get the webpage https://www.shine.com/\n",
    "2. Enter “Data Analyst” in “Job title, Skills” field and enter “Bangalore” in “enter the location” field.\n",
    "3. Then click the searchbutton.\n",
    "4. Then scrape the data for the first 10 jobs results you get.\n",
    "5. Finally create a dataframe of the scraped data."
   ]
  },
  {
   "cell_type": "code",
   "execution_count": 20,
   "id": "22ff4688",
   "metadata": {},
   "outputs": [],
   "source": [
    "shine=webdriver.Chrome()"
   ]
  },
  {
   "cell_type": "code",
   "execution_count": 21,
   "id": "5746892e",
   "metadata": {},
   "outputs": [],
   "source": [
    "shine.get('https://www.shine.com/')"
   ]
  },
  {
   "cell_type": "code",
   "execution_count": 22,
   "id": "49a2f219",
   "metadata": {},
   "outputs": [],
   "source": [
    "job_title=shine.find_element(By.CLASS_NAME,\"form-control  \")\n",
    "job_title.send_keys('Data Analyst')"
   ]
  },
  {
   "cell_type": "code",
   "execution_count": 23,
   "id": "f2c50b53",
   "metadata": {},
   "outputs": [],
   "source": [
    "job_location=shine.find_element(By.XPATH,'/html/body/div/div[4]/div/div[2]/div[2]/div/form/div/div[1]/ul/li[2]/div/input')\n",
    "job_location.send_keys('Bangalore')"
   ]
  },
  {
   "cell_type": "code",
   "execution_count": 24,
   "id": "6a1386cc",
   "metadata": {},
   "outputs": [],
   "source": [
    "search=shine.find_element(By.XPATH,'/html/body/div/div[4]/div/div[2]/div[2]/div/form/div/div[2]/div/button')\n",
    "search.click()"
   ]
  },
  {
   "cell_type": "code",
   "execution_count": 25,
   "id": "f4d3fdec",
   "metadata": {},
   "outputs": [],
   "source": [
    "job_titles=[]\n",
    "job_locations=[]\n",
    "company_names=[]\n",
    "experience_required=[]"
   ]
  },
  {
   "cell_type": "code",
   "execution_count": 26,
   "id": "f07fb18f",
   "metadata": {},
   "outputs": [
    {
     "name": "stdout",
     "output_type": "stream",
     "text": [
      "['Data Analyst Recruitment', 'Data Analyst Recruitment', 'Data Analyst (Power BI, Python, SQL)- Internal Audit do ...', 'Clinical Data Analyst', 'Data Analyst', 'Data Engineer Ii', 'Data Governance Analyst', 'Data Analyst', 'Data Engineer Ii', 'Hiring For Data Analyst', 'Business Analyst', 'Business Analyst', 'Azure Data engineer', 'Clinical Data Analyst', 'Oracle Utilities (customer care & Billing) CC&B Busines ...', 'Clinical Data Analyst', 'Clinical Coding Analyst', 'Data Executive karnataka', 'Online Data Entry work (Work from Home)', 'Business Analyst Opening']\n"
     ]
    }
   ],
   "source": [
    "title_tags=shine.find_elements(By.XPATH,'//strong[@class=\"jobCard_pReplaceH2__xWmHg\"]/a')\n",
    "for t in title_tags:\n",
    "    tit=t.text\n",
    "    job_titles.append(tit)\n",
    "print(job_titles)"
   ]
  },
  {
   "cell_type": "code",
   "execution_count": 27,
   "id": "a6b83c7a",
   "metadata": {},
   "outputs": [
    {
     "name": "stdout",
     "output_type": "stream",
     "text": [
      "20\n"
     ]
    }
   ],
   "source": [
    "print(len(job_titles))"
   ]
  },
  {
   "cell_type": "code",
   "execution_count": 28,
   "id": "3ac5349d",
   "metadata": {},
   "outputs": [
    {
     "name": "stdout",
     "output_type": "stream",
     "text": [
      "['Bangalore\\n+12', 'Bangalore\\n+12', 'Bangalore', 'Bangalore\\n+6', 'Bangalore\\n+9', 'Bangalore\\n+9', 'Bangalore', 'Bangalore\\n+9', 'Bangalore\\n+9', 'Bangalore\\n+12', 'Bangalore\\n+9', 'Bangalore', 'Bangalore\\n+4', 'Bangalore\\n+6', 'Bangalore\\n+2', 'Bangalore\\n+6', 'Bangalore\\n+8', 'Bangalore\\n+9', 'Bangalore\\n+9', 'Bangalore\\n+13']\n"
     ]
    }
   ],
   "source": [
    "location_tags=shine.find_elements(By.XPATH,'//div[@class=\" jobCard_jobCard_lists_item__YxRkV jobCard_locationIcon__zrWt2\"]')\n",
    "for l in location_tags:\n",
    "    loc=l.text\n",
    "    job_locations.append(loc)\n",
    "print(job_locations)"
   ]
  },
  {
   "cell_type": "code",
   "execution_count": 29,
   "id": "5519cc15",
   "metadata": {},
   "outputs": [
    {
     "name": "stdout",
     "output_type": "stream",
     "text": [
      "20\n"
     ]
    }
   ],
   "source": [
    "print(len(job_locations))"
   ]
  },
  {
   "cell_type": "code",
   "execution_count": 30,
   "id": "6eead2e9",
   "metadata": {},
   "outputs": [
    {
     "name": "stdout",
     "output_type": "stream",
     "text": [
      "['radhika enterprises', 'radhika enterprises', 'talent leads hr solutions pvt ltd', 'techno endura', 'sahast sales corporation', 'v-tech data outsourcing', 'white horse manpower consultancy (p...', 'sahast sales corporation', 'v-tech data outsourcing', 'radhika enterprises', 'sunita agri exports private limited', 'wehyre business consultancy', 'capgemini technology services india...', 'techno endura', 'ltimindtree limited', 'techno endura', 'acura solutions. hiring for clinica...', 'v-tech data outsourcing', 'aspect solution', 'divya staffing solution']\n"
     ]
    }
   ],
   "source": [
    "company_tags=shine.find_elements(By.XPATH,'//div[@class=\"jobCard_jobCard_cName__mYnow\"]/span')\n",
    "for c in company_tags:\n",
    "    com=c.text\n",
    "    company_names.append(com)\n",
    "print(company_names)"
   ]
  },
  {
   "cell_type": "code",
   "execution_count": 31,
   "id": "bb3846c0",
   "metadata": {},
   "outputs": [
    {
     "name": "stdout",
     "output_type": "stream",
     "text": [
      "20\n"
     ]
    }
   ],
   "source": [
    "print(len(company_names))"
   ]
  },
  {
   "cell_type": "code",
   "execution_count": 32,
   "id": "6978bbae",
   "metadata": {},
   "outputs": [
    {
     "name": "stdout",
     "output_type": "stream",
     "text": [
      "['0 to 4 Yrs', '0 to 4 Yrs', '3 to 8 Yrs', '0 to 1 Yr', '12 to 22 Yrs', '0 to 1 Yr', '5 to 8 Yrs', '12 to 22 Yrs', '0 to 1 Yr', '0 to 4 Yrs', '7 to 12 Yrs', '2 to 7 Yrs', '6 to 10 Yrs', '0 to 1 Yr', '5 to 9 Yrs', '0 to 1 Yr', '3 to 5 Yrs', '0 to 1 Yr', '0 to 1 Yr', '0 to 4 Yrs']\n"
     ]
    }
   ],
   "source": [
    "experience_tags=shine.find_elements(By.XPATH,'//div[@class=\" jobCard_jobCard_lists_item__YxRkV jobCard_jobIcon__3FB1t\"]')\n",
    "for e in experience_tags:\n",
    "    exp=e.text\n",
    "    experience_required.append(exp)\n",
    "print(experience_required)"
   ]
  },
  {
   "cell_type": "code",
   "execution_count": 33,
   "id": "61317224",
   "metadata": {},
   "outputs": [
    {
     "name": "stdout",
     "output_type": "stream",
     "text": [
      "20\n"
     ]
    }
   ],
   "source": [
    "print(len(experience_required))"
   ]
  },
  {
   "cell_type": "code",
   "execution_count": 34,
   "id": "624df2a8",
   "metadata": {},
   "outputs": [
    {
     "data": {
      "text/html": [
       "<div>\n",
       "<style scoped>\n",
       "    .dataframe tbody tr th:only-of-type {\n",
       "        vertical-align: middle;\n",
       "    }\n",
       "\n",
       "    .dataframe tbody tr th {\n",
       "        vertical-align: top;\n",
       "    }\n",
       "\n",
       "    .dataframe thead th {\n",
       "        text-align: right;\n",
       "    }\n",
       "</style>\n",
       "<table border=\"1\" class=\"dataframe\">\n",
       "  <thead>\n",
       "    <tr style=\"text-align: right;\">\n",
       "      <th></th>\n",
       "      <th>JOB TITLES</th>\n",
       "      <th>JOB LOCATIONS</th>\n",
       "      <th>COMPANY NAMES</th>\n",
       "      <th>EXPERIENCE REQUIRED</th>\n",
       "    </tr>\n",
       "  </thead>\n",
       "  <tbody>\n",
       "    <tr>\n",
       "      <th>0</th>\n",
       "      <td>Data Analyst Recruitment</td>\n",
       "      <td>Bangalore\\n+12</td>\n",
       "      <td>radhika enterprises</td>\n",
       "      <td>0 to 4 Yrs</td>\n",
       "    </tr>\n",
       "    <tr>\n",
       "      <th>1</th>\n",
       "      <td>Data Analyst Recruitment</td>\n",
       "      <td>Bangalore\\n+12</td>\n",
       "      <td>radhika enterprises</td>\n",
       "      <td>0 to 4 Yrs</td>\n",
       "    </tr>\n",
       "    <tr>\n",
       "      <th>2</th>\n",
       "      <td>Data Analyst (Power BI, Python, SQL)- Internal...</td>\n",
       "      <td>Bangalore</td>\n",
       "      <td>talent leads hr solutions pvt ltd</td>\n",
       "      <td>3 to 8 Yrs</td>\n",
       "    </tr>\n",
       "    <tr>\n",
       "      <th>3</th>\n",
       "      <td>Clinical Data Analyst</td>\n",
       "      <td>Bangalore\\n+6</td>\n",
       "      <td>techno endura</td>\n",
       "      <td>0 to 1 Yr</td>\n",
       "    </tr>\n",
       "    <tr>\n",
       "      <th>4</th>\n",
       "      <td>Data Analyst</td>\n",
       "      <td>Bangalore\\n+9</td>\n",
       "      <td>sahast sales corporation</td>\n",
       "      <td>12 to 22 Yrs</td>\n",
       "    </tr>\n",
       "    <tr>\n",
       "      <th>5</th>\n",
       "      <td>Data Engineer Ii</td>\n",
       "      <td>Bangalore\\n+9</td>\n",
       "      <td>v-tech data outsourcing</td>\n",
       "      <td>0 to 1 Yr</td>\n",
       "    </tr>\n",
       "    <tr>\n",
       "      <th>6</th>\n",
       "      <td>Data Governance Analyst</td>\n",
       "      <td>Bangalore</td>\n",
       "      <td>white horse manpower consultancy (p...</td>\n",
       "      <td>5 to 8 Yrs</td>\n",
       "    </tr>\n",
       "    <tr>\n",
       "      <th>7</th>\n",
       "      <td>Data Analyst</td>\n",
       "      <td>Bangalore\\n+9</td>\n",
       "      <td>sahast sales corporation</td>\n",
       "      <td>12 to 22 Yrs</td>\n",
       "    </tr>\n",
       "    <tr>\n",
       "      <th>8</th>\n",
       "      <td>Data Engineer Ii</td>\n",
       "      <td>Bangalore\\n+9</td>\n",
       "      <td>v-tech data outsourcing</td>\n",
       "      <td>0 to 1 Yr</td>\n",
       "    </tr>\n",
       "    <tr>\n",
       "      <th>9</th>\n",
       "      <td>Hiring For Data Analyst</td>\n",
       "      <td>Bangalore\\n+12</td>\n",
       "      <td>radhika enterprises</td>\n",
       "      <td>0 to 4 Yrs</td>\n",
       "    </tr>\n",
       "  </tbody>\n",
       "</table>\n",
       "</div>"
      ],
      "text/plain": [
       "                                          JOB TITLES   JOB LOCATIONS  \\\n",
       "0                           Data Analyst Recruitment  Bangalore\\n+12   \n",
       "1                           Data Analyst Recruitment  Bangalore\\n+12   \n",
       "2  Data Analyst (Power BI, Python, SQL)- Internal...       Bangalore   \n",
       "3                              Clinical Data Analyst   Bangalore\\n+6   \n",
       "4                                       Data Analyst   Bangalore\\n+9   \n",
       "5                                   Data Engineer Ii   Bangalore\\n+9   \n",
       "6                            Data Governance Analyst       Bangalore   \n",
       "7                                       Data Analyst   Bangalore\\n+9   \n",
       "8                                   Data Engineer Ii   Bangalore\\n+9   \n",
       "9                            Hiring For Data Analyst  Bangalore\\n+12   \n",
       "\n",
       "                            COMPANY NAMES EXPERIENCE REQUIRED  \n",
       "0                     radhika enterprises          0 to 4 Yrs  \n",
       "1                     radhika enterprises          0 to 4 Yrs  \n",
       "2       talent leads hr solutions pvt ltd          3 to 8 Yrs  \n",
       "3                           techno endura           0 to 1 Yr  \n",
       "4                sahast sales corporation        12 to 22 Yrs  \n",
       "5                 v-tech data outsourcing           0 to 1 Yr  \n",
       "6  white horse manpower consultancy (p...          5 to 8 Yrs  \n",
       "7                sahast sales corporation        12 to 22 Yrs  \n",
       "8                 v-tech data outsourcing           0 to 1 Yr  \n",
       "9                     radhika enterprises          0 to 4 Yrs  "
      ]
     },
     "execution_count": 34,
     "metadata": {},
     "output_type": "execute_result"
    }
   ],
   "source": [
    "df=pd.DataFrame({'JOB TITLES':job_titles[0:10],'JOB LOCATIONS':job_locations[0:10],\n",
    "                 'COMPANY NAMES':company_names[0:10],'EXPERIENCE REQUIRED':experience_required[:10]})\n",
    "df"
   ]
  },
  {
   "cell_type": "code",
   "execution_count": null,
   "id": "98edaa30",
   "metadata": {},
   "outputs": [],
   "source": []
  },
  {
   "cell_type": "raw",
   "id": "2438d7b2",
   "metadata": {},
   "source": [
    "Q3: Scrape 100 reviews data from flipkart.com for iphone11 phone. You have to go the link:\n",
    "\n",
    "https://www.flipkart.com/apple-iphone-11-black-64-gb/product-\n",
    "reviews/itm4e5041ba101fd?pid=MOBFWQ6BXGJCEYNY&lid=LSTMOBFWQ6BXGJCEYNYZXSHRJ&marketplace=F\n",
    "\n",
    "LIPKART\n",
    "As shown in the above page you have to scrape the tick marked attributes. These are:\n",
    "1. Rating\n",
    "2. Review summary\n",
    "3. Full review\n",
    "4. You have to scrape this data for first 100reviews."
   ]
  },
  {
   "cell_type": "code",
   "execution_count": 35,
   "id": "094ca7ff",
   "metadata": {},
   "outputs": [],
   "source": [
    "import time"
   ]
  },
  {
   "cell_type": "code",
   "execution_count": 70,
   "id": "cbde6f80",
   "metadata": {},
   "outputs": [],
   "source": [
    "flipkart=webdriver.Chrome()"
   ]
  },
  {
   "cell_type": "code",
   "execution_count": 71,
   "id": "69ce1194",
   "metadata": {},
   "outputs": [],
   "source": [
    "flipkart.get('https://www.flipkart.com/apple-iphone-11-black-64-gb/product-reviews/itm4e5041ba101fd?pid=MOBFWQ6BXGJCEYNY&lid=LSTMOBFWQ6BXGJCEYNYZXSHRJ&marketplace=FLIPKART')"
   ]
  },
  {
   "cell_type": "code",
   "execution_count": 72,
   "id": "e21731c1",
   "metadata": {},
   "outputs": [
    {
     "name": "stdout",
     "output_type": "stream",
     "text": [
      "['5', '5', '5', '5', '5', '5', '5', '5', '5', '5', '5', '5', '5', '5', '5', '5', '5', '5', '5', '5', '5', '5', '5', '5', '5', '5', '5', '5', '5', '5', '5', '5', '5', '5', '5', '5', '5', '5', '5', '5', '5', '5', '5', '5', '5', '5', '5', '5', '5', '5', '5', '5', '5', '5', '5', '5', '5', '5', '5', '5', '5', '5', '5', '5', '5', '5', '5', '5', '5', '5', '5', '5', '5', '5', '5', '5', '5', '5', '5', '5', '5', '5', '5', '5', '5', '5', '5', '5', '5', '5', '5', '5', '5', '5', '5', '5', '5', '5', '5', '5', '5', '5', '5', '5', '5', '5', '5', '5', '5', '5']\n"
     ]
    }
   ],
   "source": [
    "ratings=[]\n",
    "start=1\n",
    "end=12\n",
    "for page in range(start,end):\n",
    "    rating_tags=flipkart.find_elements(By.XPATH,'//div[@class=\"_3LWZlK _1BLPMq\"]')\n",
    "    for i in rating_tags:\n",
    "        rat=i.text\n",
    "        ratings.append(rat)\n",
    "next_button=flipkart.find_element(By.XPATH,'/html/body/div/div/div[3]/div/div/div[2]/div[13]/div/div/nav/a[11]')\n",
    "next_button.click()\n",
    "time.sleep(12)\n",
    "print(ratings)"
   ]
  },
  {
   "cell_type": "code",
   "execution_count": 73,
   "id": "df8913bc",
   "metadata": {},
   "outputs": [
    {
     "name": "stdout",
     "output_type": "stream",
     "text": [
      "110\n"
     ]
    }
   ],
   "source": [
    "print(len(ratings))"
   ]
  },
  {
   "cell_type": "code",
   "execution_count": 74,
   "id": "58e841fb",
   "metadata": {},
   "outputs": [],
   "source": [
    "page_1=flipkart.find_element(By.XPATH,'/html/body/div/div/div[3]/div/div/div[2]/div[13]/div/div/nav/a[2]')\n",
    "page_1.click()"
   ]
  },
  {
   "cell_type": "code",
   "execution_count": 75,
   "id": "2a7171f2",
   "metadata": {},
   "outputs": [
    {
     "name": "stdout",
     "output_type": "stream",
     "text": [
      "['Perfect product!', 'Wonderful', 'Best in the market!', 'Worth every penny', 'Terrific purchase', 'Must buy!', 'Terrific', 'Classy product', 'Just wow!', 'Fabulous!', 'Perfect product!', 'Wonderful', 'Best in the market!', 'Worth every penny', 'Terrific purchase', 'Must buy!', 'Terrific', 'Classy product', 'Just wow!', 'Fabulous!', 'Perfect product!', 'Wonderful', 'Best in the market!', 'Worth every penny', 'Terrific purchase', 'Must buy!', 'Terrific', 'Classy product', 'Just wow!', 'Fabulous!', 'Perfect product!', 'Wonderful', 'Best in the market!', 'Worth every penny', 'Terrific purchase', 'Must buy!', 'Terrific', 'Classy product', 'Just wow!', 'Fabulous!', 'Perfect product!', 'Wonderful', 'Best in the market!', 'Worth every penny', 'Terrific purchase', 'Must buy!', 'Terrific', 'Classy product', 'Just wow!', 'Fabulous!', 'Perfect product!', 'Wonderful', 'Best in the market!', 'Worth every penny', 'Terrific purchase', 'Must buy!', 'Terrific', 'Classy product', 'Just wow!', 'Fabulous!', 'Perfect product!', 'Wonderful', 'Best in the market!', 'Worth every penny', 'Terrific purchase', 'Must buy!', 'Terrific', 'Classy product', 'Just wow!', 'Fabulous!', 'Perfect product!', 'Wonderful', 'Best in the market!', 'Worth every penny', 'Terrific purchase', 'Must buy!', 'Terrific', 'Classy product', 'Just wow!', 'Fabulous!', 'Perfect product!', 'Wonderful', 'Best in the market!', 'Worth every penny', 'Terrific purchase', 'Must buy!', 'Terrific', 'Classy product', 'Just wow!', 'Fabulous!', 'Perfect product!', 'Wonderful', 'Best in the market!', 'Worth every penny', 'Terrific purchase', 'Must buy!', 'Terrific', 'Classy product', 'Just wow!', 'Fabulous!', 'Perfect product!', 'Wonderful', 'Best in the market!', 'Worth every penny', 'Terrific purchase', 'Must buy!', 'Terrific', 'Classy product', 'Just wow!', 'Fabulous!']\n"
     ]
    }
   ],
   "source": [
    "review_summary=[]\n",
    "start=1\n",
    "end=12\n",
    "for page in range(start,end):\n",
    "    review_tags=flipkart.find_elements(By.XPATH,'//p[@class=\"_2-N8zT\"]')\n",
    "    for i in review_tags:\n",
    "        rew=i.text\n",
    "        review_summary.append(rew)\n",
    "next_button=flipkart.find_element(By.XPATH,'/html/body/div/div/div[3]/div/div/div[2]/div[13]/div/div/nav/a[11]/span')\n",
    "next_button.click()\n",
    "time.sleep(12)\n",
    "print(review_summary)"
   ]
  },
  {
   "cell_type": "code",
   "execution_count": 76,
   "id": "b5dd60ab",
   "metadata": {},
   "outputs": [
    {
     "name": "stdout",
     "output_type": "stream",
     "text": [
      "110\n"
     ]
    }
   ],
   "source": [
    "print(len(review_summary))"
   ]
  },
  {
   "cell_type": "code",
   "execution_count": 77,
   "id": "10db4430",
   "metadata": {},
   "outputs": [],
   "source": [
    "page_1=flipkart.find_element(By.XPATH,'/html/body/div/div/div[3]/div/div/div[2]/div[13]/div/div/nav/a[2]')\n",
    "page_1.click()"
   ]
  },
  {
   "cell_type": "code",
   "execution_count": 78,
   "id": "627d28f8",
   "metadata": {},
   "outputs": [
    {
     "name": "stdout",
     "output_type": "stream",
     "text": [
      "['Photos super', 'This is amazing at all', 'Good Camera', 'Feeling awesome after getting the delivery of my phone. Dual speakers makes the sound quality very loud. Amazing!!', 'Value for money 😍', 'It’s really awesome', 'Very very good', 'Camera is awesome\\nBest battery backup\\nA performer 👌🏻\\nIt will be a real value for money if they provide charger and earphone inbox!', 'Perfect Product!!', 'Super🔥 and good performance 👌❤️', 'Photos super', 'This is amazing at all', 'Good Camera', 'Feeling awesome after getting the delivery of my phone. Dual speakers makes the sound quality very loud. Amazing!!', 'Value for money 😍', 'It’s really awesome', 'Very very good', 'Camera is awesome\\nBest battery backup\\nA performer 👌🏻\\nIt will be a real value for money if they provide charger and earphone inbox!', 'Perfect Product!!', 'Super🔥 and good performance 👌❤️', 'Photos super', 'This is amazing at all', 'Good Camera', 'Feeling awesome after getting the delivery of my phone. Dual speakers makes the sound quality very loud. Amazing!!', 'Value for money 😍', 'It’s really awesome', 'Very very good', 'Camera is awesome\\nBest battery backup\\nA performer 👌🏻\\nIt will be a real value for money if they provide charger and earphone inbox!', 'Perfect Product!!', 'Super🔥 and good performance 👌❤️', 'Photos super', 'This is amazing at all', 'Good Camera', 'Feeling awesome after getting the delivery of my phone. Dual speakers makes the sound quality very loud. Amazing!!', 'Value for money 😍', 'It’s really awesome', 'Very very good', 'Camera is awesome\\nBest battery backup\\nA performer 👌🏻\\nIt will be a real value for money if they provide charger and earphone inbox!', 'Perfect Product!!', 'Super🔥 and good performance 👌❤️', 'Photos super', 'This is amazing at all', 'Good Camera', 'Feeling awesome after getting the delivery of my phone. Dual speakers makes the sound quality very loud. Amazing!!', 'Value for money 😍', 'It’s really awesome', 'Very very good', 'Camera is awesome\\nBest battery backup\\nA performer 👌🏻\\nIt will be a real value for money if they provide charger and earphone inbox!', 'Perfect Product!!', 'Super🔥 and good performance 👌❤️', 'Photos super', 'This is amazing at all', 'Good Camera', 'Feeling awesome after getting the delivery of my phone. Dual speakers makes the sound quality very loud. Amazing!!', 'Value for money 😍', 'It’s really awesome', 'Very very good', 'Camera is awesome\\nBest battery backup\\nA performer 👌🏻\\nIt will be a real value for money if they provide charger and earphone inbox!', 'Perfect Product!!', 'Super🔥 and good performance 👌❤️', 'Photos super', 'This is amazing at all', 'Good Camera', 'Feeling awesome after getting the delivery of my phone. Dual speakers makes the sound quality very loud. Amazing!!', 'Value for money 😍', 'It’s really awesome', 'Very very good', 'Camera is awesome\\nBest battery backup\\nA performer 👌🏻\\nIt will be a real value for money if they provide charger and earphone inbox!', 'Perfect Product!!', 'Super🔥 and good performance 👌❤️', 'Photos super', 'This is amazing at all', 'Good Camera', 'Feeling awesome after getting the delivery of my phone. Dual speakers makes the sound quality very loud. Amazing!!', 'Value for money 😍', 'It’s really awesome', 'Very very good', 'Camera is awesome\\nBest battery backup\\nA performer 👌🏻\\nIt will be a real value for money if they provide charger and earphone inbox!', 'Perfect Product!!', 'Super🔥 and good performance 👌❤️', 'Photos super', 'This is amazing at all', 'Good Camera', 'Feeling awesome after getting the delivery of my phone. Dual speakers makes the sound quality very loud. Amazing!!', 'Value for money 😍', 'It’s really awesome', 'Very very good', 'Camera is awesome\\nBest battery backup\\nA performer 👌🏻\\nIt will be a real value for money if they provide charger and earphone inbox!', 'Perfect Product!!', 'Super🔥 and good performance 👌❤️', 'Photos super', 'This is amazing at all', 'Good Camera', 'Feeling awesome after getting the delivery of my phone. Dual speakers makes the sound quality very loud. Amazing!!', 'Value for money 😍', 'It’s really awesome', 'Very very good', 'Camera is awesome\\nBest battery backup\\nA performer 👌🏻\\nIt will be a real value for money if they provide charger and earphone inbox!', 'Perfect Product!!', 'Super🔥 and good performance 👌❤️', 'Photos super', 'This is amazing at all', 'Good Camera', 'Feeling awesome after getting the delivery of my phone. Dual speakers makes the sound quality very loud. Amazing!!', 'Value for money 😍', 'It’s really awesome', 'Very very good', 'Camera is awesome\\nBest battery backup\\nA performer 👌🏻\\nIt will be a real value for money if they provide charger and earphone inbox!', 'Perfect Product!!', 'Super🔥 and good performance 👌❤️']\n"
     ]
    }
   ],
   "source": [
    "full_reviews=[]\n",
    "start=1\n",
    "end=12\n",
    "for page in range(start,end):\n",
    "    fullreview_tags=flipkart.find_elements(By.XPATH,'//div[@class=\"t-ZTKy\"]')\n",
    "    for i in fullreview_tags:\n",
    "        full_reviews.append(i.text)\n",
    "next_button=flipkart.find_element(By.XPATH,'/html/body/div/div/div[3]/div/div/div[2]/div[13]/div/div/nav/a[11]')\n",
    "next_button.click()\n",
    "time.sleep(12)\n",
    "print(full_reviews)"
   ]
  },
  {
   "cell_type": "code",
   "execution_count": 79,
   "id": "f3720fc2",
   "metadata": {},
   "outputs": [
    {
     "name": "stdout",
     "output_type": "stream",
     "text": [
      "110\n"
     ]
    }
   ],
   "source": [
    "print(len(full_reviews))"
   ]
  },
  {
   "cell_type": "code",
   "execution_count": 80,
   "id": "aaf84892",
   "metadata": {},
   "outputs": [
    {
     "data": {
      "text/html": [
       "<div>\n",
       "<style scoped>\n",
       "    .dataframe tbody tr th:only-of-type {\n",
       "        vertical-align: middle;\n",
       "    }\n",
       "\n",
       "    .dataframe tbody tr th {\n",
       "        vertical-align: top;\n",
       "    }\n",
       "\n",
       "    .dataframe thead th {\n",
       "        text-align: right;\n",
       "    }\n",
       "</style>\n",
       "<table border=\"1\" class=\"dataframe\">\n",
       "  <thead>\n",
       "    <tr style=\"text-align: right;\">\n",
       "      <th></th>\n",
       "      <th>RATINGS</th>\n",
       "      <th>REVIEWS</th>\n",
       "      <th>FULL REVIEWS</th>\n",
       "    </tr>\n",
       "  </thead>\n",
       "  <tbody>\n",
       "    <tr>\n",
       "      <th>0</th>\n",
       "      <td>5</td>\n",
       "      <td>Perfect product!</td>\n",
       "      <td>Photos super</td>\n",
       "    </tr>\n",
       "    <tr>\n",
       "      <th>1</th>\n",
       "      <td>5</td>\n",
       "      <td>Wonderful</td>\n",
       "      <td>This is amazing at all</td>\n",
       "    </tr>\n",
       "    <tr>\n",
       "      <th>2</th>\n",
       "      <td>5</td>\n",
       "      <td>Best in the market!</td>\n",
       "      <td>Good Camera</td>\n",
       "    </tr>\n",
       "    <tr>\n",
       "      <th>3</th>\n",
       "      <td>5</td>\n",
       "      <td>Worth every penny</td>\n",
       "      <td>Feeling awesome after getting the delivery of ...</td>\n",
       "    </tr>\n",
       "    <tr>\n",
       "      <th>4</th>\n",
       "      <td>5</td>\n",
       "      <td>Terrific purchase</td>\n",
       "      <td>Value for money 😍</td>\n",
       "    </tr>\n",
       "    <tr>\n",
       "      <th>...</th>\n",
       "      <td>...</td>\n",
       "      <td>...</td>\n",
       "      <td>...</td>\n",
       "    </tr>\n",
       "    <tr>\n",
       "      <th>95</th>\n",
       "      <td>5</td>\n",
       "      <td>Must buy!</td>\n",
       "      <td>It’s really awesome</td>\n",
       "    </tr>\n",
       "    <tr>\n",
       "      <th>96</th>\n",
       "      <td>5</td>\n",
       "      <td>Terrific</td>\n",
       "      <td>Very very good</td>\n",
       "    </tr>\n",
       "    <tr>\n",
       "      <th>97</th>\n",
       "      <td>5</td>\n",
       "      <td>Classy product</td>\n",
       "      <td>Camera is awesome\\nBest battery backup\\nA perf...</td>\n",
       "    </tr>\n",
       "    <tr>\n",
       "      <th>98</th>\n",
       "      <td>5</td>\n",
       "      <td>Just wow!</td>\n",
       "      <td>Perfect Product!!</td>\n",
       "    </tr>\n",
       "    <tr>\n",
       "      <th>99</th>\n",
       "      <td>5</td>\n",
       "      <td>Fabulous!</td>\n",
       "      <td>Super🔥 and good performance 👌❤️</td>\n",
       "    </tr>\n",
       "  </tbody>\n",
       "</table>\n",
       "<p>100 rows × 3 columns</p>\n",
       "</div>"
      ],
      "text/plain": [
       "   RATINGS              REVIEWS  \\\n",
       "0        5     Perfect product!   \n",
       "1        5            Wonderful   \n",
       "2        5  Best in the market!   \n",
       "3        5    Worth every penny   \n",
       "4        5    Terrific purchase   \n",
       "..     ...                  ...   \n",
       "95       5            Must buy!   \n",
       "96       5             Terrific   \n",
       "97       5       Classy product   \n",
       "98       5            Just wow!   \n",
       "99       5            Fabulous!   \n",
       "\n",
       "                                         FULL REVIEWS  \n",
       "0                                        Photos super  \n",
       "1                              This is amazing at all  \n",
       "2                                         Good Camera  \n",
       "3   Feeling awesome after getting the delivery of ...  \n",
       "4                                   Value for money 😍  \n",
       "..                                                ...  \n",
       "95                                It’s really awesome  \n",
       "96                                     Very very good  \n",
       "97  Camera is awesome\\nBest battery backup\\nA perf...  \n",
       "98                                  Perfect Product!!  \n",
       "99                    Super🔥 and good performance 👌❤️  \n",
       "\n",
       "[100 rows x 3 columns]"
      ]
     },
     "execution_count": 80,
     "metadata": {},
     "output_type": "execute_result"
    }
   ],
   "source": [
    "df=pd.DataFrame({'RATINGS':ratings[:100],'REVIEWS':review_summary[:100],'FULL REVIEWS':full_reviews[:100]})\n",
    "df"
   ]
  },
  {
   "cell_type": "code",
   "execution_count": null,
   "id": "001d57f0",
   "metadata": {},
   "outputs": [],
   "source": []
  },
  {
   "cell_type": "raw",
   "id": "e23640f9",
   "metadata": {},
   "source": [
    "Q4: Scrape data for first 100 sneakers you find when you visit flipkart.com and search for “sneakers” inthe search\n",
    "field.\n",
    "You have to scrape 3 attributes of each sneaker:\n",
    "1. Brand\n",
    "2. ProductDescription\n",
    "3. Price\n",
    "As shown in the below image, you have to scrape the above attributes."
   ]
  },
  {
   "cell_type": "code",
   "execution_count": 84,
   "id": "f75707cc",
   "metadata": {},
   "outputs": [],
   "source": [
    "driver=webdriver.Chrome()"
   ]
  },
  {
   "cell_type": "code",
   "execution_count": 85,
   "id": "0f2bdfe3",
   "metadata": {},
   "outputs": [],
   "source": [
    "driver.get('https://www.flipkart.com/apple-iphone-11-black-64-gb/product-reviews/itm4e5041ba101fd?pid=MOBFWQ6BXGJCEYNY&lid=LSTMOBFWQ6BXGJCEYNYZXSHRJ&marketplace=FLIPKART')"
   ]
  },
  {
   "cell_type": "code",
   "execution_count": 86,
   "id": "7a6e908c",
   "metadata": {},
   "outputs": [],
   "source": [
    "product=driver.find_element(By.CLASS_NAME,\"_3704LK\")\n",
    "product.send_keys('sneakers')"
   ]
  },
  {
   "cell_type": "code",
   "execution_count": 87,
   "id": "9e0fbd47",
   "metadata": {},
   "outputs": [],
   "source": [
    "search=driver.find_element(By.XPATH,'/html/body/div/div/div[1]/div[1]/div[2]/div[2]/form/div/button')\n",
    "search.click()"
   ]
  },
  {
   "cell_type": "code",
   "execution_count": 88,
   "id": "f8e38050",
   "metadata": {},
   "outputs": [
    {
     "name": "stdout",
     "output_type": "stream",
     "text": [
      "['Aeonik', 'BRUTON', 'URBANBOX', 'Deals4you', 'RapidBox', 'Robbie jones', 'BRUTON', 'BRUTON', 'Hilux', 'asian', 'T-ROCK', 'aadi', 'PUMA', 'PUMA', 'SOLETHREADS REBEL', 'asian', 'Aeonik', 'Converse', 'RED TAPE', 'M7 By Metronaut', 'BRUTON', 'BRUTON', 'URBANBOX', 'RED TAPE', 'Peelu', 'PUMA', 'Aeonik', 'BRUTON', 'RED TAPE', 'Abros', 'ATORE', 'Kraasa', 'HOTSTYLE', 'aadi', 'Asics', 'Abros', 'BRUTON', 'T-ROCK', 'PUMA', 'CLYMB', 'Aeonik', 'BRUTON', 'URBANBOX', 'Deals4you', 'RapidBox', 'Robbie jones', 'BRUTON', 'BRUTON', 'Hilux', 'asian', 'T-ROCK', 'aadi', 'PUMA', 'PUMA', 'SOLETHREADS REBEL', 'asian', 'Aeonik', 'Converse', 'RED TAPE', 'M7 By Metronaut', 'BRUTON', 'BRUTON', 'URBANBOX', 'RED TAPE', 'Peelu', 'PUMA', 'Aeonik', 'BRUTON', 'RED TAPE', 'Abros', 'ATORE', 'Kraasa', 'HOTSTYLE', 'aadi', 'Asics', 'Abros', 'BRUTON', 'T-ROCK', 'PUMA', 'CLYMB', 'Aeonik', 'BRUTON', 'URBANBOX', 'Deals4you', 'RapidBox', 'Robbie jones', 'BRUTON', 'BRUTON', 'Hilux', 'asian', 'T-ROCK', 'aadi', 'PUMA', 'PUMA', 'SOLETHREADS REBEL', 'asian', 'Aeonik', 'Converse', 'RED TAPE', 'M7 By Metronaut', 'BRUTON', 'BRUTON', 'URBANBOX', 'RED TAPE', 'Peelu', 'PUMA', 'Aeonik', 'BRUTON', 'RED TAPE', 'Abros', 'ATORE', 'Kraasa', 'HOTSTYLE', 'aadi', 'Asics', 'Abros', 'BRUTON', 'T-ROCK', 'PUMA', 'CLYMB']\n"
     ]
    }
   ],
   "source": [
    "brand=[]\n",
    "start=1\n",
    "end=4\n",
    "for page in range(start,end):\n",
    "    brand_tags=driver.find_elements(By.XPATH,'//div[@class=\"_2WkVRV\"]')\n",
    "    for i in brand_tags:\n",
    "        brand.append(i.text)\n",
    "next_button=driver.find_element(By.CLASS_NAME,'_1LKTO3')\n",
    "next_button.click\n",
    "time.sleep(4)\n",
    "print(brand)"
   ]
  },
  {
   "cell_type": "code",
   "execution_count": 89,
   "id": "696054d6",
   "metadata": {},
   "outputs": [
    {
     "name": "stdout",
     "output_type": "stream",
     "text": [
      "120\n"
     ]
    }
   ],
   "source": [
    "print(len(brand))"
   ]
  },
  {
   "cell_type": "code",
   "execution_count": 96,
   "id": "27c30fcf",
   "metadata": {},
   "outputs": [],
   "source": [
    "page_1=driver.find_element(By.XPATH,'/html/body/div/div/div[3]/div[1]/div[2]/div[12]/div/div/nav/a[1]')\n",
    "page_1.click()"
   ]
  },
  {
   "cell_type": "code",
   "execution_count": 97,
   "id": "f45a686e",
   "metadata": {},
   "outputs": [
    {
     "name": "stdout",
     "output_type": "stream",
     "text": [
      "['OGIY RETRO SHOES HIGH PREMIUM QUALITY Sneakers For Men', 'Combo Pack Of 4 Casual Loafer Shoes Sneakers For Men', 'Trending Stylish Casual Outdoor Shoes Sneakers For Men', 'Sneakers For Women', 'Color Block Sneakers For Men', 'Casual Sneakers Colour Blocked Shoes For Boys And Men S...', 'Combo Pack Of 2 Casual Shoes Sneakers For Men', 'Combo Pack Of 2 Casual Shoes Sneakers For Men', 'Sneakers For Women', 'Sneaker Casual Shoes For Men | Soft Cushion Insole || B...', 'Stylish men shoes Sneakers For Men', 'Mesh |Lightweight|Comfort|Summer|Trendy|Walking|Outdoor...', 'Player Sneakers For Men', 'Rideric Sneakers For Men', 'Sneakers For Men', 'Casual Sneakers Shoes for Men | Soft Cushioned Insole, ...', 'OGIY RETRO SHOES HIGH PREMIUM QUALITY Sneakers For Men', 'Sneakers For Men', 'Carnival-02 Mens High Top Casual Chunky Sneakers Sneake...', 'CLAIRE-01 Sneakers For Women', 'Men Combo Pack of 2 Casual & Sneaker Shoes (Loafer Shoe...', 'Men Combo Pack of 2 Sports Shoes & Casual Sneakers For ...', 'Stylish & Trending Outdoor Walking Comfortable Sneakers...', 'Casual Sneakers Shoes for Men | Soft Cushioned Insole, ...', 'NEW OGIY RETRO SHOES HIGH PREMIUM QUALITY WOMEN MEN KID...', 'Resolve Modern Sneakers For Men', 'OGIY RETRO SHOES HIGH PREMIUM QUALITY Sneakers For Men', '2 Combo Sneaker Shoes Sneakers For Men', 'Casual Sneakers Shoes for Men | Soft Cushioned Insole, ...', 'ORBIT Sneakers For Men', 'AT-King Mesh Breathable/Lightweight/Comfort/Gym/Outdoor...', 'Ruler 1.0 Sneakers For Men', 'Designer Sneakers For Men', 'Sneakers For Men', 'Flyumph Sneakers For Men', 'Sports shoes, Running, Walking, Lightweight, Gym, Trakk...', '2 Combo Sneaker Shoes Sneakers For Men', 'Stylish Partywear Sneakers Casual Shoes Sneakers For Me...', 'fuzor B Sneakers For Men', 'Spring Edge Alpha 2 Sneakers For Men', 'OGIY RETRO SHOES HIGH PREMIUM QUALITY Sneakers For Men', 'Combo Pack Of 4 Casual Loafer Shoes Sneakers For Men', 'Trending Stylish Casual Outdoor Shoes Sneakers For Men', 'Sneakers For Women', 'Color Block Sneakers For Men', 'Casual Sneakers Colour Blocked Shoes For Boys And Men S...', 'Combo Pack Of 2 Casual Shoes Sneakers For Men', 'Combo Pack Of 2 Casual Shoes Sneakers For Men', 'Sneakers For Women', 'Sneaker Casual Shoes For Men | Soft Cushion Insole || B...', 'Stylish men shoes Sneakers For Men', 'Mesh |Lightweight|Comfort|Summer|Trendy|Walking|Outdoor...', 'Player Sneakers For Men', 'Rideric Sneakers For Men', 'Sneakers For Men', 'Casual Sneakers Shoes for Men | Soft Cushioned Insole, ...', 'OGIY RETRO SHOES HIGH PREMIUM QUALITY Sneakers For Men', 'Sneakers For Men', 'Carnival-02 Mens High Top Casual Chunky Sneakers Sneake...', 'CLAIRE-01 Sneakers For Women', 'Men Combo Pack of 2 Casual & Sneaker Shoes (Loafer Shoe...', 'Men Combo Pack of 2 Sports Shoes & Casual Sneakers For ...', 'Stylish & Trending Outdoor Walking Comfortable Sneakers...', 'Casual Sneakers Shoes for Men | Soft Cushioned Insole, ...', 'NEW OGIY RETRO SHOES HIGH PREMIUM QUALITY WOMEN MEN KID...', 'Resolve Modern Sneakers For Men', 'OGIY RETRO SHOES HIGH PREMIUM QUALITY Sneakers For Men', '2 Combo Sneaker Shoes Sneakers For Men', 'Casual Sneakers Shoes for Men | Soft Cushioned Insole, ...', 'ORBIT Sneakers For Men', 'AT-King Mesh Breathable/Lightweight/Comfort/Gym/Outdoor...', 'Ruler 1.0 Sneakers For Men', 'Designer Sneakers For Men', 'Sneakers For Men', 'Flyumph Sneakers For Men', 'Sports shoes, Running, Walking, Lightweight, Gym, Trakk...', '2 Combo Sneaker Shoes Sneakers For Men', 'Stylish Partywear Sneakers Casual Shoes Sneakers For Me...', 'fuzor B Sneakers For Men', 'Spring Edge Alpha 2 Sneakers For Men', 'OGIY RETRO SHOES HIGH PREMIUM QUALITY Sneakers For Men', 'Combo Pack Of 4 Casual Loafer Shoes Sneakers For Men', 'Trending Stylish Casual Outdoor Shoes Sneakers For Men', 'Sneakers For Women', 'Color Block Sneakers For Men', 'Casual Sneakers Colour Blocked Shoes For Boys And Men S...', 'Combo Pack Of 2 Casual Shoes Sneakers For Men', 'Combo Pack Of 2 Casual Shoes Sneakers For Men', 'Sneakers For Women', 'Sneaker Casual Shoes For Men | Soft Cushion Insole || B...', 'Stylish men shoes Sneakers For Men', 'Mesh |Lightweight|Comfort|Summer|Trendy|Walking|Outdoor...', 'Player Sneakers For Men', 'Rideric Sneakers For Men', 'Sneakers For Men', 'Casual Sneakers Shoes for Men | Soft Cushioned Insole, ...', 'OGIY RETRO SHOES HIGH PREMIUM QUALITY Sneakers For Men', 'Sneakers For Men', 'Carnival-02 Mens High Top Casual Chunky Sneakers Sneake...', 'CLAIRE-01 Sneakers For Women', 'Men Combo Pack of 2 Casual & Sneaker Shoes (Loafer Shoe...', 'Men Combo Pack of 2 Sports Shoes & Casual Sneakers For ...', 'Stylish & Trending Outdoor Walking Comfortable Sneakers...', 'Casual Sneakers Shoes for Men | Soft Cushioned Insole, ...', 'NEW OGIY RETRO SHOES HIGH PREMIUM QUALITY WOMEN MEN KID...', 'Resolve Modern Sneakers For Men', 'OGIY RETRO SHOES HIGH PREMIUM QUALITY Sneakers For Men', '2 Combo Sneaker Shoes Sneakers For Men', 'Casual Sneakers Shoes for Men | Soft Cushioned Insole, ...', 'ORBIT Sneakers For Men', 'AT-King Mesh Breathable/Lightweight/Comfort/Gym/Outdoor...', 'Ruler 1.0 Sneakers For Men', 'Designer Sneakers For Men', 'Sneakers For Men', 'Flyumph Sneakers For Men', 'Sports shoes, Running, Walking, Lightweight, Gym, Trakk...', '2 Combo Sneaker Shoes Sneakers For Men', 'Stylish Partywear Sneakers Casual Shoes Sneakers For Me...', 'fuzor B Sneakers For Men', 'Spring Edge Alpha 2 Sneakers For Men']\n"
     ]
    }
   ],
   "source": [
    "productdescription=[]\n",
    "start=1\n",
    "end=4\n",
    "for page in range(start,end):\n",
    "    productdesc_tags=driver.find_elements(By.XPATH,'//div[@class=\"_2B099V\"]/a[1]')\n",
    "    for i in productdesc_tags:\n",
    "        productdescription.append(i.text)\n",
    "next_button=driver.find_element(By.CLASS_NAME,'_1LKTO3')\n",
    "next_button.click\n",
    "time.sleep(4)\n",
    "print(productdescription)"
   ]
  },
  {
   "cell_type": "code",
   "execution_count": 98,
   "id": "2b4da208",
   "metadata": {},
   "outputs": [
    {
     "name": "stdout",
     "output_type": "stream",
     "text": [
      "120\n"
     ]
    }
   ],
   "source": [
    "print(len(productdescription))"
   ]
  },
  {
   "cell_type": "code",
   "execution_count": 99,
   "id": "ecf65f97",
   "metadata": {},
   "outputs": [],
   "source": [
    "page_1=driver.find_element(By.XPATH,'/html/body/div/div/div[3]/div[1]/div[2]/div[12]/div/div/nav/a[1]')\n",
    "page_1.click()"
   ]
  },
  {
   "cell_type": "code",
   "execution_count": 100,
   "id": "45552816",
   "metadata": {},
   "outputs": [
    {
     "name": "stdout",
     "output_type": "stream",
     "text": [
      "['₹674', '₹599', '₹299', '₹379', '₹738', '₹449', '₹499', '₹499', '₹879', '₹822', '₹449', '₹389', '₹1,096', '₹1,642', '₹799', '₹1,179', '₹674', '₹4,528', '₹999', '₹599', '₹429', '₹434', '₹299', '₹1,179', '₹636', '₹1,259', '₹674', '₹599', '₹1,179', '₹699', '₹279', '₹395', '₹334', '₹411', '₹2,399', '₹799', '₹499', '₹449', '₹1,799', '₹1,094', '₹674', '₹599', '₹299', '₹379', '₹738', '₹449', '₹499', '₹499', '₹879', '₹822', '₹449', '₹389', '₹1,096', '₹1,642', '₹799', '₹1,179', '₹674', '₹4,528', '₹999', '₹599', '₹429', '₹434', '₹299', '₹1,179', '₹636', '₹1,259', '₹674', '₹599', '₹1,179', '₹699', '₹279', '₹395', '₹334', '₹411', '₹2,399', '₹799', '₹499', '₹449', '₹1,799', '₹1,094', '₹674', '₹599', '₹299', '₹379', '₹738', '₹449', '₹499', '₹499', '₹879', '₹822', '₹449', '₹389', '₹1,096', '₹1,642', '₹799', '₹1,179', '₹674', '₹4,528', '₹999', '₹599', '₹429', '₹434', '₹299', '₹1,179', '₹636', '₹1,259', '₹674', '₹599', '₹1,179', '₹699', '₹279', '₹395', '₹334', '₹411', '₹2,399', '₹799', '₹499', '₹449', '₹1,799', '₹1,094']\n"
     ]
    }
   ],
   "source": [
    "price=[]\n",
    "start=1\n",
    "end=4\n",
    "for page in range(start,end):\n",
    "    price_tags=driver.find_elements(By.XPATH,'//div[@class=\"_30jeq3\"]')\n",
    "    for i in price_tags:\n",
    "        price.append(i.text)\n",
    "next_button=driver.find_element(By.CLASS_NAME,'_1LKTO3')\n",
    "next_button.click()\n",
    "time.sleep(3)\n",
    "print(price)"
   ]
  },
  {
   "cell_type": "code",
   "execution_count": 101,
   "id": "d2c21a3f",
   "metadata": {},
   "outputs": [
    {
     "name": "stdout",
     "output_type": "stream",
     "text": [
      "120\n"
     ]
    }
   ],
   "source": [
    "print(len(price))"
   ]
  },
  {
   "cell_type": "code",
   "execution_count": 102,
   "id": "fc2ad06f",
   "metadata": {},
   "outputs": [
    {
     "data": {
      "text/html": [
       "<div>\n",
       "<style scoped>\n",
       "    .dataframe tbody tr th:only-of-type {\n",
       "        vertical-align: middle;\n",
       "    }\n",
       "\n",
       "    .dataframe tbody tr th {\n",
       "        vertical-align: top;\n",
       "    }\n",
       "\n",
       "    .dataframe thead th {\n",
       "        text-align: right;\n",
       "    }\n",
       "</style>\n",
       "<table border=\"1\" class=\"dataframe\">\n",
       "  <thead>\n",
       "    <tr style=\"text-align: right;\">\n",
       "      <th></th>\n",
       "      <th>BRAND</th>\n",
       "      <th>PRODUCT DESCRIPTION</th>\n",
       "      <th>PRICE</th>\n",
       "    </tr>\n",
       "  </thead>\n",
       "  <tbody>\n",
       "    <tr>\n",
       "      <th>0</th>\n",
       "      <td>Aeonik</td>\n",
       "      <td>OGIY RETRO SHOES HIGH PREMIUM QUALITY Sneakers...</td>\n",
       "      <td>₹674</td>\n",
       "    </tr>\n",
       "    <tr>\n",
       "      <th>1</th>\n",
       "      <td>BRUTON</td>\n",
       "      <td>Combo Pack Of 4 Casual Loafer Shoes Sneakers F...</td>\n",
       "      <td>₹599</td>\n",
       "    </tr>\n",
       "    <tr>\n",
       "      <th>2</th>\n",
       "      <td>URBANBOX</td>\n",
       "      <td>Trending Stylish Casual Outdoor Shoes Sneakers...</td>\n",
       "      <td>₹299</td>\n",
       "    </tr>\n",
       "    <tr>\n",
       "      <th>3</th>\n",
       "      <td>Deals4you</td>\n",
       "      <td>Sneakers For Women</td>\n",
       "      <td>₹379</td>\n",
       "    </tr>\n",
       "    <tr>\n",
       "      <th>4</th>\n",
       "      <td>RapidBox</td>\n",
       "      <td>Color Block Sneakers For Men</td>\n",
       "      <td>₹738</td>\n",
       "    </tr>\n",
       "    <tr>\n",
       "      <th>...</th>\n",
       "      <td>...</td>\n",
       "      <td>...</td>\n",
       "      <td>...</td>\n",
       "    </tr>\n",
       "    <tr>\n",
       "      <th>95</th>\n",
       "      <td>asian</td>\n",
       "      <td>Casual Sneakers Shoes for Men | Soft Cushioned...</td>\n",
       "      <td>₹1,179</td>\n",
       "    </tr>\n",
       "    <tr>\n",
       "      <th>96</th>\n",
       "      <td>Aeonik</td>\n",
       "      <td>OGIY RETRO SHOES HIGH PREMIUM QUALITY Sneakers...</td>\n",
       "      <td>₹674</td>\n",
       "    </tr>\n",
       "    <tr>\n",
       "      <th>97</th>\n",
       "      <td>Converse</td>\n",
       "      <td>Sneakers For Men</td>\n",
       "      <td>₹4,528</td>\n",
       "    </tr>\n",
       "    <tr>\n",
       "      <th>98</th>\n",
       "      <td>RED TAPE</td>\n",
       "      <td>Carnival-02 Mens High Top Casual Chunky Sneake...</td>\n",
       "      <td>₹999</td>\n",
       "    </tr>\n",
       "    <tr>\n",
       "      <th>99</th>\n",
       "      <td>M7 By Metronaut</td>\n",
       "      <td>CLAIRE-01 Sneakers For Women</td>\n",
       "      <td>₹599</td>\n",
       "    </tr>\n",
       "  </tbody>\n",
       "</table>\n",
       "<p>100 rows × 3 columns</p>\n",
       "</div>"
      ],
      "text/plain": [
       "              BRAND                                PRODUCT DESCRIPTION   PRICE\n",
       "0            Aeonik  OGIY RETRO SHOES HIGH PREMIUM QUALITY Sneakers...    ₹674\n",
       "1            BRUTON  Combo Pack Of 4 Casual Loafer Shoes Sneakers F...    ₹599\n",
       "2          URBANBOX  Trending Stylish Casual Outdoor Shoes Sneakers...    ₹299\n",
       "3         Deals4you                                 Sneakers For Women    ₹379\n",
       "4          RapidBox                       Color Block Sneakers For Men    ₹738\n",
       "..              ...                                                ...     ...\n",
       "95            asian  Casual Sneakers Shoes for Men | Soft Cushioned...  ₹1,179\n",
       "96           Aeonik  OGIY RETRO SHOES HIGH PREMIUM QUALITY Sneakers...    ₹674\n",
       "97         Converse                                   Sneakers For Men  ₹4,528\n",
       "98         RED TAPE  Carnival-02 Mens High Top Casual Chunky Sneake...    ₹999\n",
       "99  M7 By Metronaut                       CLAIRE-01 Sneakers For Women    ₹599\n",
       "\n",
       "[100 rows x 3 columns]"
      ]
     },
     "execution_count": 102,
     "metadata": {},
     "output_type": "execute_result"
    }
   ],
   "source": [
    "df=pd.DataFrame({'BRAND':brand[:100],'PRODUCT DESCRIPTION':productdescription[:100],'PRICE':price[:100]})\n",
    "df"
   ]
  },
  {
   "cell_type": "code",
   "execution_count": null,
   "id": "ae9e41c1",
   "metadata": {},
   "outputs": [],
   "source": []
  },
  {
   "cell_type": "raw",
   "id": "3dea0259",
   "metadata": {},
   "source": [
    "Q5: Go to webpage https://www.amazon.in/ Enter “Laptop” in the search field and then click the search icon. Then set CPU\n",
    "Type filter to “Intel Core i7” as shown in the below image:\n",
    "Aftersetting the filters scrape first 10 laptops data. You have to scrape 3 attributes for each laptop:\n",
    "1. Titles\n",
    "2. Ratings\n",
    "3. Price previous_button=driver.find_element(By.XPATH,'/html/body/div/div/div[3]/div[1]/div[2]/div[12]/div/div/nav/a[1]')\n",
    "previous_button.click()"
   ]
  },
  {
   "cell_type": "code",
   "execution_count": 103,
   "id": "6f67951c",
   "metadata": {},
   "outputs": [],
   "source": [
    "amazon=webdriver.Chrome()"
   ]
  },
  {
   "cell_type": "code",
   "execution_count": 104,
   "id": "2a3d4b0b",
   "metadata": {},
   "outputs": [],
   "source": [
    "amazon.get('https://www.amazon.in/')"
   ]
  },
  {
   "cell_type": "code",
   "execution_count": 105,
   "id": "826482fd",
   "metadata": {},
   "outputs": [],
   "source": [
    "product=amazon.find_element(By.XPATH,'/html/body/div[1]/header/div/div[1]/div[2]/div/form/div[2]/div[1]/input')\n",
    "product.send_keys('Laptop')"
   ]
  },
  {
   "cell_type": "code",
   "execution_count": 106,
   "id": "d5a704a4",
   "metadata": {},
   "outputs": [],
   "source": [
    "search=amazon.find_element(By.XPATH,'/html/body/div[1]/header/div/div[1]/div[2]/div/form/div[3]/div')\n",
    "search.click()"
   ]
  },
  {
   "cell_type": "code",
   "execution_count": 107,
   "id": "0bc22437",
   "metadata": {},
   "outputs": [],
   "source": [
    "cpu_filter=amazon.find_element(By.XPATH,'//div[@class=\"a-row a-expander-container a-expander-inline-container\"][19]/div/ul/span[8]/li/span/a/div')\n",
    "cpu_filter.click()"
   ]
  },
  {
   "cell_type": "code",
   "execution_count": 108,
   "id": "24ed7db2",
   "metadata": {},
   "outputs": [],
   "source": [
    "title=[]\n",
    "rating=[]\n",
    "price=[]"
   ]
  },
  {
   "cell_type": "code",
   "execution_count": 109,
   "id": "e9eab3a8",
   "metadata": {},
   "outputs": [
    {
     "name": "stdout",
     "output_type": "stream",
     "text": [
      "['Dell 14, Intel 12th Gen Core i5-1235U Processor Laptop/8GB/512GB SSD/14.0\" (35.56cm) FHD Display/Intel UHD Graphics/Spill-Resistant Keyboard/Win 11 + MSO\\'21/Black/15 Month McAfee, Thin & Light-1.48kg', 'HP Victus Gaming Laptop, 12th Gen Intel Core i5-12450H, 4GB RTX 3050 GPU, 15.6-inch (39.6 cm) FHD IPS 144Hz, 16GB DDR4, 512GB SSD, Backlit KB, B&O Dual Speakers (Win 11, MSO, Blue, 2.37 kg), fa0666TX', 'HP Laptop 15s, 12th Gen Intel Core i5-1235U, 15.6-inch (39.6 cm), FHD, 16GB DDR4, 512GB SSD, Intel Iris Xe Graphics, Backlit KB,MSO,Thin & Light, Dual Speakers (Win 11, Silver, 1.69 kg), fq5330TU', 'HONOR MagicBook X16 (2024), 12th Gen Intel Core i5-12450H, 16-inch (40.64 cm) FHD IPS Anti-Glare Thin and Light Laptop (16GB/512GB PCIe SSD/Windows 11/ Full-Size Numeric Keyboard /1.68Kg), Gray', 'Dell 15 Laptop, 12th Gen Intel Core i5-1235U Processor, 8GB, 512GB SSD, 15.6\" (39.62cm) FHD Display, Win 11 + MSO\\'21, 15 Month McAfee Antivirus, Black, Spill-Resistant Keyboard, Thin & Light- 1.66kg', 'Lenovo IdeaPad Slim 5 12th Gen Intel Core i5 12450H 14\" (36cm) WUXGA IPS 300Nits Thin and Light Laptop (16GB/1TB SSD/Win 11/Office 21/BacklitKB/FHD Camera/Alexa/3 Mon Game Pass/Grey/1.9Kg),83BF0043IN', 'MSI GF63 Thin, Intel 11th Gen. i5-11260H, 40CM FHD 144Hz Gaming Laptop (16GB/512GB NVMe SSD/Windows 11 Home/NVIDIA GeForce GTX 1650 Max Q,GDDR6 4GB/Black/2.04Kg), 11SC-1629IN', 'Dell 15 Laptop, Intel Core i5-1135G7 Processor/ 8GB/ 1TB+256GB SSD/15.6\"(39.62cm) FHD Display/Mobile Connect/Windows 11 + MSO\\'21/15 Month McAfee/Spill-Resistant Keyboard/Black/Thin & Light 1.69kg', 'HP Pavilion 14, 12th Gen i5-1235U, 14-inch (35.6 cm) FHD, Anti-Glare, 16GB DDR4, 1TB SSD, Intel Iris Xe Graphics, B&O, FPR, Backlit KB (Win 11,MSO, Natural Silver, 1.41 kg), 14-dv2153TU', 'ASUS Vivobook 15, Intel Core i5-12500H 12th Gen, 15.6\" (39.62 cm) FHD, Thin and Light Laptop (16GB/512GB/Win11/Office 2021/Silver/1.7 kg), X1502ZA-EJ542WS', 'Dell G15-5530 Gaming Laptop, Intel Core i5-13450HX Processor, 16GB DDR5, 512GB,NVIDIA RTX 3050,6GB GDDR6, 15.6\" (39.62cm) FHD 120Hz 250 nits, Backlit KB Orange,Win 11 + MSO\\'21,Dark Shadow Gray, 2.65kg', 'HP Laptop 15, 13th Gen Intel Core i5-1335U, 15.6-inch (39.6 cm), FHD, 8GB DDR4, 1TB SSD, Intel Iris Xe Graphics, FPR, FHD Camera w/Privacy Shutter (Win 11, MSO 2021, Silver, 1.59 kg), fd0012TU', 'Lenovo V14 Intel Core i5 12th Gen 14\" (35.56cm) FHD (1920x1080) Antiglare 250 Nits Thin and Light Laptop (8GB RAM/512GB SSD/DOS/Iron Grey/1.43 kg), 82TS005DIH', 'ASUS Creator Series Vivobook 16X 2023, Intel Core i5-13500H 13th Gen, 16.0-inch FHD+ 120Hz, Laptop (16GB/512GB SSD/NVIDIA Geforce RTX 3050 4GB/Win11/FP/Black/1.80 kg),K3605VC-MB541WS', 'ASUS Creator Series Vivobook 16X 2023, Intel Core i5-12450H 12th Gen, 16.0-inch FHD+ 120Hz, Laptop (8GB/512GB SSD/NVIDIA GeForce RTX 2050/Win11/FP/Silver/1.80 kg),K3605ZF-MB522WS', 'ASUS Vivobook 15, Intel Core i5-12500H 12th Gen, 15.6\" (39.62 cm) FHD, Thin and Light Laptop (16GB/512GB/Win11/Office 2021/Blue/1.7 kg), X1502ZA-EJ541WS', 'HP Pavilion x360, 13th Gen Intel Core i5-1335U, 14-inch (35.6 cm), FHD, 16GB DDR4, 1TB SSD, Intel Iris Xe Graphics, FPR, 5MP Camera w/Privacy Shutter (Win 11, MSO 2021, Silver, 1.51 kg), ek1010TU', 'Lenovo S14 Intel Core I5 12th Gen 14\" (35.56 cm) FHD IPS (1920x1080) Antiglare 300Nits Thin and Light Laptop (8GB RAM/512GB SSD/Windows 11 Pro/Backlit/Cloud Grey/1.5 kg/3Y Premium Care), 82TW001DIH', 'HP 15s, 11th Gen Intel Core i5-1155G7, 15.6 inch(39.6cm) FHD Anti-Glare Laptop(8GB RAM/512 GB SSD/Intel Iris Xe Graphics/Win 11/Dual Speakers/Backlit KeyboardAlexa Built-in/MSO 2021) 15s-fr4000TU', 'ASUS Creator Series Vivobook 16X (2023), Intel Core i5-12450H 12th Gen, 16\" (40.64 cm) FHD+, Laptop (8GB/512GB/4GB RTX 2050/Win11/Office 2021/FP/Silver/1.8 kg), K3605ZF-MBN524WS', 'ASUS Creator Series Vivobook 14X OLED 2023, Intel Core i5-12450H 12th Gen, 14.0-inch 90Hz, Laptop (16GB/512GB SSD/NVIDIA GeForce RTX 2050/Win11//FP/63WHr/Silver/1.40 kg),K3405ZFB-KM542WS', 'ASUS Vivobook 15, Intel Core i5-12500H 12th Gen, 15.6\" (39.62 cm) FHD, Thin and Light Laptop (16GB/512GB/Win11/Office 2021/Silver/1.7 kg), X1502ZA-EJ544WS', 'MSI Modern 14, Intel 12th Gen. i5-1235U, 35CM FHD 60Hz Laptop (8GB/512GB NVMe SSD/Windows 11 Home/Intel Iris Xe/Black/1.4Kg), C12M-220IN', 'HP Laptop 15, 13th Gen Intel Core i5-1335U, 15.6-inch (39.6 cm), FHD, 16GB DDR4, 512GB SSD, Intel Iris Xᵉ Graphics, FPR, FHD Camera, Metal Body,Backlit KB (Win 11, MSO 2021, Silver, 1.59 kg), hr0001TU', 'ASUS Vivobook 15 OLED (2023), Intel Core i5-13500H 13th Gen, 15.6\" (39.62 cm) FHD OLED, Thin & Light Laptop (16GB/512GB SSD/Intel Iris Xᵉ/Win 11/Office 2021/Backlit KB/Black/1.7 kg), X1505VA-LK541WS', 'Lenovo IdeaPad Slim 5 13th Gen Intel Core i5 13500H 16\" (40.6cm) 2.5K IPS 350Nits Laptop (16GB/1TB SSD/Win 11/Office 2021/Backlit KB/FHD 1080p Camera/Alexa/3 Month Game Pass/Grey/1.89Kg), 82XF0077IN', 'ASUS TUF Gaming F17 - AI Powered Gaming Laptop, Intel Core i5-11400H 11th Gen, 17.3-inch (43.94 cm) FHD 144Hz, (16GB/512GB SSD/4GB NVIDIA RTX 2050/Win 11/ RGB Backlit/Black/2.60 kg),FX706HF-HX019W', 'ASUS Vivobook 15 (2023), Intel Core I5-13500H 13Th Gen, 15.6\" (39.62 Cms) Fhd, Thin and Light Laptop (16Gb/512Gb Ssd/Intel Iris X?/Win 11/Office 2021/Backlit Kb/Blue/1.7 Kg), X1502Va-Nj541Ws', 'ASUS Vivobook 15 (2023), Intel Core i5-1335U 13th Gen, 15.6\" (39.62 cms) FHD, Thin and Light Laptop (8GB/512GB SSD/Intel Iris Xᵉ/Win 11/Office 2021/Fingerprint/Blue/1.7 kg), X1504VA-NJ523WS', 'ASUS Zenbook S 13 OLED (2023), 1kg Weight & 1cm Thin, Intel Core EVO i5 13th Gen, 13.3 Inch 2.8K OLED, Thin & Light Laptop (16GB/512GB SSD/Iris Xe/Win 11/Office 2021/63WHrs/Blue), UX5304VA-NQ541WS']\n"
     ]
    }
   ],
   "source": [
    "title_tags=amazon.find_elements(By.XPATH,'//h2[@class=\"a-size-mini a-spacing-none a-color-base s-line-clamp-2\"]')\n",
    "for i in title_tags:\n",
    "    title.append(i.text)\n",
    "print(title)"
   ]
  },
  {
   "cell_type": "code",
   "execution_count": 110,
   "id": "51879089",
   "metadata": {},
   "outputs": [
    {
     "name": "stdout",
     "output_type": "stream",
     "text": [
      "30\n"
     ]
    }
   ],
   "source": [
    "print(len(title))"
   ]
  },
  {
   "cell_type": "code",
   "execution_count": 111,
   "id": "c349f4c5",
   "metadata": {},
   "outputs": [
    {
     "name": "stdout",
     "output_type": "stream",
     "text": [
      "['467', '381', '1,745', '315', '467', '79', '12', '513', '661', '168', '265', '893', '48', '74', '168', '41', '28', '215', '21', '41', '8', '10', '29', '18', '23', '214', '81', '17', '3']\n"
     ]
    }
   ],
   "source": [
    "rating_tags=amazon.find_elements(By.XPATH,'//span[@class=\"a-size-base s-underline-text\"]')\n",
    "for i in rating_tags:\n",
    "    if i.text is None:\n",
    "        rating.append('no value')\n",
    "    else:\n",
    "        rating.append(i.text)\n",
    "print(rating)    "
   ]
  },
  {
   "cell_type": "code",
   "execution_count": 112,
   "id": "4001d7e4",
   "metadata": {},
   "outputs": [
    {
     "name": "stdout",
     "output_type": "stream",
     "text": [
      "29\n"
     ]
    }
   ],
   "source": [
    "print(len(rating))"
   ]
  },
  {
   "cell_type": "code",
   "execution_count": 113,
   "id": "5169c51b",
   "metadata": {},
   "outputs": [
    {
     "name": "stdout",
     "output_type": "stream",
     "text": [
      "['₹47,990', '₹68,990', '₹53,990', '₹46,990', '₹48,490', '₹62,190', '₹45,990', '₹45,990', '₹65,490', '₹52,990', '₹76,990', '₹58,990', '₹43,490', '₹75,990', '₹58,990', '₹52,990', '₹76,390', '₹48,490', '₹45,875', '₹57,990', '₹67,990', '₹52,990', '₹39,990', '₹63,290', '₹67,990', '₹76,690', '₹52,990', '₹60,990', '₹55,990', '₹94,500']\n"
     ]
    }
   ],
   "source": [
    "price_tags=amazon.find_elements(By.XPATH,'//span[@class=\"a-price\"]')\n",
    "for i in price_tags:\n",
    "    price.append(i.text)\n",
    "print(price)"
   ]
  },
  {
   "cell_type": "code",
   "execution_count": 114,
   "id": "762bf606",
   "metadata": {},
   "outputs": [
    {
     "name": "stdout",
     "output_type": "stream",
     "text": [
      "30\n"
     ]
    }
   ],
   "source": [
    "print(len(price))"
   ]
  },
  {
   "cell_type": "code",
   "execution_count": 115,
   "id": "01d403d0",
   "metadata": {},
   "outputs": [
    {
     "data": {
      "text/html": [
       "<div>\n",
       "<style scoped>\n",
       "    .dataframe tbody tr th:only-of-type {\n",
       "        vertical-align: middle;\n",
       "    }\n",
       "\n",
       "    .dataframe tbody tr th {\n",
       "        vertical-align: top;\n",
       "    }\n",
       "\n",
       "    .dataframe thead th {\n",
       "        text-align: right;\n",
       "    }\n",
       "</style>\n",
       "<table border=\"1\" class=\"dataframe\">\n",
       "  <thead>\n",
       "    <tr style=\"text-align: right;\">\n",
       "      <th></th>\n",
       "      <th>TITLES</th>\n",
       "      <th>RATINGS</th>\n",
       "      <th>PRICES</th>\n",
       "    </tr>\n",
       "  </thead>\n",
       "  <tbody>\n",
       "    <tr>\n",
       "      <th>0</th>\n",
       "      <td>Dell 14, Intel 12th Gen Core i5-1235U Processo...</td>\n",
       "      <td>467</td>\n",
       "      <td>₹47,990</td>\n",
       "    </tr>\n",
       "    <tr>\n",
       "      <th>1</th>\n",
       "      <td>HP Victus Gaming Laptop, 12th Gen Intel Core i...</td>\n",
       "      <td>381</td>\n",
       "      <td>₹68,990</td>\n",
       "    </tr>\n",
       "    <tr>\n",
       "      <th>2</th>\n",
       "      <td>HP Laptop 15s, 12th Gen Intel Core i5-1235U, 1...</td>\n",
       "      <td>1,745</td>\n",
       "      <td>₹53,990</td>\n",
       "    </tr>\n",
       "    <tr>\n",
       "      <th>3</th>\n",
       "      <td>HONOR MagicBook X16 (2024), 12th Gen Intel Cor...</td>\n",
       "      <td>315</td>\n",
       "      <td>₹46,990</td>\n",
       "    </tr>\n",
       "    <tr>\n",
       "      <th>4</th>\n",
       "      <td>Dell 15 Laptop, 12th Gen Intel Core i5-1235U P...</td>\n",
       "      <td>467</td>\n",
       "      <td>₹48,490</td>\n",
       "    </tr>\n",
       "    <tr>\n",
       "      <th>5</th>\n",
       "      <td>Lenovo IdeaPad Slim 5 12th Gen Intel Core i5 1...</td>\n",
       "      <td>79</td>\n",
       "      <td>₹62,190</td>\n",
       "    </tr>\n",
       "    <tr>\n",
       "      <th>6</th>\n",
       "      <td>MSI GF63 Thin, Intel 11th Gen. i5-11260H, 40CM...</td>\n",
       "      <td>12</td>\n",
       "      <td>₹45,990</td>\n",
       "    </tr>\n",
       "    <tr>\n",
       "      <th>7</th>\n",
       "      <td>Dell 15 Laptop, Intel Core i5-1135G7 Processor...</td>\n",
       "      <td>513</td>\n",
       "      <td>₹45,990</td>\n",
       "    </tr>\n",
       "    <tr>\n",
       "      <th>8</th>\n",
       "      <td>HP Pavilion 14, 12th Gen i5-1235U, 14-inch (35...</td>\n",
       "      <td>661</td>\n",
       "      <td>₹65,490</td>\n",
       "    </tr>\n",
       "    <tr>\n",
       "      <th>9</th>\n",
       "      <td>ASUS Vivobook 15, Intel Core i5-12500H 12th Ge...</td>\n",
       "      <td>168</td>\n",
       "      <td>₹52,990</td>\n",
       "    </tr>\n",
       "  </tbody>\n",
       "</table>\n",
       "</div>"
      ],
      "text/plain": [
       "                                              TITLES RATINGS   PRICES\n",
       "0  Dell 14, Intel 12th Gen Core i5-1235U Processo...     467  ₹47,990\n",
       "1  HP Victus Gaming Laptop, 12th Gen Intel Core i...     381  ₹68,990\n",
       "2  HP Laptop 15s, 12th Gen Intel Core i5-1235U, 1...   1,745  ₹53,990\n",
       "3  HONOR MagicBook X16 (2024), 12th Gen Intel Cor...     315  ₹46,990\n",
       "4  Dell 15 Laptop, 12th Gen Intel Core i5-1235U P...     467  ₹48,490\n",
       "5  Lenovo IdeaPad Slim 5 12th Gen Intel Core i5 1...      79  ₹62,190\n",
       "6  MSI GF63 Thin, Intel 11th Gen. i5-11260H, 40CM...      12  ₹45,990\n",
       "7  Dell 15 Laptop, Intel Core i5-1135G7 Processor...     513  ₹45,990\n",
       "8  HP Pavilion 14, 12th Gen i5-1235U, 14-inch (35...     661  ₹65,490\n",
       "9  ASUS Vivobook 15, Intel Core i5-12500H 12th Ge...     168  ₹52,990"
      ]
     },
     "execution_count": 115,
     "metadata": {},
     "output_type": "execute_result"
    }
   ],
   "source": [
    "df=pd.DataFrame({'TITLES':title[:10],'RATINGS':rating[:10],'PRICES':price[:10]})\n",
    "df"
   ]
  },
  {
   "cell_type": "code",
   "execution_count": null,
   "id": "ab57b00d",
   "metadata": {},
   "outputs": [],
   "source": []
  },
  {
   "cell_type": "raw",
   "id": "63ba0d78",
   "metadata": {},
   "source": [
    "Q6: Write a python program to scrape data for Top 1000 Quotes of All Time.\n",
    "The above task will be done in following steps:\n",
    "1. First get the webpagehttps://www.azquotes.com/\n",
    "2. Click on TopQuote\n",
    "3. Than scrap a)Quote b) Author c) Type Of Quotes"
   ]
  },
  {
   "cell_type": "code",
   "execution_count": 116,
   "id": "326b186a",
   "metadata": {},
   "outputs": [],
   "source": [
    "driver=webdriver.Chrome()"
   ]
  },
  {
   "cell_type": "code",
   "execution_count": 117,
   "id": "39419a25",
   "metadata": {},
   "outputs": [],
   "source": [
    "driver.get('https://www.azquotes.com/')"
   ]
  },
  {
   "cell_type": "code",
   "execution_count": 119,
   "id": "5245ac14",
   "metadata": {},
   "outputs": [],
   "source": [
    "show_options=driver.find_element(By.XPATH,'//div[@class=\"mainmenu\"]/a')\n",
    "show_options.click()"
   ]
  },
  {
   "cell_type": "code",
   "execution_count": 120,
   "id": "4fb7ec81",
   "metadata": {},
   "outputs": [],
   "source": [
    "top_quotes=driver.find_element(By.XPATH,'//div[@class=\"mainmenu\"]/ul/li[5]')\n",
    "top_quotes.click()"
   ]
  },
  {
   "cell_type": "code",
   "execution_count": 121,
   "id": "d09aaebe",
   "metadata": {},
   "outputs": [],
   "source": [
    "quote=[]\n",
    "author=[]\n",
    "type_of_quotes=[]"
   ]
  },
  {
   "cell_type": "code",
   "execution_count": 122,
   "id": "7d2fdc24",
   "metadata": {},
   "outputs": [
    {
     "name": "stdout",
     "output_type": "stream",
     "text": [
      "1000\n"
     ]
    }
   ],
   "source": [
    "start=0\n",
    "end=10\n",
    "for page in range(start,end):\n",
    "    quo=driver.find_elements(By.XPATH,'//a[@class=\"title\"]')\n",
    "    for i in quo:\n",
    "        quote.append(i.text)\n",
    "next_button=driver.find_element(By.CLASS_NAME,\"next\")\n",
    "next_button.click()\n",
    "time.sleep(10)\n",
    "print(len(quote))"
   ]
  },
  {
   "cell_type": "code",
   "execution_count": 123,
   "id": "c98f81cd",
   "metadata": {},
   "outputs": [
    {
     "name": "stdout",
     "output_type": "stream",
     "text": [
      "['The essence of strategy is choosing what not to do.', 'One cannot and must not try to erase the past merely because it does not fit the present.', 'Patriotism means to stand by the country. It does not mean to stand by the president.', 'Death is something inevitable. When a man has done what he considers to be his duty to his people and his country, he can rest in peace. I believe I have made that effort and that is, therefore, why I will sleep for the eternity.', 'You have to love a nation that celebrates its independence every July 4, not with a parade of guns, tanks, and soldiers who file by the White House in a show of strength and muscle, but with family picnics where kids throw Frisbees, the potato salad gets iffy, and the flies die from happiness. You may think you have overeaten, but it is patriotism.', 'Be more concerned with your character than your reputation, because your character is what you really are, while your reputation is merely what others think you are.', 'Weak people revenge. Strong people forgive. Intelligent People Ignore.', \"A mind is like a parachute. It doesn't work if it is not open.\", 'Never be afraid to raise your voice for honesty and truth and compassion against injustice and lying and greed. If people all over the world...would do this, it would change the earth.', 'There are three kinds of men. The one that learns by reading. The few who learn by observation. The rest of them have to pee on the electric fence for themselves.', \"A strong nation, like a strong person, can afford to be gentle, firm, thoughtful, and restrained. It can afford to extend a helping hand to others. It's a weak nation, like a weak person, that must behave with bluster and boasting and rashness and other signs of insecurity.\", 'The difference between stupidity and genius is that genius has its limits.', 'We the people are the rightful masters of both Congress and the courts, not to overthrow the Constitution but to overthrow the men who pervert the Constitution.', 'With or without religion, you would have good people doing good things and evil people doing evil things. But for good people to do evil things, that takes religion.', 'Human kindness has never weakened the stamina or softened the fiber of a free people. A nation does not have to be cruel to be tough.', 'A person who never made a mistake never tried anything new.', 'My mission in life is not merely to survive, but to thrive; and to do so with some passion, some compassion, some humor, and some style', 'Life is short, Break the Rules. Forgive quickly, Kiss slowly. Love truly. Laugh uncontrollably And never regret ANYTHING That makes you smile.', 'This country will not be a good place for any of us to live in unless we make it a good place for all of us to live in.', 'In a world filled with hate, we must still dare to hope. In a world filled with anger, we must still dare to comfort. In a world filled with despair, we must still dare to dream. And in a world filled with distrust, we must still dare to believe.', 'Darkness cannot drive out darkness; only light can do that. Hate cannot drive out hate; only love can do that.', 'To be a Christian means to forgive the inexcusable because God has forgiven the inexcusable in you.', 'A man who is good enough to shed his blood for the country is good enough to be given a square deal afterwards.', 'Kindness is the language which the deaf can hear and the blind can see.', 'Most folks are as happy as they make up their minds to be.', 'A happy marriage is the union of two good forgivers.', 'I believe in Christianity as I believe that the sun has risen: not only because I see it, but because by it I see everything else.', 'Politics is the art of looking for trouble, finding it everywhere, diagnosing it incorrectly and applying the wrong remedies.', \"I believe in everything until it's disproved. So I believe in fairies, the myths, dragons. It all exists, even if it's in your mind. Who's to say that dreams and nightmares aren't as real as the here and now?\", 'At the end of your life, you will never regret not having passed one more test, not winning one more verdict or not closing one more deal. You will regret time not spent with a husband, a friend, a child, or a parent.', 'I never think of the future - it comes soon enough.', \"Our greatest fear should not be of failure but of succeeding at things in life that don't really matter.\", 'Failure is simply the opportunity to begin again, this time more intelligently.', 'Music expresses that which cannot be put into words.', 'Good actions are a guard against the blows of adversity.', 'Positive thinking will let you do everything better than negative thinking will.', \"You have enemies? Good. That means you've stood up for something, sometime in your life.\", \"You don't have to be great to start, but you have to start to be great\", 'Let every nation know, whether it wishes us well or ill, that we shall pay any price, bear any burden, meet any hardship, support any friend, oppose any foe to assure the survival and the success of liberty.', \"If you want total security, go to prison. There you're fed, clothed, given medical care and so on. The only thing lacking... is freedom.\", 'Socialism is a philosophy of failure, the creed of ignorance, and the gospel of envy, its inherent virtue is the equal sharing of misery.', 'It is the supreme art of the teacher to awaken joy in creative expression and knowledge.', \"Once you replace negative thoughts with positive ones, you'll start having positive results.\", \"You build on failure. You use it as a stepping stone. Close the door on the past. You don't try to forget the mistakes, but you don't dwell on it. You don't let it have any of your energy, or any of your time, or any of your space.\", 'All my life through, the new sights of Nature made me rejoice like a child.', \"I've learned that people will forget what you said, people will forget what you did, but people will never forget how you made them feel.\", 'Marriage is not a ritual or an end. It is a long, intricate, intimate dance together and nothing matters more than your own sense of balance and your choice of partner.', 'When obstacles arise, you change your direction to reach your goal; you do not change your decision to get there.', 'Time you enjoy wasting, was not wasted.', 'The next time some academics tell you how important diversity is, ask how many Republicans there are in their sociology department.', 'Faith is not the belief that God will do what you want. It is the belief that God will do what is right.', \"If you can't fly then run, if you can't run then walk, if you can't walk then crawl, but whatever you do you have to keep moving forward.\", 'It is hard to imagine a more stupid or more dangerous way of making decisions than by putting those decisions in the hands of people who pay no price for being wrong.', 'I say that the most liberating thing about beauty is realizing that you are the beholder.', 'The ultimate measure of a man is not where he stands in moments of comfort and convenience, but where he stands at times of challenge and controversy.', 'The soldier, above all other people, prays for peace, for he must suffer and bear the deepest wounds and scars of war.', 'A true leader has the confidence to stand alone, the courage to make tough decisions, and the compassion to listen to the needs of others. He does not set out to be a leader, but becomes one by the equality of his actions and the integrity of his intent.', 'I am a Soldier, I fight where I am told, and I win where I fight.', \"Trying to do the Lord's work in your own strength is the most confusing, exhausting, and tedious of all work. But when you are filled with the Holy Spirit, then the ministry of Jesus just flows out of you.\", \"Sports for me is when a guy walks off the court, and you really can't tell whether he won or lost, when he carries himself with pride either way.\", 'Expect the best. Prepare for the worst. Capitalize on what comes.', 'I became insane, with long intervals of horrible sanity.', 'Failure is a detour, not a dead-end street.', 'I am not a product of my circumstances. I am a product of my decisions.', 'You can cut all the flowers but you cannot keep spring from coming.', \"Life doesn't run away from nobody. Life runs at people.\", 'In order to succeed, your desire for success should be greater than your fear of failure.', \"It's difficult to think anything but pleasant thoughts while eating a homegrown tomato.\", 'Too many of us are not living our dreams because we are living our fears.', 'If the only prayer you ever say in your entire life is thank you, it will be enough.', \"It's just a job. Grass grows, birds fly, waves pound the sand. I beat people up.\", 'A man must be big enough to admit his mistakes, smart enough to profit from them, and strong enough to correct them.', 'Our greatest weakness lies in giving up. The most certain way to succeed is always to try just one more time.', \"It has been said, 'time heals all wounds.' I do not agree. The wounds remain. In time, the mind, protecting its sanity, covers them with scar tissue and the pain lessens. But it is never gone.\", 'This is one small step for a man, one giant leap for mankind.', \"I have held many things in my hands, and I have lost them all; but whatever I have placed in God's hands, that I still possess.\", \"Welfare's purpose should be to eliminate, as far as possible, the need for its own existence.\", 'Each time, before you intercede, be quiet first, and worship God in His glory. Think of what He can do, and how He delights to hear the prayers of His redeemed people. Think of your place and privilege in Christ, and expect great things!', \"Failure is not the opposite of success; it's part of success.\", 'No one has ever become poor by giving.', 'It is not my ability, but my response to God’s ability, that counts.', 'No one is born hating another person because of the color of his skin, or his background, or his religion. People must learn to hate, and if they can learn to hate, they can be taught to love, for love comes more naturally to the human heart than its opposite.', 'No matter what people tell you, words and ideas can change the world.', 'A man should never neglect his family for business.', 'Those who dare to fail miserably can achieve greatly.', 'The two most important days in your life are the day you are born and the day you find out why.', 'We must be global Christians with a global vision because our God is a global God.', 'With everything that has happened to you, you can either feel sorry for yourself or treat what has happened as a gift. Everything is either an opportunity to grow or an obstacle to keep you from growing. You get to choose.', 'Don’t let the noise of others’ opinions drown out your own inner voice.', 'History, despite its wrenching pain, cannot be unlived, but if faced with courage, need not be lived again.', \"How old would you be if you didn't know how old you are?\", 'Leadership is a privilege to better the lives of others. It is not an opportunity to satisfy personal greed.', 'If you have good thoughts they will shine out of your face like sunbeams and you will always look lovely.', 'Never cut a tree down in the wintertime. Never make a negative decision in the low time. Never make your most important decisions when you are in your worst moods. Wait. Be patient. The storm will pass. The spring will come.', 'An optimist stays up until midnight to see the new year in. A pessimist stays up to make sure the old year leaves.', 'When the going gets weird, the weird turn pro.', \"When a train goes through a tunnel and it gets dark, you don't throw away the ticket and jump off. You sit still and trust the engineer.\", 'If you think you are too small to make a difference, try sleeping with a mosquito.', \"God doesn't require us to succeed, he only requires that you try.\", 'Change your thoughts and you change your world.', 'The essence of strategy is choosing what not to do.', 'One cannot and must not try to erase the past merely because it does not fit the present.', 'Patriotism means to stand by the country. It does not mean to stand by the president.', 'Death is something inevitable. When a man has done what he considers to be his duty to his people and his country, he can rest in peace. I believe I have made that effort and that is, therefore, why I will sleep for the eternity.', 'You have to love a nation that celebrates its independence every July 4, not with a parade of guns, tanks, and soldiers who file by the White House in a show of strength and muscle, but with family picnics where kids throw Frisbees, the potato salad gets iffy, and the flies die from happiness. You may think you have overeaten, but it is patriotism.', 'Be more concerned with your character than your reputation, because your character is what you really are, while your reputation is merely what others think you are.', 'Weak people revenge. Strong people forgive. Intelligent People Ignore.', \"A mind is like a parachute. It doesn't work if it is not open.\", 'Never be afraid to raise your voice for honesty and truth and compassion against injustice and lying and greed. If people all over the world...would do this, it would change the earth.', 'There are three kinds of men. The one that learns by reading. The few who learn by observation. The rest of them have to pee on the electric fence for themselves.', \"A strong nation, like a strong person, can afford to be gentle, firm, thoughtful, and restrained. It can afford to extend a helping hand to others. It's a weak nation, like a weak person, that must behave with bluster and boasting and rashness and other signs of insecurity.\", 'The difference between stupidity and genius is that genius has its limits.', 'We the people are the rightful masters of both Congress and the courts, not to overthrow the Constitution but to overthrow the men who pervert the Constitution.', 'With or without religion, you would have good people doing good things and evil people doing evil things. But for good people to do evil things, that takes religion.', 'Human kindness has never weakened the stamina or softened the fiber of a free people. A nation does not have to be cruel to be tough.', 'A person who never made a mistake never tried anything new.', 'My mission in life is not merely to survive, but to thrive; and to do so with some passion, some compassion, some humor, and some style', 'Life is short, Break the Rules. Forgive quickly, Kiss slowly. Love truly. Laugh uncontrollably And never regret ANYTHING That makes you smile.', 'This country will not be a good place for any of us to live in unless we make it a good place for all of us to live in.', 'In a world filled with hate, we must still dare to hope. In a world filled with anger, we must still dare to comfort. In a world filled with despair, we must still dare to dream. And in a world filled with distrust, we must still dare to believe.', 'Darkness cannot drive out darkness; only light can do that. Hate cannot drive out hate; only love can do that.', 'To be a Christian means to forgive the inexcusable because God has forgiven the inexcusable in you.', 'A man who is good enough to shed his blood for the country is good enough to be given a square deal afterwards.', 'Kindness is the language which the deaf can hear and the blind can see.', 'Most folks are as happy as they make up their minds to be.', 'A happy marriage is the union of two good forgivers.', 'I believe in Christianity as I believe that the sun has risen: not only because I see it, but because by it I see everything else.', 'Politics is the art of looking for trouble, finding it everywhere, diagnosing it incorrectly and applying the wrong remedies.', \"I believe in everything until it's disproved. So I believe in fairies, the myths, dragons. It all exists, even if it's in your mind. Who's to say that dreams and nightmares aren't as real as the here and now?\", 'At the end of your life, you will never regret not having passed one more test, not winning one more verdict or not closing one more deal. You will regret time not spent with a husband, a friend, a child, or a parent.', 'I never think of the future - it comes soon enough.', \"Our greatest fear should not be of failure but of succeeding at things in life that don't really matter.\", 'Failure is simply the opportunity to begin again, this time more intelligently.', 'Music expresses that which cannot be put into words.', 'Good actions are a guard against the blows of adversity.', 'Positive thinking will let you do everything better than negative thinking will.', \"You have enemies? Good. That means you've stood up for something, sometime in your life.\", \"You don't have to be great to start, but you have to start to be great\", 'Let every nation know, whether it wishes us well or ill, that we shall pay any price, bear any burden, meet any hardship, support any friend, oppose any foe to assure the survival and the success of liberty.', \"If you want total security, go to prison. There you're fed, clothed, given medical care and so on. The only thing lacking... is freedom.\", 'Socialism is a philosophy of failure, the creed of ignorance, and the gospel of envy, its inherent virtue is the equal sharing of misery.', 'It is the supreme art of the teacher to awaken joy in creative expression and knowledge.', \"Once you replace negative thoughts with positive ones, you'll start having positive results.\", \"You build on failure. You use it as a stepping stone. Close the door on the past. You don't try to forget the mistakes, but you don't dwell on it. You don't let it have any of your energy, or any of your time, or any of your space.\", 'All my life through, the new sights of Nature made me rejoice like a child.', \"I've learned that people will forget what you said, people will forget what you did, but people will never forget how you made them feel.\", 'Marriage is not a ritual or an end. It is a long, intricate, intimate dance together and nothing matters more than your own sense of balance and your choice of partner.', 'When obstacles arise, you change your direction to reach your goal; you do not change your decision to get there.', 'Time you enjoy wasting, was not wasted.', 'The next time some academics tell you how important diversity is, ask how many Republicans there are in their sociology department.', 'Faith is not the belief that God will do what you want. It is the belief that God will do what is right.', \"If you can't fly then run, if you can't run then walk, if you can't walk then crawl, but whatever you do you have to keep moving forward.\", 'It is hard to imagine a more stupid or more dangerous way of making decisions than by putting those decisions in the hands of people who pay no price for being wrong.', 'I say that the most liberating thing about beauty is realizing that you are the beholder.', 'The ultimate measure of a man is not where he stands in moments of comfort and convenience, but where he stands at times of challenge and controversy.', 'The soldier, above all other people, prays for peace, for he must suffer and bear the deepest wounds and scars of war.', 'A true leader has the confidence to stand alone, the courage to make tough decisions, and the compassion to listen to the needs of others. He does not set out to be a leader, but becomes one by the equality of his actions and the integrity of his intent.', 'I am a Soldier, I fight where I am told, and I win where I fight.', \"Trying to do the Lord's work in your own strength is the most confusing, exhausting, and tedious of all work. But when you are filled with the Holy Spirit, then the ministry of Jesus just flows out of you.\", \"Sports for me is when a guy walks off the court, and you really can't tell whether he won or lost, when he carries himself with pride either way.\", 'Expect the best. Prepare for the worst. Capitalize on what comes.', 'I became insane, with long intervals of horrible sanity.', 'Failure is a detour, not a dead-end street.', 'I am not a product of my circumstances. I am a product of my decisions.', 'You can cut all the flowers but you cannot keep spring from coming.', \"Life doesn't run away from nobody. Life runs at people.\", 'In order to succeed, your desire for success should be greater than your fear of failure.', \"It's difficult to think anything but pleasant thoughts while eating a homegrown tomato.\", 'Too many of us are not living our dreams because we are living our fears.', 'If the only prayer you ever say in your entire life is thank you, it will be enough.', \"It's just a job. Grass grows, birds fly, waves pound the sand. I beat people up.\", 'A man must be big enough to admit his mistakes, smart enough to profit from them, and strong enough to correct them.', 'Our greatest weakness lies in giving up. The most certain way to succeed is always to try just one more time.', \"It has been said, 'time heals all wounds.' I do not agree. The wounds remain. In time, the mind, protecting its sanity, covers them with scar tissue and the pain lessens. But it is never gone.\", 'This is one small step for a man, one giant leap for mankind.', \"I have held many things in my hands, and I have lost them all; but whatever I have placed in God's hands, that I still possess.\", \"Welfare's purpose should be to eliminate, as far as possible, the need for its own existence.\", 'Each time, before you intercede, be quiet first, and worship God in His glory. Think of what He can do, and how He delights to hear the prayers of His redeemed people. Think of your place and privilege in Christ, and expect great things!', \"Failure is not the opposite of success; it's part of success.\", 'No one has ever become poor by giving.', 'It is not my ability, but my response to God’s ability, that counts.', 'No one is born hating another person because of the color of his skin, or his background, or his religion. People must learn to hate, and if they can learn to hate, they can be taught to love, for love comes more naturally to the human heart than its opposite.', 'No matter what people tell you, words and ideas can change the world.', 'A man should never neglect his family for business.', 'Those who dare to fail miserably can achieve greatly.', 'The two most important days in your life are the day you are born and the day you find out why.', 'We must be global Christians with a global vision because our God is a global God.', 'With everything that has happened to you, you can either feel sorry for yourself or treat what has happened as a gift. Everything is either an opportunity to grow or an obstacle to keep you from growing. You get to choose.', 'Don’t let the noise of others’ opinions drown out your own inner voice.', 'History, despite its wrenching pain, cannot be unlived, but if faced with courage, need not be lived again.', \"How old would you be if you didn't know how old you are?\", 'Leadership is a privilege to better the lives of others. It is not an opportunity to satisfy personal greed.', 'If you have good thoughts they will shine out of your face like sunbeams and you will always look lovely.', 'Never cut a tree down in the wintertime. Never make a negative decision in the low time. Never make your most important decisions when you are in your worst moods. Wait. Be patient. The storm will pass. The spring will come.', 'An optimist stays up until midnight to see the new year in. A pessimist stays up to make sure the old year leaves.', 'When the going gets weird, the weird turn pro.', \"When a train goes through a tunnel and it gets dark, you don't throw away the ticket and jump off. You sit still and trust the engineer.\", 'If you think you are too small to make a difference, try sleeping with a mosquito.', \"God doesn't require us to succeed, he only requires that you try.\", 'Change your thoughts and you change your world.', 'The essence of strategy is choosing what not to do.', 'One cannot and must not try to erase the past merely because it does not fit the present.', 'Patriotism means to stand by the country. It does not mean to stand by the president.', 'Death is something inevitable. When a man has done what he considers to be his duty to his people and his country, he can rest in peace. I believe I have made that effort and that is, therefore, why I will sleep for the eternity.', 'You have to love a nation that celebrates its independence every July 4, not with a parade of guns, tanks, and soldiers who file by the White House in a show of strength and muscle, but with family picnics where kids throw Frisbees, the potato salad gets iffy, and the flies die from happiness. You may think you have overeaten, but it is patriotism.', 'Be more concerned with your character than your reputation, because your character is what you really are, while your reputation is merely what others think you are.', 'Weak people revenge. Strong people forgive. Intelligent People Ignore.', \"A mind is like a parachute. It doesn't work if it is not open.\", 'Never be afraid to raise your voice for honesty and truth and compassion against injustice and lying and greed. If people all over the world...would do this, it would change the earth.', 'There are three kinds of men. The one that learns by reading. The few who learn by observation. The rest of them have to pee on the electric fence for themselves.', \"A strong nation, like a strong person, can afford to be gentle, firm, thoughtful, and restrained. It can afford to extend a helping hand to others. It's a weak nation, like a weak person, that must behave with bluster and boasting and rashness and other signs of insecurity.\", 'The difference between stupidity and genius is that genius has its limits.', 'We the people are the rightful masters of both Congress and the courts, not to overthrow the Constitution but to overthrow the men who pervert the Constitution.', 'With or without religion, you would have good people doing good things and evil people doing evil things. But for good people to do evil things, that takes religion.', 'Human kindness has never weakened the stamina or softened the fiber of a free people. A nation does not have to be cruel to be tough.', 'A person who never made a mistake never tried anything new.', 'My mission in life is not merely to survive, but to thrive; and to do so with some passion, some compassion, some humor, and some style', 'Life is short, Break the Rules. Forgive quickly, Kiss slowly. Love truly. Laugh uncontrollably And never regret ANYTHING That makes you smile.', 'This country will not be a good place for any of us to live in unless we make it a good place for all of us to live in.', 'In a world filled with hate, we must still dare to hope. In a world filled with anger, we must still dare to comfort. In a world filled with despair, we must still dare to dream. And in a world filled with distrust, we must still dare to believe.', 'Darkness cannot drive out darkness; only light can do that. Hate cannot drive out hate; only love can do that.', 'To be a Christian means to forgive the inexcusable because God has forgiven the inexcusable in you.', 'A man who is good enough to shed his blood for the country is good enough to be given a square deal afterwards.', 'Kindness is the language which the deaf can hear and the blind can see.', 'Most folks are as happy as they make up their minds to be.', 'A happy marriage is the union of two good forgivers.', 'I believe in Christianity as I believe that the sun has risen: not only because I see it, but because by it I see everything else.', 'Politics is the art of looking for trouble, finding it everywhere, diagnosing it incorrectly and applying the wrong remedies.', \"I believe in everything until it's disproved. So I believe in fairies, the myths, dragons. It all exists, even if it's in your mind. Who's to say that dreams and nightmares aren't as real as the here and now?\", 'At the end of your life, you will never regret not having passed one more test, not winning one more verdict or not closing one more deal. You will regret time not spent with a husband, a friend, a child, or a parent.', 'I never think of the future - it comes soon enough.', \"Our greatest fear should not be of failure but of succeeding at things in life that don't really matter.\", 'Failure is simply the opportunity to begin again, this time more intelligently.', 'Music expresses that which cannot be put into words.', 'Good actions are a guard against the blows of adversity.', 'Positive thinking will let you do everything better than negative thinking will.', \"You have enemies? Good. That means you've stood up for something, sometime in your life.\", \"You don't have to be great to start, but you have to start to be great\", 'Let every nation know, whether it wishes us well or ill, that we shall pay any price, bear any burden, meet any hardship, support any friend, oppose any foe to assure the survival and the success of liberty.', \"If you want total security, go to prison. There you're fed, clothed, given medical care and so on. The only thing lacking... is freedom.\", 'Socialism is a philosophy of failure, the creed of ignorance, and the gospel of envy, its inherent virtue is the equal sharing of misery.', 'It is the supreme art of the teacher to awaken joy in creative expression and knowledge.', \"Once you replace negative thoughts with positive ones, you'll start having positive results.\", \"You build on failure. You use it as a stepping stone. Close the door on the past. You don't try to forget the mistakes, but you don't dwell on it. You don't let it have any of your energy, or any of your time, or any of your space.\", 'All my life through, the new sights of Nature made me rejoice like a child.', \"I've learned that people will forget what you said, people will forget what you did, but people will never forget how you made them feel.\", 'Marriage is not a ritual or an end. It is a long, intricate, intimate dance together and nothing matters more than your own sense of balance and your choice of partner.', 'When obstacles arise, you change your direction to reach your goal; you do not change your decision to get there.', 'Time you enjoy wasting, was not wasted.', 'The next time some academics tell you how important diversity is, ask how many Republicans there are in their sociology department.', 'Faith is not the belief that God will do what you want. It is the belief that God will do what is right.', \"If you can't fly then run, if you can't run then walk, if you can't walk then crawl, but whatever you do you have to keep moving forward.\", 'It is hard to imagine a more stupid or more dangerous way of making decisions than by putting those decisions in the hands of people who pay no price for being wrong.', 'I say that the most liberating thing about beauty is realizing that you are the beholder.', 'The ultimate measure of a man is not where he stands in moments of comfort and convenience, but where he stands at times of challenge and controversy.', 'The soldier, above all other people, prays for peace, for he must suffer and bear the deepest wounds and scars of war.', 'A true leader has the confidence to stand alone, the courage to make tough decisions, and the compassion to listen to the needs of others. He does not set out to be a leader, but becomes one by the equality of his actions and the integrity of his intent.', 'I am a Soldier, I fight where I am told, and I win where I fight.', \"Trying to do the Lord's work in your own strength is the most confusing, exhausting, and tedious of all work. But when you are filled with the Holy Spirit, then the ministry of Jesus just flows out of you.\", \"Sports for me is when a guy walks off the court, and you really can't tell whether he won or lost, when he carries himself with pride either way.\", 'Expect the best. Prepare for the worst. Capitalize on what comes.', 'I became insane, with long intervals of horrible sanity.', 'Failure is a detour, not a dead-end street.', 'I am not a product of my circumstances. I am a product of my decisions.', 'You can cut all the flowers but you cannot keep spring from coming.', \"Life doesn't run away from nobody. Life runs at people.\", 'In order to succeed, your desire for success should be greater than your fear of failure.', \"It's difficult to think anything but pleasant thoughts while eating a homegrown tomato.\", 'Too many of us are not living our dreams because we are living our fears.', 'If the only prayer you ever say in your entire life is thank you, it will be enough.', \"It's just a job. Grass grows, birds fly, waves pound the sand. I beat people up.\", 'A man must be big enough to admit his mistakes, smart enough to profit from them, and strong enough to correct them.', 'Our greatest weakness lies in giving up. The most certain way to succeed is always to try just one more time.', \"It has been said, 'time heals all wounds.' I do not agree. The wounds remain. In time, the mind, protecting its sanity, covers them with scar tissue and the pain lessens. But it is never gone.\", 'This is one small step for a man, one giant leap for mankind.', \"I have held many things in my hands, and I have lost them all; but whatever I have placed in God's hands, that I still possess.\", \"Welfare's purpose should be to eliminate, as far as possible, the need for its own existence.\", 'Each time, before you intercede, be quiet first, and worship God in His glory. Think of what He can do, and how He delights to hear the prayers of His redeemed people. Think of your place and privilege in Christ, and expect great things!', \"Failure is not the opposite of success; it's part of success.\", 'No one has ever become poor by giving.', 'It is not my ability, but my response to God’s ability, that counts.', 'No one is born hating another person because of the color of his skin, or his background, or his religion. People must learn to hate, and if they can learn to hate, they can be taught to love, for love comes more naturally to the human heart than its opposite.', 'No matter what people tell you, words and ideas can change the world.', 'A man should never neglect his family for business.', 'Those who dare to fail miserably can achieve greatly.', 'The two most important days in your life are the day you are born and the day you find out why.', 'We must be global Christians with a global vision because our God is a global God.', 'With everything that has happened to you, you can either feel sorry for yourself or treat what has happened as a gift. Everything is either an opportunity to grow or an obstacle to keep you from growing. You get to choose.', 'Don’t let the noise of others’ opinions drown out your own inner voice.', 'History, despite its wrenching pain, cannot be unlived, but if faced with courage, need not be lived again.', \"How old would you be if you didn't know how old you are?\", 'Leadership is a privilege to better the lives of others. It is not an opportunity to satisfy personal greed.', 'If you have good thoughts they will shine out of your face like sunbeams and you will always look lovely.', 'Never cut a tree down in the wintertime. Never make a negative decision in the low time. Never make your most important decisions when you are in your worst moods. Wait. Be patient. The storm will pass. The spring will come.', 'An optimist stays up until midnight to see the new year in. A pessimist stays up to make sure the old year leaves.', 'When the going gets weird, the weird turn pro.', \"When a train goes through a tunnel and it gets dark, you don't throw away the ticket and jump off. You sit still and trust the engineer.\", 'If you think you are too small to make a difference, try sleeping with a mosquito.', \"God doesn't require us to succeed, he only requires that you try.\", 'Change your thoughts and you change your world.', 'The essence of strategy is choosing what not to do.', 'One cannot and must not try to erase the past merely because it does not fit the present.', 'Patriotism means to stand by the country. It does not mean to stand by the president.', 'Death is something inevitable. When a man has done what he considers to be his duty to his people and his country, he can rest in peace. I believe I have made that effort and that is, therefore, why I will sleep for the eternity.', 'You have to love a nation that celebrates its independence every July 4, not with a parade of guns, tanks, and soldiers who file by the White House in a show of strength and muscle, but with family picnics where kids throw Frisbees, the potato salad gets iffy, and the flies die from happiness. You may think you have overeaten, but it is patriotism.', 'Be more concerned with your character than your reputation, because your character is what you really are, while your reputation is merely what others think you are.', 'Weak people revenge. Strong people forgive. Intelligent People Ignore.', \"A mind is like a parachute. It doesn't work if it is not open.\", 'Never be afraid to raise your voice for honesty and truth and compassion against injustice and lying and greed. If people all over the world...would do this, it would change the earth.', 'There are three kinds of men. The one that learns by reading. The few who learn by observation. The rest of them have to pee on the electric fence for themselves.', \"A strong nation, like a strong person, can afford to be gentle, firm, thoughtful, and restrained. It can afford to extend a helping hand to others. It's a weak nation, like a weak person, that must behave with bluster and boasting and rashness and other signs of insecurity.\", 'The difference between stupidity and genius is that genius has its limits.', 'We the people are the rightful masters of both Congress and the courts, not to overthrow the Constitution but to overthrow the men who pervert the Constitution.', 'With or without religion, you would have good people doing good things and evil people doing evil things. But for good people to do evil things, that takes religion.', 'Human kindness has never weakened the stamina or softened the fiber of a free people. A nation does not have to be cruel to be tough.', 'A person who never made a mistake never tried anything new.', 'My mission in life is not merely to survive, but to thrive; and to do so with some passion, some compassion, some humor, and some style', 'Life is short, Break the Rules. Forgive quickly, Kiss slowly. Love truly. Laugh uncontrollably And never regret ANYTHING That makes you smile.', 'This country will not be a good place for any of us to live in unless we make it a good place for all of us to live in.', 'In a world filled with hate, we must still dare to hope. In a world filled with anger, we must still dare to comfort. In a world filled with despair, we must still dare to dream. And in a world filled with distrust, we must still dare to believe.', 'Darkness cannot drive out darkness; only light can do that. Hate cannot drive out hate; only love can do that.', 'To be a Christian means to forgive the inexcusable because God has forgiven the inexcusable in you.', 'A man who is good enough to shed his blood for the country is good enough to be given a square deal afterwards.', 'Kindness is the language which the deaf can hear and the blind can see.', 'Most folks are as happy as they make up their minds to be.', 'A happy marriage is the union of two good forgivers.', 'I believe in Christianity as I believe that the sun has risen: not only because I see it, but because by it I see everything else.', 'Politics is the art of looking for trouble, finding it everywhere, diagnosing it incorrectly and applying the wrong remedies.', \"I believe in everything until it's disproved. So I believe in fairies, the myths, dragons. It all exists, even if it's in your mind. Who's to say that dreams and nightmares aren't as real as the here and now?\", 'At the end of your life, you will never regret not having passed one more test, not winning one more verdict or not closing one more deal. You will regret time not spent with a husband, a friend, a child, or a parent.', 'I never think of the future - it comes soon enough.', \"Our greatest fear should not be of failure but of succeeding at things in life that don't really matter.\", 'Failure is simply the opportunity to begin again, this time more intelligently.', 'Music expresses that which cannot be put into words.', 'Good actions are a guard against the blows of adversity.', 'Positive thinking will let you do everything better than negative thinking will.', \"You have enemies? Good. That means you've stood up for something, sometime in your life.\", \"You don't have to be great to start, but you have to start to be great\", 'Let every nation know, whether it wishes us well or ill, that we shall pay any price, bear any burden, meet any hardship, support any friend, oppose any foe to assure the survival and the success of liberty.', \"If you want total security, go to prison. There you're fed, clothed, given medical care and so on. The only thing lacking... is freedom.\", 'Socialism is a philosophy of failure, the creed of ignorance, and the gospel of envy, its inherent virtue is the equal sharing of misery.', 'It is the supreme art of the teacher to awaken joy in creative expression and knowledge.', \"Once you replace negative thoughts with positive ones, you'll start having positive results.\", \"You build on failure. You use it as a stepping stone. Close the door on the past. You don't try to forget the mistakes, but you don't dwell on it. You don't let it have any of your energy, or any of your time, or any of your space.\", 'All my life through, the new sights of Nature made me rejoice like a child.', \"I've learned that people will forget what you said, people will forget what you did, but people will never forget how you made them feel.\", 'Marriage is not a ritual or an end. It is a long, intricate, intimate dance together and nothing matters more than your own sense of balance and your choice of partner.', 'When obstacles arise, you change your direction to reach your goal; you do not change your decision to get there.', 'Time you enjoy wasting, was not wasted.', 'The next time some academics tell you how important diversity is, ask how many Republicans there are in their sociology department.', 'Faith is not the belief that God will do what you want. It is the belief that God will do what is right.', \"If you can't fly then run, if you can't run then walk, if you can't walk then crawl, but whatever you do you have to keep moving forward.\", 'It is hard to imagine a more stupid or more dangerous way of making decisions than by putting those decisions in the hands of people who pay no price for being wrong.', 'I say that the most liberating thing about beauty is realizing that you are the beholder.', 'The ultimate measure of a man is not where he stands in moments of comfort and convenience, but where he stands at times of challenge and controversy.', 'The soldier, above all other people, prays for peace, for he must suffer and bear the deepest wounds and scars of war.', 'A true leader has the confidence to stand alone, the courage to make tough decisions, and the compassion to listen to the needs of others. He does not set out to be a leader, but becomes one by the equality of his actions and the integrity of his intent.', 'I am a Soldier, I fight where I am told, and I win where I fight.', \"Trying to do the Lord's work in your own strength is the most confusing, exhausting, and tedious of all work. But when you are filled with the Holy Spirit, then the ministry of Jesus just flows out of you.\", \"Sports for me is when a guy walks off the court, and you really can't tell whether he won or lost, when he carries himself with pride either way.\", 'Expect the best. Prepare for the worst. Capitalize on what comes.', 'I became insane, with long intervals of horrible sanity.', 'Failure is a detour, not a dead-end street.', 'I am not a product of my circumstances. I am a product of my decisions.', 'You can cut all the flowers but you cannot keep spring from coming.', \"Life doesn't run away from nobody. Life runs at people.\", 'In order to succeed, your desire for success should be greater than your fear of failure.', \"It's difficult to think anything but pleasant thoughts while eating a homegrown tomato.\", 'Too many of us are not living our dreams because we are living our fears.', 'If the only prayer you ever say in your entire life is thank you, it will be enough.', \"It's just a job. Grass grows, birds fly, waves pound the sand. I beat people up.\", 'A man must be big enough to admit his mistakes, smart enough to profit from them, and strong enough to correct them.', 'Our greatest weakness lies in giving up. The most certain way to succeed is always to try just one more time.', \"It has been said, 'time heals all wounds.' I do not agree. The wounds remain. In time, the mind, protecting its sanity, covers them with scar tissue and the pain lessens. But it is never gone.\", 'This is one small step for a man, one giant leap for mankind.', \"I have held many things in my hands, and I have lost them all; but whatever I have placed in God's hands, that I still possess.\", \"Welfare's purpose should be to eliminate, as far as possible, the need for its own existence.\", 'Each time, before you intercede, be quiet first, and worship God in His glory. Think of what He can do, and how He delights to hear the prayers of His redeemed people. Think of your place and privilege in Christ, and expect great things!', \"Failure is not the opposite of success; it's part of success.\", 'No one has ever become poor by giving.', 'It is not my ability, but my response to God’s ability, that counts.', 'No one is born hating another person because of the color of his skin, or his background, or his religion. People must learn to hate, and if they can learn to hate, they can be taught to love, for love comes more naturally to the human heart than its opposite.', 'No matter what people tell you, words and ideas can change the world.', 'A man should never neglect his family for business.', 'Those who dare to fail miserably can achieve greatly.', 'The two most important days in your life are the day you are born and the day you find out why.', 'We must be global Christians with a global vision because our God is a global God.', 'With everything that has happened to you, you can either feel sorry for yourself or treat what has happened as a gift. Everything is either an opportunity to grow or an obstacle to keep you from growing. You get to choose.', 'Don’t let the noise of others’ opinions drown out your own inner voice.', 'History, despite its wrenching pain, cannot be unlived, but if faced with courage, need not be lived again.', \"How old would you be if you didn't know how old you are?\", 'Leadership is a privilege to better the lives of others. It is not an opportunity to satisfy personal greed.', 'If you have good thoughts they will shine out of your face like sunbeams and you will always look lovely.', 'Never cut a tree down in the wintertime. Never make a negative decision in the low time. Never make your most important decisions when you are in your worst moods. Wait. Be patient. The storm will pass. The spring will come.', 'An optimist stays up until midnight to see the new year in. A pessimist stays up to make sure the old year leaves.', 'When the going gets weird, the weird turn pro.', \"When a train goes through a tunnel and it gets dark, you don't throw away the ticket and jump off. You sit still and trust the engineer.\", 'If you think you are too small to make a difference, try sleeping with a mosquito.', \"God doesn't require us to succeed, he only requires that you try.\", 'Change your thoughts and you change your world.', 'The essence of strategy is choosing what not to do.', 'One cannot and must not try to erase the past merely because it does not fit the present.', 'Patriotism means to stand by the country. It does not mean to stand by the president.', 'Death is something inevitable. When a man has done what he considers to be his duty to his people and his country, he can rest in peace. I believe I have made that effort and that is, therefore, why I will sleep for the eternity.', 'You have to love a nation that celebrates its independence every July 4, not with a parade of guns, tanks, and soldiers who file by the White House in a show of strength and muscle, but with family picnics where kids throw Frisbees, the potato salad gets iffy, and the flies die from happiness. You may think you have overeaten, but it is patriotism.', 'Be more concerned with your character than your reputation, because your character is what you really are, while your reputation is merely what others think you are.', 'Weak people revenge. Strong people forgive. Intelligent People Ignore.', \"A mind is like a parachute. It doesn't work if it is not open.\", 'Never be afraid to raise your voice for honesty and truth and compassion against injustice and lying and greed. If people all over the world...would do this, it would change the earth.', 'There are three kinds of men. The one that learns by reading. The few who learn by observation. The rest of them have to pee on the electric fence for themselves.', \"A strong nation, like a strong person, can afford to be gentle, firm, thoughtful, and restrained. It can afford to extend a helping hand to others. It's a weak nation, like a weak person, that must behave with bluster and boasting and rashness and other signs of insecurity.\", 'The difference between stupidity and genius is that genius has its limits.', 'We the people are the rightful masters of both Congress and the courts, not to overthrow the Constitution but to overthrow the men who pervert the Constitution.', 'With or without religion, you would have good people doing good things and evil people doing evil things. But for good people to do evil things, that takes religion.', 'Human kindness has never weakened the stamina or softened the fiber of a free people. A nation does not have to be cruel to be tough.', 'A person who never made a mistake never tried anything new.', 'My mission in life is not merely to survive, but to thrive; and to do so with some passion, some compassion, some humor, and some style', 'Life is short, Break the Rules. Forgive quickly, Kiss slowly. Love truly. Laugh uncontrollably And never regret ANYTHING That makes you smile.', 'This country will not be a good place for any of us to live in unless we make it a good place for all of us to live in.', 'In a world filled with hate, we must still dare to hope. In a world filled with anger, we must still dare to comfort. In a world filled with despair, we must still dare to dream. And in a world filled with distrust, we must still dare to believe.', 'Darkness cannot drive out darkness; only light can do that. Hate cannot drive out hate; only love can do that.', 'To be a Christian means to forgive the inexcusable because God has forgiven the inexcusable in you.', 'A man who is good enough to shed his blood for the country is good enough to be given a square deal afterwards.', 'Kindness is the language which the deaf can hear and the blind can see.', 'Most folks are as happy as they make up their minds to be.', 'A happy marriage is the union of two good forgivers.', 'I believe in Christianity as I believe that the sun has risen: not only because I see it, but because by it I see everything else.', 'Politics is the art of looking for trouble, finding it everywhere, diagnosing it incorrectly and applying the wrong remedies.', \"I believe in everything until it's disproved. So I believe in fairies, the myths, dragons. It all exists, even if it's in your mind. Who's to say that dreams and nightmares aren't as real as the here and now?\", 'At the end of your life, you will never regret not having passed one more test, not winning one more verdict or not closing one more deal. You will regret time not spent with a husband, a friend, a child, or a parent.', 'I never think of the future - it comes soon enough.', \"Our greatest fear should not be of failure but of succeeding at things in life that don't really matter.\", 'Failure is simply the opportunity to begin again, this time more intelligently.', 'Music expresses that which cannot be put into words.', 'Good actions are a guard against the blows of adversity.', 'Positive thinking will let you do everything better than negative thinking will.', \"You have enemies? Good. That means you've stood up for something, sometime in your life.\", \"You don't have to be great to start, but you have to start to be great\", 'Let every nation know, whether it wishes us well or ill, that we shall pay any price, bear any burden, meet any hardship, support any friend, oppose any foe to assure the survival and the success of liberty.', \"If you want total security, go to prison. There you're fed, clothed, given medical care and so on. The only thing lacking... is freedom.\", 'Socialism is a philosophy of failure, the creed of ignorance, and the gospel of envy, its inherent virtue is the equal sharing of misery.', 'It is the supreme art of the teacher to awaken joy in creative expression and knowledge.', \"Once you replace negative thoughts with positive ones, you'll start having positive results.\", \"You build on failure. You use it as a stepping stone. Close the door on the past. You don't try to forget the mistakes, but you don't dwell on it. You don't let it have any of your energy, or any of your time, or any of your space.\", 'All my life through, the new sights of Nature made me rejoice like a child.', \"I've learned that people will forget what you said, people will forget what you did, but people will never forget how you made them feel.\", 'Marriage is not a ritual or an end. It is a long, intricate, intimate dance together and nothing matters more than your own sense of balance and your choice of partner.', 'When obstacles arise, you change your direction to reach your goal; you do not change your decision to get there.', 'Time you enjoy wasting, was not wasted.', 'The next time some academics tell you how important diversity is, ask how many Republicans there are in their sociology department.', 'Faith is not the belief that God will do what you want. It is the belief that God will do what is right.', \"If you can't fly then run, if you can't run then walk, if you can't walk then crawl, but whatever you do you have to keep moving forward.\", 'It is hard to imagine a more stupid or more dangerous way of making decisions than by putting those decisions in the hands of people who pay no price for being wrong.', 'I say that the most liberating thing about beauty is realizing that you are the beholder.', 'The ultimate measure of a man is not where he stands in moments of comfort and convenience, but where he stands at times of challenge and controversy.', 'The soldier, above all other people, prays for peace, for he must suffer and bear the deepest wounds and scars of war.', 'A true leader has the confidence to stand alone, the courage to make tough decisions, and the compassion to listen to the needs of others. He does not set out to be a leader, but becomes one by the equality of his actions and the integrity of his intent.', 'I am a Soldier, I fight where I am told, and I win where I fight.', \"Trying to do the Lord's work in your own strength is the most confusing, exhausting, and tedious of all work. But when you are filled with the Holy Spirit, then the ministry of Jesus just flows out of you.\", \"Sports for me is when a guy walks off the court, and you really can't tell whether he won or lost, when he carries himself with pride either way.\", 'Expect the best. Prepare for the worst. Capitalize on what comes.', 'I became insane, with long intervals of horrible sanity.', 'Failure is a detour, not a dead-end street.', 'I am not a product of my circumstances. I am a product of my decisions.', 'You can cut all the flowers but you cannot keep spring from coming.', \"Life doesn't run away from nobody. Life runs at people.\", 'In order to succeed, your desire for success should be greater than your fear of failure.', \"It's difficult to think anything but pleasant thoughts while eating a homegrown tomato.\", 'Too many of us are not living our dreams because we are living our fears.', 'If the only prayer you ever say in your entire life is thank you, it will be enough.', \"It's just a job. Grass grows, birds fly, waves pound the sand. I beat people up.\", 'A man must be big enough to admit his mistakes, smart enough to profit from them, and strong enough to correct them.', 'Our greatest weakness lies in giving up. The most certain way to succeed is always to try just one more time.', \"It has been said, 'time heals all wounds.' I do not agree. The wounds remain. In time, the mind, protecting its sanity, covers them with scar tissue and the pain lessens. But it is never gone.\", 'This is one small step for a man, one giant leap for mankind.', \"I have held many things in my hands, and I have lost them all; but whatever I have placed in God's hands, that I still possess.\", \"Welfare's purpose should be to eliminate, as far as possible, the need for its own existence.\", 'Each time, before you intercede, be quiet first, and worship God in His glory. Think of what He can do, and how He delights to hear the prayers of His redeemed people. Think of your place and privilege in Christ, and expect great things!', \"Failure is not the opposite of success; it's part of success.\", 'No one has ever become poor by giving.', 'It is not my ability, but my response to God’s ability, that counts.', 'No one is born hating another person because of the color of his skin, or his background, or his religion. People must learn to hate, and if they can learn to hate, they can be taught to love, for love comes more naturally to the human heart than its opposite.', 'No matter what people tell you, words and ideas can change the world.', 'A man should never neglect his family for business.', 'Those who dare to fail miserably can achieve greatly.', 'The two most important days in your life are the day you are born and the day you find out why.', 'We must be global Christians with a global vision because our God is a global God.', 'With everything that has happened to you, you can either feel sorry for yourself or treat what has happened as a gift. Everything is either an opportunity to grow or an obstacle to keep you from growing. You get to choose.', 'Don’t let the noise of others’ opinions drown out your own inner voice.', 'History, despite its wrenching pain, cannot be unlived, but if faced with courage, need not be lived again.', \"How old would you be if you didn't know how old you are?\", 'Leadership is a privilege to better the lives of others. It is not an opportunity to satisfy personal greed.', 'If you have good thoughts they will shine out of your face like sunbeams and you will always look lovely.', 'Never cut a tree down in the wintertime. Never make a negative decision in the low time. Never make your most important decisions when you are in your worst moods. Wait. Be patient. The storm will pass. The spring will come.', 'An optimist stays up until midnight to see the new year in. A pessimist stays up to make sure the old year leaves.', 'When the going gets weird, the weird turn pro.', \"When a train goes through a tunnel and it gets dark, you don't throw away the ticket and jump off. You sit still and trust the engineer.\", 'If you think you are too small to make a difference, try sleeping with a mosquito.', \"God doesn't require us to succeed, he only requires that you try.\", 'Change your thoughts and you change your world.', 'The essence of strategy is choosing what not to do.', 'One cannot and must not try to erase the past merely because it does not fit the present.', 'Patriotism means to stand by the country. It does not mean to stand by the president.', 'Death is something inevitable. When a man has done what he considers to be his duty to his people and his country, he can rest in peace. I believe I have made that effort and that is, therefore, why I will sleep for the eternity.', 'You have to love a nation that celebrates its independence every July 4, not with a parade of guns, tanks, and soldiers who file by the White House in a show of strength and muscle, but with family picnics where kids throw Frisbees, the potato salad gets iffy, and the flies die from happiness. You may think you have overeaten, but it is patriotism.', 'Be more concerned with your character than your reputation, because your character is what you really are, while your reputation is merely what others think you are.', 'Weak people revenge. Strong people forgive. Intelligent People Ignore.', \"A mind is like a parachute. It doesn't work if it is not open.\", 'Never be afraid to raise your voice for honesty and truth and compassion against injustice and lying and greed. If people all over the world...would do this, it would change the earth.', 'There are three kinds of men. The one that learns by reading. The few who learn by observation. The rest of them have to pee on the electric fence for themselves.', \"A strong nation, like a strong person, can afford to be gentle, firm, thoughtful, and restrained. It can afford to extend a helping hand to others. It's a weak nation, like a weak person, that must behave with bluster and boasting and rashness and other signs of insecurity.\", 'The difference between stupidity and genius is that genius has its limits.', 'We the people are the rightful masters of both Congress and the courts, not to overthrow the Constitution but to overthrow the men who pervert the Constitution.', 'With or without religion, you would have good people doing good things and evil people doing evil things. But for good people to do evil things, that takes religion.', 'Human kindness has never weakened the stamina or softened the fiber of a free people. A nation does not have to be cruel to be tough.', 'A person who never made a mistake never tried anything new.', 'My mission in life is not merely to survive, but to thrive; and to do so with some passion, some compassion, some humor, and some style', 'Life is short, Break the Rules. Forgive quickly, Kiss slowly. Love truly. Laugh uncontrollably And never regret ANYTHING That makes you smile.', 'This country will not be a good place for any of us to live in unless we make it a good place for all of us to live in.', 'In a world filled with hate, we must still dare to hope. In a world filled with anger, we must still dare to comfort. In a world filled with despair, we must still dare to dream. And in a world filled with distrust, we must still dare to believe.', 'Darkness cannot drive out darkness; only light can do that. Hate cannot drive out hate; only love can do that.', 'To be a Christian means to forgive the inexcusable because God has forgiven the inexcusable in you.', 'A man who is good enough to shed his blood for the country is good enough to be given a square deal afterwards.', 'Kindness is the language which the deaf can hear and the blind can see.', 'Most folks are as happy as they make up their minds to be.', 'A happy marriage is the union of two good forgivers.', 'I believe in Christianity as I believe that the sun has risen: not only because I see it, but because by it I see everything else.', 'Politics is the art of looking for trouble, finding it everywhere, diagnosing it incorrectly and applying the wrong remedies.', \"I believe in everything until it's disproved. So I believe in fairies, the myths, dragons. It all exists, even if it's in your mind. Who's to say that dreams and nightmares aren't as real as the here and now?\", 'At the end of your life, you will never regret not having passed one more test, not winning one more verdict or not closing one more deal. You will regret time not spent with a husband, a friend, a child, or a parent.', 'I never think of the future - it comes soon enough.', \"Our greatest fear should not be of failure but of succeeding at things in life that don't really matter.\", 'Failure is simply the opportunity to begin again, this time more intelligently.', 'Music expresses that which cannot be put into words.', 'Good actions are a guard against the blows of adversity.', 'Positive thinking will let you do everything better than negative thinking will.', \"You have enemies? Good. That means you've stood up for something, sometime in your life.\", \"You don't have to be great to start, but you have to start to be great\", 'Let every nation know, whether it wishes us well or ill, that we shall pay any price, bear any burden, meet any hardship, support any friend, oppose any foe to assure the survival and the success of liberty.', \"If you want total security, go to prison. There you're fed, clothed, given medical care and so on. The only thing lacking... is freedom.\", 'Socialism is a philosophy of failure, the creed of ignorance, and the gospel of envy, its inherent virtue is the equal sharing of misery.', 'It is the supreme art of the teacher to awaken joy in creative expression and knowledge.', \"Once you replace negative thoughts with positive ones, you'll start having positive results.\", \"You build on failure. You use it as a stepping stone. Close the door on the past. You don't try to forget the mistakes, but you don't dwell on it. You don't let it have any of your energy, or any of your time, or any of your space.\", 'All my life through, the new sights of Nature made me rejoice like a child.', \"I've learned that people will forget what you said, people will forget what you did, but people will never forget how you made them feel.\", 'Marriage is not a ritual or an end. It is a long, intricate, intimate dance together and nothing matters more than your own sense of balance and your choice of partner.', 'When obstacles arise, you change your direction to reach your goal; you do not change your decision to get there.', 'Time you enjoy wasting, was not wasted.', 'The next time some academics tell you how important diversity is, ask how many Republicans there are in their sociology department.', 'Faith is not the belief that God will do what you want. It is the belief that God will do what is right.', \"If you can't fly then run, if you can't run then walk, if you can't walk then crawl, but whatever you do you have to keep moving forward.\", 'It is hard to imagine a more stupid or more dangerous way of making decisions than by putting those decisions in the hands of people who pay no price for being wrong.', 'I say that the most liberating thing about beauty is realizing that you are the beholder.', 'The ultimate measure of a man is not where he stands in moments of comfort and convenience, but where he stands at times of challenge and controversy.', 'The soldier, above all other people, prays for peace, for he must suffer and bear the deepest wounds and scars of war.', 'A true leader has the confidence to stand alone, the courage to make tough decisions, and the compassion to listen to the needs of others. He does not set out to be a leader, but becomes one by the equality of his actions and the integrity of his intent.', 'I am a Soldier, I fight where I am told, and I win where I fight.', \"Trying to do the Lord's work in your own strength is the most confusing, exhausting, and tedious of all work. But when you are filled with the Holy Spirit, then the ministry of Jesus just flows out of you.\", \"Sports for me is when a guy walks off the court, and you really can't tell whether he won or lost, when he carries himself with pride either way.\", 'Expect the best. Prepare for the worst. Capitalize on what comes.', 'I became insane, with long intervals of horrible sanity.', 'Failure is a detour, not a dead-end street.', 'I am not a product of my circumstances. I am a product of my decisions.', 'You can cut all the flowers but you cannot keep spring from coming.', \"Life doesn't run away from nobody. Life runs at people.\", 'In order to succeed, your desire for success should be greater than your fear of failure.', \"It's difficult to think anything but pleasant thoughts while eating a homegrown tomato.\", 'Too many of us are not living our dreams because we are living our fears.', 'If the only prayer you ever say in your entire life is thank you, it will be enough.', \"It's just a job. Grass grows, birds fly, waves pound the sand. I beat people up.\", 'A man must be big enough to admit his mistakes, smart enough to profit from them, and strong enough to correct them.', 'Our greatest weakness lies in giving up. The most certain way to succeed is always to try just one more time.', \"It has been said, 'time heals all wounds.' I do not agree. The wounds remain. In time, the mind, protecting its sanity, covers them with scar tissue and the pain lessens. But it is never gone.\", 'This is one small step for a man, one giant leap for mankind.', \"I have held many things in my hands, and I have lost them all; but whatever I have placed in God's hands, that I still possess.\", \"Welfare's purpose should be to eliminate, as far as possible, the need for its own existence.\", 'Each time, before you intercede, be quiet first, and worship God in His glory. Think of what He can do, and how He delights to hear the prayers of His redeemed people. Think of your place and privilege in Christ, and expect great things!', \"Failure is not the opposite of success; it's part of success.\", 'No one has ever become poor by giving.', 'It is not my ability, but my response to God’s ability, that counts.', 'No one is born hating another person because of the color of his skin, or his background, or his religion. People must learn to hate, and if they can learn to hate, they can be taught to love, for love comes more naturally to the human heart than its opposite.', 'No matter what people tell you, words and ideas can change the world.', 'A man should never neglect his family for business.', 'Those who dare to fail miserably can achieve greatly.', 'The two most important days in your life are the day you are born and the day you find out why.', 'We must be global Christians with a global vision because our God is a global God.', 'With everything that has happened to you, you can either feel sorry for yourself or treat what has happened as a gift. Everything is either an opportunity to grow or an obstacle to keep you from growing. You get to choose.', 'Don’t let the noise of others’ opinions drown out your own inner voice.', 'History, despite its wrenching pain, cannot be unlived, but if faced with courage, need not be lived again.', \"How old would you be if you didn't know how old you are?\", 'Leadership is a privilege to better the lives of others. It is not an opportunity to satisfy personal greed.', 'If you have good thoughts they will shine out of your face like sunbeams and you will always look lovely.', 'Never cut a tree down in the wintertime. Never make a negative decision in the low time. Never make your most important decisions when you are in your worst moods. Wait. Be patient. The storm will pass. The spring will come.', 'An optimist stays up until midnight to see the new year in. A pessimist stays up to make sure the old year leaves.', 'When the going gets weird, the weird turn pro.', \"When a train goes through a tunnel and it gets dark, you don't throw away the ticket and jump off. You sit still and trust the engineer.\", 'If you think you are too small to make a difference, try sleeping with a mosquito.', \"God doesn't require us to succeed, he only requires that you try.\", 'Change your thoughts and you change your world.', 'The essence of strategy is choosing what not to do.', 'One cannot and must not try to erase the past merely because it does not fit the present.', 'Patriotism means to stand by the country. It does not mean to stand by the president.', 'Death is something inevitable. When a man has done what he considers to be his duty to his people and his country, he can rest in peace. I believe I have made that effort and that is, therefore, why I will sleep for the eternity.', 'You have to love a nation that celebrates its independence every July 4, not with a parade of guns, tanks, and soldiers who file by the White House in a show of strength and muscle, but with family picnics where kids throw Frisbees, the potato salad gets iffy, and the flies die from happiness. You may think you have overeaten, but it is patriotism.', 'Be more concerned with your character than your reputation, because your character is what you really are, while your reputation is merely what others think you are.', 'Weak people revenge. Strong people forgive. Intelligent People Ignore.', \"A mind is like a parachute. It doesn't work if it is not open.\", 'Never be afraid to raise your voice for honesty and truth and compassion against injustice and lying and greed. If people all over the world...would do this, it would change the earth.', 'There are three kinds of men. The one that learns by reading. The few who learn by observation. The rest of them have to pee on the electric fence for themselves.', \"A strong nation, like a strong person, can afford to be gentle, firm, thoughtful, and restrained. It can afford to extend a helping hand to others. It's a weak nation, like a weak person, that must behave with bluster and boasting and rashness and other signs of insecurity.\", 'The difference between stupidity and genius is that genius has its limits.', 'We the people are the rightful masters of both Congress and the courts, not to overthrow the Constitution but to overthrow the men who pervert the Constitution.', 'With or without religion, you would have good people doing good things and evil people doing evil things. But for good people to do evil things, that takes religion.', 'Human kindness has never weakened the stamina or softened the fiber of a free people. A nation does not have to be cruel to be tough.', 'A person who never made a mistake never tried anything new.', 'My mission in life is not merely to survive, but to thrive; and to do so with some passion, some compassion, some humor, and some style', 'Life is short, Break the Rules. Forgive quickly, Kiss slowly. Love truly. Laugh uncontrollably And never regret ANYTHING That makes you smile.', 'This country will not be a good place for any of us to live in unless we make it a good place for all of us to live in.', 'In a world filled with hate, we must still dare to hope. In a world filled with anger, we must still dare to comfort. In a world filled with despair, we must still dare to dream. And in a world filled with distrust, we must still dare to believe.', 'Darkness cannot drive out darkness; only light can do that. Hate cannot drive out hate; only love can do that.', 'To be a Christian means to forgive the inexcusable because God has forgiven the inexcusable in you.', 'A man who is good enough to shed his blood for the country is good enough to be given a square deal afterwards.', 'Kindness is the language which the deaf can hear and the blind can see.', 'Most folks are as happy as they make up their minds to be.', 'A happy marriage is the union of two good forgivers.', 'I believe in Christianity as I believe that the sun has risen: not only because I see it, but because by it I see everything else.', 'Politics is the art of looking for trouble, finding it everywhere, diagnosing it incorrectly and applying the wrong remedies.', \"I believe in everything until it's disproved. So I believe in fairies, the myths, dragons. It all exists, even if it's in your mind. Who's to say that dreams and nightmares aren't as real as the here and now?\", 'At the end of your life, you will never regret not having passed one more test, not winning one more verdict or not closing one more deal. You will regret time not spent with a husband, a friend, a child, or a parent.', 'I never think of the future - it comes soon enough.', \"Our greatest fear should not be of failure but of succeeding at things in life that don't really matter.\", 'Failure is simply the opportunity to begin again, this time more intelligently.', 'Music expresses that which cannot be put into words.', 'Good actions are a guard against the blows of adversity.', 'Positive thinking will let you do everything better than negative thinking will.', \"You have enemies? Good. That means you've stood up for something, sometime in your life.\", \"You don't have to be great to start, but you have to start to be great\", 'Let every nation know, whether it wishes us well or ill, that we shall pay any price, bear any burden, meet any hardship, support any friend, oppose any foe to assure the survival and the success of liberty.', \"If you want total security, go to prison. There you're fed, clothed, given medical care and so on. The only thing lacking... is freedom.\", 'Socialism is a philosophy of failure, the creed of ignorance, and the gospel of envy, its inherent virtue is the equal sharing of misery.', 'It is the supreme art of the teacher to awaken joy in creative expression and knowledge.', \"Once you replace negative thoughts with positive ones, you'll start having positive results.\", \"You build on failure. You use it as a stepping stone. Close the door on the past. You don't try to forget the mistakes, but you don't dwell on it. You don't let it have any of your energy, or any of your time, or any of your space.\", 'All my life through, the new sights of Nature made me rejoice like a child.', \"I've learned that people will forget what you said, people will forget what you did, but people will never forget how you made them feel.\", 'Marriage is not a ritual or an end. It is a long, intricate, intimate dance together and nothing matters more than your own sense of balance and your choice of partner.', 'When obstacles arise, you change your direction to reach your goal; you do not change your decision to get there.', 'Time you enjoy wasting, was not wasted.', 'The next time some academics tell you how important diversity is, ask how many Republicans there are in their sociology department.', 'Faith is not the belief that God will do what you want. It is the belief that God will do what is right.', \"If you can't fly then run, if you can't run then walk, if you can't walk then crawl, but whatever you do you have to keep moving forward.\", 'It is hard to imagine a more stupid or more dangerous way of making decisions than by putting those decisions in the hands of people who pay no price for being wrong.', 'I say that the most liberating thing about beauty is realizing that you are the beholder.', 'The ultimate measure of a man is not where he stands in moments of comfort and convenience, but where he stands at times of challenge and controversy.', 'The soldier, above all other people, prays for peace, for he must suffer and bear the deepest wounds and scars of war.', 'A true leader has the confidence to stand alone, the courage to make tough decisions, and the compassion to listen to the needs of others. He does not set out to be a leader, but becomes one by the equality of his actions and the integrity of his intent.', 'I am a Soldier, I fight where I am told, and I win where I fight.', \"Trying to do the Lord's work in your own strength is the most confusing, exhausting, and tedious of all work. But when you are filled with the Holy Spirit, then the ministry of Jesus just flows out of you.\", \"Sports for me is when a guy walks off the court, and you really can't tell whether he won or lost, when he carries himself with pride either way.\", 'Expect the best. Prepare for the worst. Capitalize on what comes.', 'I became insane, with long intervals of horrible sanity.', 'Failure is a detour, not a dead-end street.', 'I am not a product of my circumstances. I am a product of my decisions.', 'You can cut all the flowers but you cannot keep spring from coming.', \"Life doesn't run away from nobody. Life runs at people.\", 'In order to succeed, your desire for success should be greater than your fear of failure.', \"It's difficult to think anything but pleasant thoughts while eating a homegrown tomato.\", 'Too many of us are not living our dreams because we are living our fears.', 'If the only prayer you ever say in your entire life is thank you, it will be enough.', \"It's just a job. Grass grows, birds fly, waves pound the sand. I beat people up.\", 'A man must be big enough to admit his mistakes, smart enough to profit from them, and strong enough to correct them.', 'Our greatest weakness lies in giving up. The most certain way to succeed is always to try just one more time.', \"It has been said, 'time heals all wounds.' I do not agree. The wounds remain. In time, the mind, protecting its sanity, covers them with scar tissue and the pain lessens. But it is never gone.\", 'This is one small step for a man, one giant leap for mankind.', \"I have held many things in my hands, and I have lost them all; but whatever I have placed in God's hands, that I still possess.\", \"Welfare's purpose should be to eliminate, as far as possible, the need for its own existence.\", 'Each time, before you intercede, be quiet first, and worship God in His glory. Think of what He can do, and how He delights to hear the prayers of His redeemed people. Think of your place and privilege in Christ, and expect great things!', \"Failure is not the opposite of success; it's part of success.\", 'No one has ever become poor by giving.', 'It is not my ability, but my response to God’s ability, that counts.', 'No one is born hating another person because of the color of his skin, or his background, or his religion. People must learn to hate, and if they can learn to hate, they can be taught to love, for love comes more naturally to the human heart than its opposite.', 'No matter what people tell you, words and ideas can change the world.', 'A man should never neglect his family for business.', 'Those who dare to fail miserably can achieve greatly.', 'The two most important days in your life are the day you are born and the day you find out why.', 'We must be global Christians with a global vision because our God is a global God.', 'With everything that has happened to you, you can either feel sorry for yourself or treat what has happened as a gift. Everything is either an opportunity to grow or an obstacle to keep you from growing. You get to choose.', 'Don’t let the noise of others’ opinions drown out your own inner voice.', 'History, despite its wrenching pain, cannot be unlived, but if faced with courage, need not be lived again.', \"How old would you be if you didn't know how old you are?\", 'Leadership is a privilege to better the lives of others. It is not an opportunity to satisfy personal greed.', 'If you have good thoughts they will shine out of your face like sunbeams and you will always look lovely.', 'Never cut a tree down in the wintertime. Never make a negative decision in the low time. Never make your most important decisions when you are in your worst moods. Wait. Be patient. The storm will pass. The spring will come.', 'An optimist stays up until midnight to see the new year in. A pessimist stays up to make sure the old year leaves.', 'When the going gets weird, the weird turn pro.', \"When a train goes through a tunnel and it gets dark, you don't throw away the ticket and jump off. You sit still and trust the engineer.\", 'If you think you are too small to make a difference, try sleeping with a mosquito.', \"God doesn't require us to succeed, he only requires that you try.\", 'Change your thoughts and you change your world.', 'The essence of strategy is choosing what not to do.', 'One cannot and must not try to erase the past merely because it does not fit the present.', 'Patriotism means to stand by the country. It does not mean to stand by the president.', 'Death is something inevitable. When a man has done what he considers to be his duty to his people and his country, he can rest in peace. I believe I have made that effort and that is, therefore, why I will sleep for the eternity.', 'You have to love a nation that celebrates its independence every July 4, not with a parade of guns, tanks, and soldiers who file by the White House in a show of strength and muscle, but with family picnics where kids throw Frisbees, the potato salad gets iffy, and the flies die from happiness. You may think you have overeaten, but it is patriotism.', 'Be more concerned with your character than your reputation, because your character is what you really are, while your reputation is merely what others think you are.', 'Weak people revenge. Strong people forgive. Intelligent People Ignore.', \"A mind is like a parachute. It doesn't work if it is not open.\", 'Never be afraid to raise your voice for honesty and truth and compassion against injustice and lying and greed. If people all over the world...would do this, it would change the earth.', 'There are three kinds of men. The one that learns by reading. The few who learn by observation. The rest of them have to pee on the electric fence for themselves.', \"A strong nation, like a strong person, can afford to be gentle, firm, thoughtful, and restrained. It can afford to extend a helping hand to others. It's a weak nation, like a weak person, that must behave with bluster and boasting and rashness and other signs of insecurity.\", 'The difference between stupidity and genius is that genius has its limits.', 'We the people are the rightful masters of both Congress and the courts, not to overthrow the Constitution but to overthrow the men who pervert the Constitution.', 'With or without religion, you would have good people doing good things and evil people doing evil things. But for good people to do evil things, that takes religion.', 'Human kindness has never weakened the stamina or softened the fiber of a free people. A nation does not have to be cruel to be tough.', 'A person who never made a mistake never tried anything new.', 'My mission in life is not merely to survive, but to thrive; and to do so with some passion, some compassion, some humor, and some style', 'Life is short, Break the Rules. Forgive quickly, Kiss slowly. Love truly. Laugh uncontrollably And never regret ANYTHING That makes you smile.', 'This country will not be a good place for any of us to live in unless we make it a good place for all of us to live in.', 'In a world filled with hate, we must still dare to hope. In a world filled with anger, we must still dare to comfort. In a world filled with despair, we must still dare to dream. And in a world filled with distrust, we must still dare to believe.', 'Darkness cannot drive out darkness; only light can do that. Hate cannot drive out hate; only love can do that.', 'To be a Christian means to forgive the inexcusable because God has forgiven the inexcusable in you.', 'A man who is good enough to shed his blood for the country is good enough to be given a square deal afterwards.', 'Kindness is the language which the deaf can hear and the blind can see.', 'Most folks are as happy as they make up their minds to be.', 'A happy marriage is the union of two good forgivers.', 'I believe in Christianity as I believe that the sun has risen: not only because I see it, but because by it I see everything else.', 'Politics is the art of looking for trouble, finding it everywhere, diagnosing it incorrectly and applying the wrong remedies.', \"I believe in everything until it's disproved. So I believe in fairies, the myths, dragons. It all exists, even if it's in your mind. Who's to say that dreams and nightmares aren't as real as the here and now?\", 'At the end of your life, you will never regret not having passed one more test, not winning one more verdict or not closing one more deal. You will regret time not spent with a husband, a friend, a child, or a parent.', 'I never think of the future - it comes soon enough.', \"Our greatest fear should not be of failure but of succeeding at things in life that don't really matter.\", 'Failure is simply the opportunity to begin again, this time more intelligently.', 'Music expresses that which cannot be put into words.', 'Good actions are a guard against the blows of adversity.', 'Positive thinking will let you do everything better than negative thinking will.', \"You have enemies? Good. That means you've stood up for something, sometime in your life.\", \"You don't have to be great to start, but you have to start to be great\", 'Let every nation know, whether it wishes us well or ill, that we shall pay any price, bear any burden, meet any hardship, support any friend, oppose any foe to assure the survival and the success of liberty.', \"If you want total security, go to prison. There you're fed, clothed, given medical care and so on. The only thing lacking... is freedom.\", 'Socialism is a philosophy of failure, the creed of ignorance, and the gospel of envy, its inherent virtue is the equal sharing of misery.', 'It is the supreme art of the teacher to awaken joy in creative expression and knowledge.', \"Once you replace negative thoughts with positive ones, you'll start having positive results.\", \"You build on failure. You use it as a stepping stone. Close the door on the past. You don't try to forget the mistakes, but you don't dwell on it. You don't let it have any of your energy, or any of your time, or any of your space.\", 'All my life through, the new sights of Nature made me rejoice like a child.', \"I've learned that people will forget what you said, people will forget what you did, but people will never forget how you made them feel.\", 'Marriage is not a ritual or an end. It is a long, intricate, intimate dance together and nothing matters more than your own sense of balance and your choice of partner.', 'When obstacles arise, you change your direction to reach your goal; you do not change your decision to get there.', 'Time you enjoy wasting, was not wasted.', 'The next time some academics tell you how important diversity is, ask how many Republicans there are in their sociology department.', 'Faith is not the belief that God will do what you want. It is the belief that God will do what is right.', \"If you can't fly then run, if you can't run then walk, if you can't walk then crawl, but whatever you do you have to keep moving forward.\", 'It is hard to imagine a more stupid or more dangerous way of making decisions than by putting those decisions in the hands of people who pay no price for being wrong.', 'I say that the most liberating thing about beauty is realizing that you are the beholder.', 'The ultimate measure of a man is not where he stands in moments of comfort and convenience, but where he stands at times of challenge and controversy.', 'The soldier, above all other people, prays for peace, for he must suffer and bear the deepest wounds and scars of war.', 'A true leader has the confidence to stand alone, the courage to make tough decisions, and the compassion to listen to the needs of others. He does not set out to be a leader, but becomes one by the equality of his actions and the integrity of his intent.', 'I am a Soldier, I fight where I am told, and I win where I fight.', \"Trying to do the Lord's work in your own strength is the most confusing, exhausting, and tedious of all work. But when you are filled with the Holy Spirit, then the ministry of Jesus just flows out of you.\", \"Sports for me is when a guy walks off the court, and you really can't tell whether he won or lost, when he carries himself with pride either way.\", 'Expect the best. Prepare for the worst. Capitalize on what comes.', 'I became insane, with long intervals of horrible sanity.', 'Failure is a detour, not a dead-end street.', 'I am not a product of my circumstances. I am a product of my decisions.', 'You can cut all the flowers but you cannot keep spring from coming.', \"Life doesn't run away from nobody. Life runs at people.\", 'In order to succeed, your desire for success should be greater than your fear of failure.', \"It's difficult to think anything but pleasant thoughts while eating a homegrown tomato.\", 'Too many of us are not living our dreams because we are living our fears.', 'If the only prayer you ever say in your entire life is thank you, it will be enough.', \"It's just a job. Grass grows, birds fly, waves pound the sand. I beat people up.\", 'A man must be big enough to admit his mistakes, smart enough to profit from them, and strong enough to correct them.', 'Our greatest weakness lies in giving up. The most certain way to succeed is always to try just one more time.', \"It has been said, 'time heals all wounds.' I do not agree. The wounds remain. In time, the mind, protecting its sanity, covers them with scar tissue and the pain lessens. But it is never gone.\", 'This is one small step for a man, one giant leap for mankind.', \"I have held many things in my hands, and I have lost them all; but whatever I have placed in God's hands, that I still possess.\", \"Welfare's purpose should be to eliminate, as far as possible, the need for its own existence.\", 'Each time, before you intercede, be quiet first, and worship God in His glory. Think of what He can do, and how He delights to hear the prayers of His redeemed people. Think of your place and privilege in Christ, and expect great things!', \"Failure is not the opposite of success; it's part of success.\", 'No one has ever become poor by giving.', 'It is not my ability, but my response to God’s ability, that counts.', 'No one is born hating another person because of the color of his skin, or his background, or his religion. People must learn to hate, and if they can learn to hate, they can be taught to love, for love comes more naturally to the human heart than its opposite.', 'No matter what people tell you, words and ideas can change the world.', 'A man should never neglect his family for business.', 'Those who dare to fail miserably can achieve greatly.', 'The two most important days in your life are the day you are born and the day you find out why.', 'We must be global Christians with a global vision because our God is a global God.', 'With everything that has happened to you, you can either feel sorry for yourself or treat what has happened as a gift. Everything is either an opportunity to grow or an obstacle to keep you from growing. You get to choose.', 'Don’t let the noise of others’ opinions drown out your own inner voice.', 'History, despite its wrenching pain, cannot be unlived, but if faced with courage, need not be lived again.', \"How old would you be if you didn't know how old you are?\", 'Leadership is a privilege to better the lives of others. It is not an opportunity to satisfy personal greed.', 'If you have good thoughts they will shine out of your face like sunbeams and you will always look lovely.', 'Never cut a tree down in the wintertime. Never make a negative decision in the low time. Never make your most important decisions when you are in your worst moods. Wait. Be patient. The storm will pass. The spring will come.', 'An optimist stays up until midnight to see the new year in. A pessimist stays up to make sure the old year leaves.', 'When the going gets weird, the weird turn pro.', \"When a train goes through a tunnel and it gets dark, you don't throw away the ticket and jump off. You sit still and trust the engineer.\", 'If you think you are too small to make a difference, try sleeping with a mosquito.', \"God doesn't require us to succeed, he only requires that you try.\", 'Change your thoughts and you change your world.', 'The essence of strategy is choosing what not to do.', 'One cannot and must not try to erase the past merely because it does not fit the present.', 'Patriotism means to stand by the country. It does not mean to stand by the president.', 'Death is something inevitable. When a man has done what he considers to be his duty to his people and his country, he can rest in peace. I believe I have made that effort and that is, therefore, why I will sleep for the eternity.', 'You have to love a nation that celebrates its independence every July 4, not with a parade of guns, tanks, and soldiers who file by the White House in a show of strength and muscle, but with family picnics where kids throw Frisbees, the potato salad gets iffy, and the flies die from happiness. You may think you have overeaten, but it is patriotism.', 'Be more concerned with your character than your reputation, because your character is what you really are, while your reputation is merely what others think you are.', 'Weak people revenge. Strong people forgive. Intelligent People Ignore.', \"A mind is like a parachute. It doesn't work if it is not open.\", 'Never be afraid to raise your voice for honesty and truth and compassion against injustice and lying and greed. If people all over the world...would do this, it would change the earth.', 'There are three kinds of men. The one that learns by reading. The few who learn by observation. The rest of them have to pee on the electric fence for themselves.', \"A strong nation, like a strong person, can afford to be gentle, firm, thoughtful, and restrained. It can afford to extend a helping hand to others. It's a weak nation, like a weak person, that must behave with bluster and boasting and rashness and other signs of insecurity.\", 'The difference between stupidity and genius is that genius has its limits.', 'We the people are the rightful masters of both Congress and the courts, not to overthrow the Constitution but to overthrow the men who pervert the Constitution.', 'With or without religion, you would have good people doing good things and evil people doing evil things. But for good people to do evil things, that takes religion.', 'Human kindness has never weakened the stamina or softened the fiber of a free people. A nation does not have to be cruel to be tough.', 'A person who never made a mistake never tried anything new.', 'My mission in life is not merely to survive, but to thrive; and to do so with some passion, some compassion, some humor, and some style', 'Life is short, Break the Rules. Forgive quickly, Kiss slowly. Love truly. Laugh uncontrollably And never regret ANYTHING That makes you smile.', 'This country will not be a good place for any of us to live in unless we make it a good place for all of us to live in.', 'In a world filled with hate, we must still dare to hope. In a world filled with anger, we must still dare to comfort. In a world filled with despair, we must still dare to dream. And in a world filled with distrust, we must still dare to believe.', 'Darkness cannot drive out darkness; only light can do that. Hate cannot drive out hate; only love can do that.', 'To be a Christian means to forgive the inexcusable because God has forgiven the inexcusable in you.', 'A man who is good enough to shed his blood for the country is good enough to be given a square deal afterwards.', 'Kindness is the language which the deaf can hear and the blind can see.', 'Most folks are as happy as they make up their minds to be.', 'A happy marriage is the union of two good forgivers.', 'I believe in Christianity as I believe that the sun has risen: not only because I see it, but because by it I see everything else.', 'Politics is the art of looking for trouble, finding it everywhere, diagnosing it incorrectly and applying the wrong remedies.', \"I believe in everything until it's disproved. So I believe in fairies, the myths, dragons. It all exists, even if it's in your mind. Who's to say that dreams and nightmares aren't as real as the here and now?\", 'At the end of your life, you will never regret not having passed one more test, not winning one more verdict or not closing one more deal. You will regret time not spent with a husband, a friend, a child, or a parent.', 'I never think of the future - it comes soon enough.', \"Our greatest fear should not be of failure but of succeeding at things in life that don't really matter.\", 'Failure is simply the opportunity to begin again, this time more intelligently.', 'Music expresses that which cannot be put into words.', 'Good actions are a guard against the blows of adversity.', 'Positive thinking will let you do everything better than negative thinking will.', \"You have enemies? Good. That means you've stood up for something, sometime in your life.\", \"You don't have to be great to start, but you have to start to be great\", 'Let every nation know, whether it wishes us well or ill, that we shall pay any price, bear any burden, meet any hardship, support any friend, oppose any foe to assure the survival and the success of liberty.', \"If you want total security, go to prison. There you're fed, clothed, given medical care and so on. The only thing lacking... is freedom.\", 'Socialism is a philosophy of failure, the creed of ignorance, and the gospel of envy, its inherent virtue is the equal sharing of misery.', 'It is the supreme art of the teacher to awaken joy in creative expression and knowledge.', \"Once you replace negative thoughts with positive ones, you'll start having positive results.\", \"You build on failure. You use it as a stepping stone. Close the door on the past. You don't try to forget the mistakes, but you don't dwell on it. You don't let it have any of your energy, or any of your time, or any of your space.\", 'All my life through, the new sights of Nature made me rejoice like a child.', \"I've learned that people will forget what you said, people will forget what you did, but people will never forget how you made them feel.\", 'Marriage is not a ritual or an end. It is a long, intricate, intimate dance together and nothing matters more than your own sense of balance and your choice of partner.', 'When obstacles arise, you change your direction to reach your goal; you do not change your decision to get there.', 'Time you enjoy wasting, was not wasted.', 'The next time some academics tell you how important diversity is, ask how many Republicans there are in their sociology department.', 'Faith is not the belief that God will do what you want. It is the belief that God will do what is right.', \"If you can't fly then run, if you can't run then walk, if you can't walk then crawl, but whatever you do you have to keep moving forward.\", 'It is hard to imagine a more stupid or more dangerous way of making decisions than by putting those decisions in the hands of people who pay no price for being wrong.', 'I say that the most liberating thing about beauty is realizing that you are the beholder.', 'The ultimate measure of a man is not where he stands in moments of comfort and convenience, but where he stands at times of challenge and controversy.', 'The soldier, above all other people, prays for peace, for he must suffer and bear the deepest wounds and scars of war.', 'A true leader has the confidence to stand alone, the courage to make tough decisions, and the compassion to listen to the needs of others. He does not set out to be a leader, but becomes one by the equality of his actions and the integrity of his intent.', 'I am a Soldier, I fight where I am told, and I win where I fight.', \"Trying to do the Lord's work in your own strength is the most confusing, exhausting, and tedious of all work. But when you are filled with the Holy Spirit, then the ministry of Jesus just flows out of you.\", \"Sports for me is when a guy walks off the court, and you really can't tell whether he won or lost, when he carries himself with pride either way.\", 'Expect the best. Prepare for the worst. Capitalize on what comes.', 'I became insane, with long intervals of horrible sanity.', 'Failure is a detour, not a dead-end street.', 'I am not a product of my circumstances. I am a product of my decisions.', 'You can cut all the flowers but you cannot keep spring from coming.', \"Life doesn't run away from nobody. Life runs at people.\", 'In order to succeed, your desire for success should be greater than your fear of failure.', \"It's difficult to think anything but pleasant thoughts while eating a homegrown tomato.\", 'Too many of us are not living our dreams because we are living our fears.', 'If the only prayer you ever say in your entire life is thank you, it will be enough.', \"It's just a job. Grass grows, birds fly, waves pound the sand. I beat people up.\", 'A man must be big enough to admit his mistakes, smart enough to profit from them, and strong enough to correct them.', 'Our greatest weakness lies in giving up. The most certain way to succeed is always to try just one more time.', \"It has been said, 'time heals all wounds.' I do not agree. The wounds remain. In time, the mind, protecting its sanity, covers them with scar tissue and the pain lessens. But it is never gone.\", 'This is one small step for a man, one giant leap for mankind.', \"I have held many things in my hands, and I have lost them all; but whatever I have placed in God's hands, that I still possess.\", \"Welfare's purpose should be to eliminate, as far as possible, the need for its own existence.\", 'Each time, before you intercede, be quiet first, and worship God in His glory. Think of what He can do, and how He delights to hear the prayers of His redeemed people. Think of your place and privilege in Christ, and expect great things!', \"Failure is not the opposite of success; it's part of success.\", 'No one has ever become poor by giving.', 'It is not my ability, but my response to God’s ability, that counts.', 'No one is born hating another person because of the color of his skin, or his background, or his religion. People must learn to hate, and if they can learn to hate, they can be taught to love, for love comes more naturally to the human heart than its opposite.', 'No matter what people tell you, words and ideas can change the world.', 'A man should never neglect his family for business.', 'Those who dare to fail miserably can achieve greatly.', 'The two most important days in your life are the day you are born and the day you find out why.', 'We must be global Christians with a global vision because our God is a global God.', 'With everything that has happened to you, you can either feel sorry for yourself or treat what has happened as a gift. Everything is either an opportunity to grow or an obstacle to keep you from growing. You get to choose.', 'Don’t let the noise of others’ opinions drown out your own inner voice.', 'History, despite its wrenching pain, cannot be unlived, but if faced with courage, need not be lived again.', \"How old would you be if you didn't know how old you are?\", 'Leadership is a privilege to better the lives of others. It is not an opportunity to satisfy personal greed.', 'If you have good thoughts they will shine out of your face like sunbeams and you will always look lovely.', 'Never cut a tree down in the wintertime. Never make a negative decision in the low time. Never make your most important decisions when you are in your worst moods. Wait. Be patient. The storm will pass. The spring will come.', 'An optimist stays up until midnight to see the new year in. A pessimist stays up to make sure the old year leaves.', 'When the going gets weird, the weird turn pro.', \"When a train goes through a tunnel and it gets dark, you don't throw away the ticket and jump off. You sit still and trust the engineer.\", 'If you think you are too small to make a difference, try sleeping with a mosquito.', \"God doesn't require us to succeed, he only requires that you try.\", 'Change your thoughts and you change your world.', 'The essence of strategy is choosing what not to do.', 'One cannot and must not try to erase the past merely because it does not fit the present.', 'Patriotism means to stand by the country. It does not mean to stand by the president.', 'Death is something inevitable. When a man has done what he considers to be his duty to his people and his country, he can rest in peace. I believe I have made that effort and that is, therefore, why I will sleep for the eternity.', 'You have to love a nation that celebrates its independence every July 4, not with a parade of guns, tanks, and soldiers who file by the White House in a show of strength and muscle, but with family picnics where kids throw Frisbees, the potato salad gets iffy, and the flies die from happiness. You may think you have overeaten, but it is patriotism.', 'Be more concerned with your character than your reputation, because your character is what you really are, while your reputation is merely what others think you are.', 'Weak people revenge. Strong people forgive. Intelligent People Ignore.', \"A mind is like a parachute. It doesn't work if it is not open.\", 'Never be afraid to raise your voice for honesty and truth and compassion against injustice and lying and greed. If people all over the world...would do this, it would change the earth.', 'There are three kinds of men. The one that learns by reading. The few who learn by observation. The rest of them have to pee on the electric fence for themselves.', \"A strong nation, like a strong person, can afford to be gentle, firm, thoughtful, and restrained. It can afford to extend a helping hand to others. It's a weak nation, like a weak person, that must behave with bluster and boasting and rashness and other signs of insecurity.\", 'The difference between stupidity and genius is that genius has its limits.', 'We the people are the rightful masters of both Congress and the courts, not to overthrow the Constitution but to overthrow the men who pervert the Constitution.', 'With or without religion, you would have good people doing good things and evil people doing evil things. But for good people to do evil things, that takes religion.', 'Human kindness has never weakened the stamina or softened the fiber of a free people. A nation does not have to be cruel to be tough.', 'A person who never made a mistake never tried anything new.', 'My mission in life is not merely to survive, but to thrive; and to do so with some passion, some compassion, some humor, and some style', 'Life is short, Break the Rules. Forgive quickly, Kiss slowly. Love truly. Laugh uncontrollably And never regret ANYTHING That makes you smile.', 'This country will not be a good place for any of us to live in unless we make it a good place for all of us to live in.', 'In a world filled with hate, we must still dare to hope. In a world filled with anger, we must still dare to comfort. In a world filled with despair, we must still dare to dream. And in a world filled with distrust, we must still dare to believe.', 'Darkness cannot drive out darkness; only light can do that. Hate cannot drive out hate; only love can do that.', 'To be a Christian means to forgive the inexcusable because God has forgiven the inexcusable in you.', 'A man who is good enough to shed his blood for the country is good enough to be given a square deal afterwards.', 'Kindness is the language which the deaf can hear and the blind can see.', 'Most folks are as happy as they make up their minds to be.', 'A happy marriage is the union of two good forgivers.', 'I believe in Christianity as I believe that the sun has risen: not only because I see it, but because by it I see everything else.', 'Politics is the art of looking for trouble, finding it everywhere, diagnosing it incorrectly and applying the wrong remedies.', \"I believe in everything until it's disproved. So I believe in fairies, the myths, dragons. It all exists, even if it's in your mind. Who's to say that dreams and nightmares aren't as real as the here and now?\", 'At the end of your life, you will never regret not having passed one more test, not winning one more verdict or not closing one more deal. You will regret time not spent with a husband, a friend, a child, or a parent.', 'I never think of the future - it comes soon enough.', \"Our greatest fear should not be of failure but of succeeding at things in life that don't really matter.\", 'Failure is simply the opportunity to begin again, this time more intelligently.', 'Music expresses that which cannot be put into words.', 'Good actions are a guard against the blows of adversity.', 'Positive thinking will let you do everything better than negative thinking will.', \"You have enemies? Good. That means you've stood up for something, sometime in your life.\", \"You don't have to be great to start, but you have to start to be great\", 'Let every nation know, whether it wishes us well or ill, that we shall pay any price, bear any burden, meet any hardship, support any friend, oppose any foe to assure the survival and the success of liberty.', \"If you want total security, go to prison. There you're fed, clothed, given medical care and so on. The only thing lacking... is freedom.\", 'Socialism is a philosophy of failure, the creed of ignorance, and the gospel of envy, its inherent virtue is the equal sharing of misery.', 'It is the supreme art of the teacher to awaken joy in creative expression and knowledge.', \"Once you replace negative thoughts with positive ones, you'll start having positive results.\", \"You build on failure. You use it as a stepping stone. Close the door on the past. You don't try to forget the mistakes, but you don't dwell on it. You don't let it have any of your energy, or any of your time, or any of your space.\", 'All my life through, the new sights of Nature made me rejoice like a child.', \"I've learned that people will forget what you said, people will forget what you did, but people will never forget how you made them feel.\", 'Marriage is not a ritual or an end. It is a long, intricate, intimate dance together and nothing matters more than your own sense of balance and your choice of partner.', 'When obstacles arise, you change your direction to reach your goal; you do not change your decision to get there.', 'Time you enjoy wasting, was not wasted.', 'The next time some academics tell you how important diversity is, ask how many Republicans there are in their sociology department.', 'Faith is not the belief that God will do what you want. It is the belief that God will do what is right.', \"If you can't fly then run, if you can't run then walk, if you can't walk then crawl, but whatever you do you have to keep moving forward.\", 'It is hard to imagine a more stupid or more dangerous way of making decisions than by putting those decisions in the hands of people who pay no price for being wrong.', 'I say that the most liberating thing about beauty is realizing that you are the beholder.', 'The ultimate measure of a man is not where he stands in moments of comfort and convenience, but where he stands at times of challenge and controversy.', 'The soldier, above all other people, prays for peace, for he must suffer and bear the deepest wounds and scars of war.', 'A true leader has the confidence to stand alone, the courage to make tough decisions, and the compassion to listen to the needs of others. He does not set out to be a leader, but becomes one by the equality of his actions and the integrity of his intent.', 'I am a Soldier, I fight where I am told, and I win where I fight.', \"Trying to do the Lord's work in your own strength is the most confusing, exhausting, and tedious of all work. But when you are filled with the Holy Spirit, then the ministry of Jesus just flows out of you.\", \"Sports for me is when a guy walks off the court, and you really can't tell whether he won or lost, when he carries himself with pride either way.\", 'Expect the best. Prepare for the worst. Capitalize on what comes.', 'I became insane, with long intervals of horrible sanity.', 'Failure is a detour, not a dead-end street.', 'I am not a product of my circumstances. I am a product of my decisions.', 'You can cut all the flowers but you cannot keep spring from coming.', \"Life doesn't run away from nobody. Life runs at people.\", 'In order to succeed, your desire for success should be greater than your fear of failure.', \"It's difficult to think anything but pleasant thoughts while eating a homegrown tomato.\", 'Too many of us are not living our dreams because we are living our fears.', 'If the only prayer you ever say in your entire life is thank you, it will be enough.', \"It's just a job. Grass grows, birds fly, waves pound the sand. I beat people up.\", 'A man must be big enough to admit his mistakes, smart enough to profit from them, and strong enough to correct them.', 'Our greatest weakness lies in giving up. The most certain way to succeed is always to try just one more time.', \"It has been said, 'time heals all wounds.' I do not agree. The wounds remain. In time, the mind, protecting its sanity, covers them with scar tissue and the pain lessens. But it is never gone.\", 'This is one small step for a man, one giant leap for mankind.', \"I have held many things in my hands, and I have lost them all; but whatever I have placed in God's hands, that I still possess.\", \"Welfare's purpose should be to eliminate, as far as possible, the need for its own existence.\", 'Each time, before you intercede, be quiet first, and worship God in His glory. Think of what He can do, and how He delights to hear the prayers of His redeemed people. Think of your place and privilege in Christ, and expect great things!', \"Failure is not the opposite of success; it's part of success.\", 'No one has ever become poor by giving.', 'It is not my ability, but my response to God’s ability, that counts.', 'No one is born hating another person because of the color of his skin, or his background, or his religion. People must learn to hate, and if they can learn to hate, they can be taught to love, for love comes more naturally to the human heart than its opposite.', 'No matter what people tell you, words and ideas can change the world.', 'A man should never neglect his family for business.', 'Those who dare to fail miserably can achieve greatly.', 'The two most important days in your life are the day you are born and the day you find out why.', 'We must be global Christians with a global vision because our God is a global God.', 'With everything that has happened to you, you can either feel sorry for yourself or treat what has happened as a gift. Everything is either an opportunity to grow or an obstacle to keep you from growing. You get to choose.', 'Don’t let the noise of others’ opinions drown out your own inner voice.', 'History, despite its wrenching pain, cannot be unlived, but if faced with courage, need not be lived again.', \"How old would you be if you didn't know how old you are?\", 'Leadership is a privilege to better the lives of others. It is not an opportunity to satisfy personal greed.', 'If you have good thoughts they will shine out of your face like sunbeams and you will always look lovely.', 'Never cut a tree down in the wintertime. Never make a negative decision in the low time. Never make your most important decisions when you are in your worst moods. Wait. Be patient. The storm will pass. The spring will come.', 'An optimist stays up until midnight to see the new year in. A pessimist stays up to make sure the old year leaves.', 'When the going gets weird, the weird turn pro.', \"When a train goes through a tunnel and it gets dark, you don't throw away the ticket and jump off. You sit still and trust the engineer.\", 'If you think you are too small to make a difference, try sleeping with a mosquito.', \"God doesn't require us to succeed, he only requires that you try.\", 'Change your thoughts and you change your world.']\n"
     ]
    }
   ],
   "source": [
    "print(quote)"
   ]
  },
  {
   "cell_type": "code",
   "execution_count": 124,
   "id": "88b25538",
   "metadata": {},
   "outputs": [],
   "source": [
    "previous_button=driver.find_element(By.XPATH,'/html/body/div[1]/div[2]/div/div/div/div[1]/div/div[4]/li[2]/a')\n",
    "previous_button.click()"
   ]
  },
  {
   "cell_type": "code",
   "execution_count": 125,
   "id": "144f0f21",
   "metadata": {},
   "outputs": [
    {
     "name": "stdout",
     "output_type": "stream",
     "text": [
      "1000\n"
     ]
    }
   ],
   "source": [
    "start=0\n",
    "end=10\n",
    "for page in range(start,end):\n",
    "    auth=driver.find_elements(By.XPATH,'//div[@class=\"author\"]')\n",
    "    for i in auth:\n",
    "        author.append(i.text)\n",
    "next_button=driver.find_element(By.CLASS_NAME,\"next\")\n",
    "next_button.click()\n",
    "time.sleep(10)\n",
    "print(len(author))"
   ]
  },
  {
   "cell_type": "code",
   "execution_count": 126,
   "id": "800b4f2d",
   "metadata": {},
   "outputs": [
    {
     "name": "stdout",
     "output_type": "stream",
     "text": [
      "['Michael Porter', 'Golda Meir', 'Theodore Roosevelt', 'Nelson Mandela', 'Erma Bombeck', 'John Wooden', 'Albert Einstein', 'Frank Zappa', 'William Faulkner', 'Will Rogers', 'Jimmy Carter', 'Albert Einstein', 'Abraham Lincoln', 'Steven Weinberg', 'Franklin D. Roosevelt', 'Albert Einstein', 'Maya Angelou', 'Mark Twain', 'Theodore Roosevelt', 'Michael Jackson', 'Martin Luther King, Jr.', 'C. S. Lewis', 'Theodore Roosevelt', 'Mark Twain', 'Abraham Lincoln', 'Ruth Graham', 'C. S. Lewis', 'Groucho Marx', 'John Lennon', 'Barbara Bush', 'Albert Einstein', 'Francis Chan', 'Henry Ford', 'Victor Hugo', 'Abu Bakr', 'Zig Ziglar', 'Winston Churchill', 'Zig Ziglar', 'John F. Kennedy', 'Dwight D. Eisenhower', 'Winston Churchill', 'Albert Einstein', 'Willie Nelson', 'Johnny Cash', 'Marie Curie', 'Maya Angelou', 'Amy Bloom', 'Zig Ziglar', 'John Lennon', 'Thomas Sowell', 'Max Lucado', 'Martin Luther King, Jr.', 'Thomas Sowell', 'Salma Hayek', 'Martin Luther King, Jr.', 'Douglas MacArthur', 'Douglas MacArthur', 'George S. Patton', 'Corrie Ten Boom', 'Jim Courier', 'Zig Ziglar', 'Edgar Allan Poe', 'Zig Ziglar', 'Stephen Covey', 'Pablo Neruda', 'Joe Frazier', 'Bill Cosby', 'Lewis Grizzard', 'Les Brown', 'Meister Eckhart', 'Muhammad Ali', 'John C. Maxwell', 'Thomas A. Edison', 'Rose Kennedy', 'Neil Armstrong', 'Martin Luther', 'Ronald Reagan', 'Andrew Murray', 'Arianna Huffington', 'Anne Frank', 'Corrie Ten Boom', 'Nelson Mandela', 'Robin Williams', 'Walt Disney', 'John F. Kennedy', 'Mark Twain', 'John Stott', 'Wayne Dyer', 'Steve Jobs', 'Maya Angelou', 'Satchel Paige', 'Mwai Kibaki', 'Roald Dahl', 'Robert H. Schuller', 'Bill Vaughan', 'Hunter S. Thompson', 'Corrie Ten Boom', 'Dalai Lama', 'Mother Teresa', 'Norman Vincent Peale', 'Michael Porter', 'Golda Meir', 'Theodore Roosevelt', 'Nelson Mandela', 'Erma Bombeck', 'John Wooden', 'Albert Einstein', 'Frank Zappa', 'William Faulkner', 'Will Rogers', 'Jimmy Carter', 'Albert Einstein', 'Abraham Lincoln', 'Steven Weinberg', 'Franklin D. Roosevelt', 'Albert Einstein', 'Maya Angelou', 'Mark Twain', 'Theodore Roosevelt', 'Michael Jackson', 'Martin Luther King, Jr.', 'C. S. Lewis', 'Theodore Roosevelt', 'Mark Twain', 'Abraham Lincoln', 'Ruth Graham', 'C. S. Lewis', 'Groucho Marx', 'John Lennon', 'Barbara Bush', 'Albert Einstein', 'Francis Chan', 'Henry Ford', 'Victor Hugo', 'Abu Bakr', 'Zig Ziglar', 'Winston Churchill', 'Zig Ziglar', 'John F. Kennedy', 'Dwight D. Eisenhower', 'Winston Churchill', 'Albert Einstein', 'Willie Nelson', 'Johnny Cash', 'Marie Curie', 'Maya Angelou', 'Amy Bloom', 'Zig Ziglar', 'John Lennon', 'Thomas Sowell', 'Max Lucado', 'Martin Luther King, Jr.', 'Thomas Sowell', 'Salma Hayek', 'Martin Luther King, Jr.', 'Douglas MacArthur', 'Douglas MacArthur', 'George S. Patton', 'Corrie Ten Boom', 'Jim Courier', 'Zig Ziglar', 'Edgar Allan Poe', 'Zig Ziglar', 'Stephen Covey', 'Pablo Neruda', 'Joe Frazier', 'Bill Cosby', 'Lewis Grizzard', 'Les Brown', 'Meister Eckhart', 'Muhammad Ali', 'John C. Maxwell', 'Thomas A. Edison', 'Rose Kennedy', 'Neil Armstrong', 'Martin Luther', 'Ronald Reagan', 'Andrew Murray', 'Arianna Huffington', 'Anne Frank', 'Corrie Ten Boom', 'Nelson Mandela', 'Robin Williams', 'Walt Disney', 'John F. Kennedy', 'Mark Twain', 'John Stott', 'Wayne Dyer', 'Steve Jobs', 'Maya Angelou', 'Satchel Paige', 'Mwai Kibaki', 'Roald Dahl', 'Robert H. Schuller', 'Bill Vaughan', 'Hunter S. Thompson', 'Corrie Ten Boom', 'Dalai Lama', 'Mother Teresa', 'Norman Vincent Peale', 'Michael Porter', 'Golda Meir', 'Theodore Roosevelt', 'Nelson Mandela', 'Erma Bombeck', 'John Wooden', 'Albert Einstein', 'Frank Zappa', 'William Faulkner', 'Will Rogers', 'Jimmy Carter', 'Albert Einstein', 'Abraham Lincoln', 'Steven Weinberg', 'Franklin D. Roosevelt', 'Albert Einstein', 'Maya Angelou', 'Mark Twain', 'Theodore Roosevelt', 'Michael Jackson', 'Martin Luther King, Jr.', 'C. S. Lewis', 'Theodore Roosevelt', 'Mark Twain', 'Abraham Lincoln', 'Ruth Graham', 'C. S. Lewis', 'Groucho Marx', 'John Lennon', 'Barbara Bush', 'Albert Einstein', 'Francis Chan', 'Henry Ford', 'Victor Hugo', 'Abu Bakr', 'Zig Ziglar', 'Winston Churchill', 'Zig Ziglar', 'John F. Kennedy', 'Dwight D. Eisenhower', 'Winston Churchill', 'Albert Einstein', 'Willie Nelson', 'Johnny Cash', 'Marie Curie', 'Maya Angelou', 'Amy Bloom', 'Zig Ziglar', 'John Lennon', 'Thomas Sowell', 'Max Lucado', 'Martin Luther King, Jr.', 'Thomas Sowell', 'Salma Hayek', 'Martin Luther King, Jr.', 'Douglas MacArthur', 'Douglas MacArthur', 'George S. Patton', 'Corrie Ten Boom', 'Jim Courier', 'Zig Ziglar', 'Edgar Allan Poe', 'Zig Ziglar', 'Stephen Covey', 'Pablo Neruda', 'Joe Frazier', 'Bill Cosby', 'Lewis Grizzard', 'Les Brown', 'Meister Eckhart', 'Muhammad Ali', 'John C. Maxwell', 'Thomas A. Edison', 'Rose Kennedy', 'Neil Armstrong', 'Martin Luther', 'Ronald Reagan', 'Andrew Murray', 'Arianna Huffington', 'Anne Frank', 'Corrie Ten Boom', 'Nelson Mandela', 'Robin Williams', 'Walt Disney', 'John F. Kennedy', 'Mark Twain', 'John Stott', 'Wayne Dyer', 'Steve Jobs', 'Maya Angelou', 'Satchel Paige', 'Mwai Kibaki', 'Roald Dahl', 'Robert H. Schuller', 'Bill Vaughan', 'Hunter S. Thompson', 'Corrie Ten Boom', 'Dalai Lama', 'Mother Teresa', 'Norman Vincent Peale', 'Michael Porter', 'Golda Meir', 'Theodore Roosevelt', 'Nelson Mandela', 'Erma Bombeck', 'John Wooden', 'Albert Einstein', 'Frank Zappa', 'William Faulkner', 'Will Rogers', 'Jimmy Carter', 'Albert Einstein', 'Abraham Lincoln', 'Steven Weinberg', 'Franklin D. Roosevelt', 'Albert Einstein', 'Maya Angelou', 'Mark Twain', 'Theodore Roosevelt', 'Michael Jackson', 'Martin Luther King, Jr.', 'C. S. Lewis', 'Theodore Roosevelt', 'Mark Twain', 'Abraham Lincoln', 'Ruth Graham', 'C. S. Lewis', 'Groucho Marx', 'John Lennon', 'Barbara Bush', 'Albert Einstein', 'Francis Chan', 'Henry Ford', 'Victor Hugo', 'Abu Bakr', 'Zig Ziglar', 'Winston Churchill', 'Zig Ziglar', 'John F. Kennedy', 'Dwight D. Eisenhower', 'Winston Churchill', 'Albert Einstein', 'Willie Nelson', 'Johnny Cash', 'Marie Curie', 'Maya Angelou', 'Amy Bloom', 'Zig Ziglar', 'John Lennon', 'Thomas Sowell', 'Max Lucado', 'Martin Luther King, Jr.', 'Thomas Sowell', 'Salma Hayek', 'Martin Luther King, Jr.', 'Douglas MacArthur', 'Douglas MacArthur', 'George S. Patton', 'Corrie Ten Boom', 'Jim Courier', 'Zig Ziglar', 'Edgar Allan Poe', 'Zig Ziglar', 'Stephen Covey', 'Pablo Neruda', 'Joe Frazier', 'Bill Cosby', 'Lewis Grizzard', 'Les Brown', 'Meister Eckhart', 'Muhammad Ali', 'John C. Maxwell', 'Thomas A. Edison', 'Rose Kennedy', 'Neil Armstrong', 'Martin Luther', 'Ronald Reagan', 'Andrew Murray', 'Arianna Huffington', 'Anne Frank', 'Corrie Ten Boom', 'Nelson Mandela', 'Robin Williams', 'Walt Disney', 'John F. Kennedy', 'Mark Twain', 'John Stott', 'Wayne Dyer', 'Steve Jobs', 'Maya Angelou', 'Satchel Paige', 'Mwai Kibaki', 'Roald Dahl', 'Robert H. Schuller', 'Bill Vaughan', 'Hunter S. Thompson', 'Corrie Ten Boom', 'Dalai Lama', 'Mother Teresa', 'Norman Vincent Peale', 'Michael Porter', 'Golda Meir', 'Theodore Roosevelt', 'Nelson Mandela', 'Erma Bombeck', 'John Wooden', 'Albert Einstein', 'Frank Zappa', 'William Faulkner', 'Will Rogers', 'Jimmy Carter', 'Albert Einstein', 'Abraham Lincoln', 'Steven Weinberg', 'Franklin D. Roosevelt', 'Albert Einstein', 'Maya Angelou', 'Mark Twain', 'Theodore Roosevelt', 'Michael Jackson', 'Martin Luther King, Jr.', 'C. S. Lewis', 'Theodore Roosevelt', 'Mark Twain', 'Abraham Lincoln', 'Ruth Graham', 'C. S. Lewis', 'Groucho Marx', 'John Lennon', 'Barbara Bush', 'Albert Einstein', 'Francis Chan', 'Henry Ford', 'Victor Hugo', 'Abu Bakr', 'Zig Ziglar', 'Winston Churchill', 'Zig Ziglar', 'John F. Kennedy', 'Dwight D. Eisenhower', 'Winston Churchill', 'Albert Einstein', 'Willie Nelson', 'Johnny Cash', 'Marie Curie', 'Maya Angelou', 'Amy Bloom', 'Zig Ziglar', 'John Lennon', 'Thomas Sowell', 'Max Lucado', 'Martin Luther King, Jr.', 'Thomas Sowell', 'Salma Hayek', 'Martin Luther King, Jr.', 'Douglas MacArthur', 'Douglas MacArthur', 'George S. Patton', 'Corrie Ten Boom', 'Jim Courier', 'Zig Ziglar', 'Edgar Allan Poe', 'Zig Ziglar', 'Stephen Covey', 'Pablo Neruda', 'Joe Frazier', 'Bill Cosby', 'Lewis Grizzard', 'Les Brown', 'Meister Eckhart', 'Muhammad Ali', 'John C. Maxwell', 'Thomas A. Edison', 'Rose Kennedy', 'Neil Armstrong', 'Martin Luther', 'Ronald Reagan', 'Andrew Murray', 'Arianna Huffington', 'Anne Frank', 'Corrie Ten Boom', 'Nelson Mandela', 'Robin Williams', 'Walt Disney', 'John F. Kennedy', 'Mark Twain', 'John Stott', 'Wayne Dyer', 'Steve Jobs', 'Maya Angelou', 'Satchel Paige', 'Mwai Kibaki', 'Roald Dahl', 'Robert H. Schuller', 'Bill Vaughan', 'Hunter S. Thompson', 'Corrie Ten Boom', 'Dalai Lama', 'Mother Teresa', 'Norman Vincent Peale', 'Michael Porter', 'Golda Meir', 'Theodore Roosevelt', 'Nelson Mandela', 'Erma Bombeck', 'John Wooden', 'Albert Einstein', 'Frank Zappa', 'William Faulkner', 'Will Rogers', 'Jimmy Carter', 'Albert Einstein', 'Abraham Lincoln', 'Steven Weinberg', 'Franklin D. Roosevelt', 'Albert Einstein', 'Maya Angelou', 'Mark Twain', 'Theodore Roosevelt', 'Michael Jackson', 'Martin Luther King, Jr.', 'C. S. Lewis', 'Theodore Roosevelt', 'Mark Twain', 'Abraham Lincoln', 'Ruth Graham', 'C. S. Lewis', 'Groucho Marx', 'John Lennon', 'Barbara Bush', 'Albert Einstein', 'Francis Chan', 'Henry Ford', 'Victor Hugo', 'Abu Bakr', 'Zig Ziglar', 'Winston Churchill', 'Zig Ziglar', 'John F. Kennedy', 'Dwight D. Eisenhower', 'Winston Churchill', 'Albert Einstein', 'Willie Nelson', 'Johnny Cash', 'Marie Curie', 'Maya Angelou', 'Amy Bloom', 'Zig Ziglar', 'John Lennon', 'Thomas Sowell', 'Max Lucado', 'Martin Luther King, Jr.', 'Thomas Sowell', 'Salma Hayek', 'Martin Luther King, Jr.', 'Douglas MacArthur', 'Douglas MacArthur', 'George S. Patton', 'Corrie Ten Boom', 'Jim Courier', 'Zig Ziglar', 'Edgar Allan Poe', 'Zig Ziglar', 'Stephen Covey', 'Pablo Neruda', 'Joe Frazier', 'Bill Cosby', 'Lewis Grizzard', 'Les Brown', 'Meister Eckhart', 'Muhammad Ali', 'John C. Maxwell', 'Thomas A. Edison', 'Rose Kennedy', 'Neil Armstrong', 'Martin Luther', 'Ronald Reagan', 'Andrew Murray', 'Arianna Huffington', 'Anne Frank', 'Corrie Ten Boom', 'Nelson Mandela', 'Robin Williams', 'Walt Disney', 'John F. Kennedy', 'Mark Twain', 'John Stott', 'Wayne Dyer', 'Steve Jobs', 'Maya Angelou', 'Satchel Paige', 'Mwai Kibaki', 'Roald Dahl', 'Robert H. Schuller', 'Bill Vaughan', 'Hunter S. Thompson', 'Corrie Ten Boom', 'Dalai Lama', 'Mother Teresa', 'Norman Vincent Peale', 'Michael Porter', 'Golda Meir', 'Theodore Roosevelt', 'Nelson Mandela', 'Erma Bombeck', 'John Wooden', 'Albert Einstein', 'Frank Zappa', 'William Faulkner', 'Will Rogers', 'Jimmy Carter', 'Albert Einstein', 'Abraham Lincoln', 'Steven Weinberg', 'Franklin D. Roosevelt', 'Albert Einstein', 'Maya Angelou', 'Mark Twain', 'Theodore Roosevelt', 'Michael Jackson', 'Martin Luther King, Jr.', 'C. S. Lewis', 'Theodore Roosevelt', 'Mark Twain', 'Abraham Lincoln', 'Ruth Graham', 'C. S. Lewis', 'Groucho Marx', 'John Lennon', 'Barbara Bush', 'Albert Einstein', 'Francis Chan', 'Henry Ford', 'Victor Hugo', 'Abu Bakr', 'Zig Ziglar', 'Winston Churchill', 'Zig Ziglar', 'John F. Kennedy', 'Dwight D. Eisenhower', 'Winston Churchill', 'Albert Einstein', 'Willie Nelson', 'Johnny Cash', 'Marie Curie', 'Maya Angelou', 'Amy Bloom', 'Zig Ziglar', 'John Lennon', 'Thomas Sowell', 'Max Lucado', 'Martin Luther King, Jr.', 'Thomas Sowell', 'Salma Hayek', 'Martin Luther King, Jr.', 'Douglas MacArthur', 'Douglas MacArthur', 'George S. Patton', 'Corrie Ten Boom', 'Jim Courier', 'Zig Ziglar', 'Edgar Allan Poe', 'Zig Ziglar', 'Stephen Covey', 'Pablo Neruda', 'Joe Frazier', 'Bill Cosby', 'Lewis Grizzard', 'Les Brown', 'Meister Eckhart', 'Muhammad Ali', 'John C. Maxwell', 'Thomas A. Edison', 'Rose Kennedy', 'Neil Armstrong', 'Martin Luther', 'Ronald Reagan', 'Andrew Murray', 'Arianna Huffington', 'Anne Frank', 'Corrie Ten Boom', 'Nelson Mandela', 'Robin Williams', 'Walt Disney', 'John F. Kennedy', 'Mark Twain', 'John Stott', 'Wayne Dyer', 'Steve Jobs', 'Maya Angelou', 'Satchel Paige', 'Mwai Kibaki', 'Roald Dahl', 'Robert H. Schuller', 'Bill Vaughan', 'Hunter S. Thompson', 'Corrie Ten Boom', 'Dalai Lama', 'Mother Teresa', 'Norman Vincent Peale', 'Michael Porter', 'Golda Meir', 'Theodore Roosevelt', 'Nelson Mandela', 'Erma Bombeck', 'John Wooden', 'Albert Einstein', 'Frank Zappa', 'William Faulkner', 'Will Rogers', 'Jimmy Carter', 'Albert Einstein', 'Abraham Lincoln', 'Steven Weinberg', 'Franklin D. Roosevelt', 'Albert Einstein', 'Maya Angelou', 'Mark Twain', 'Theodore Roosevelt', 'Michael Jackson', 'Martin Luther King, Jr.', 'C. S. Lewis', 'Theodore Roosevelt', 'Mark Twain', 'Abraham Lincoln', 'Ruth Graham', 'C. S. Lewis', 'Groucho Marx', 'John Lennon', 'Barbara Bush', 'Albert Einstein', 'Francis Chan', 'Henry Ford', 'Victor Hugo', 'Abu Bakr', 'Zig Ziglar', 'Winston Churchill', 'Zig Ziglar', 'John F. Kennedy', 'Dwight D. Eisenhower', 'Winston Churchill', 'Albert Einstein', 'Willie Nelson', 'Johnny Cash', 'Marie Curie', 'Maya Angelou', 'Amy Bloom', 'Zig Ziglar', 'John Lennon', 'Thomas Sowell', 'Max Lucado', 'Martin Luther King, Jr.', 'Thomas Sowell', 'Salma Hayek', 'Martin Luther King, Jr.', 'Douglas MacArthur', 'Douglas MacArthur', 'George S. Patton', 'Corrie Ten Boom', 'Jim Courier', 'Zig Ziglar', 'Edgar Allan Poe', 'Zig Ziglar', 'Stephen Covey', 'Pablo Neruda', 'Joe Frazier', 'Bill Cosby', 'Lewis Grizzard', 'Les Brown', 'Meister Eckhart', 'Muhammad Ali', 'John C. Maxwell', 'Thomas A. Edison', 'Rose Kennedy', 'Neil Armstrong', 'Martin Luther', 'Ronald Reagan', 'Andrew Murray', 'Arianna Huffington', 'Anne Frank', 'Corrie Ten Boom', 'Nelson Mandela', 'Robin Williams', 'Walt Disney', 'John F. Kennedy', 'Mark Twain', 'John Stott', 'Wayne Dyer', 'Steve Jobs', 'Maya Angelou', 'Satchel Paige', 'Mwai Kibaki', 'Roald Dahl', 'Robert H. Schuller', 'Bill Vaughan', 'Hunter S. Thompson', 'Corrie Ten Boom', 'Dalai Lama', 'Mother Teresa', 'Norman Vincent Peale', 'Michael Porter', 'Golda Meir', 'Theodore Roosevelt', 'Nelson Mandela', 'Erma Bombeck', 'John Wooden', 'Albert Einstein', 'Frank Zappa', 'William Faulkner', 'Will Rogers', 'Jimmy Carter', 'Albert Einstein', 'Abraham Lincoln', 'Steven Weinberg', 'Franklin D. Roosevelt', 'Albert Einstein', 'Maya Angelou', 'Mark Twain', 'Theodore Roosevelt', 'Michael Jackson', 'Martin Luther King, Jr.', 'C. S. Lewis', 'Theodore Roosevelt', 'Mark Twain', 'Abraham Lincoln', 'Ruth Graham', 'C. S. Lewis', 'Groucho Marx', 'John Lennon', 'Barbara Bush', 'Albert Einstein', 'Francis Chan', 'Henry Ford', 'Victor Hugo', 'Abu Bakr', 'Zig Ziglar', 'Winston Churchill', 'Zig Ziglar', 'John F. Kennedy', 'Dwight D. Eisenhower', 'Winston Churchill', 'Albert Einstein', 'Willie Nelson', 'Johnny Cash', 'Marie Curie', 'Maya Angelou', 'Amy Bloom', 'Zig Ziglar', 'John Lennon', 'Thomas Sowell', 'Max Lucado', 'Martin Luther King, Jr.', 'Thomas Sowell', 'Salma Hayek', 'Martin Luther King, Jr.', 'Douglas MacArthur', 'Douglas MacArthur', 'George S. Patton', 'Corrie Ten Boom', 'Jim Courier', 'Zig Ziglar', 'Edgar Allan Poe', 'Zig Ziglar', 'Stephen Covey', 'Pablo Neruda', 'Joe Frazier', 'Bill Cosby', 'Lewis Grizzard', 'Les Brown', 'Meister Eckhart', 'Muhammad Ali', 'John C. Maxwell', 'Thomas A. Edison', 'Rose Kennedy', 'Neil Armstrong', 'Martin Luther', 'Ronald Reagan', 'Andrew Murray', 'Arianna Huffington', 'Anne Frank', 'Corrie Ten Boom', 'Nelson Mandela', 'Robin Williams', 'Walt Disney', 'John F. Kennedy', 'Mark Twain', 'John Stott', 'Wayne Dyer', 'Steve Jobs', 'Maya Angelou', 'Satchel Paige', 'Mwai Kibaki', 'Roald Dahl', 'Robert H. Schuller', 'Bill Vaughan', 'Hunter S. Thompson', 'Corrie Ten Boom', 'Dalai Lama', 'Mother Teresa', 'Norman Vincent Peale', 'Michael Porter', 'Golda Meir', 'Theodore Roosevelt', 'Nelson Mandela', 'Erma Bombeck', 'John Wooden', 'Albert Einstein', 'Frank Zappa', 'William Faulkner', 'Will Rogers', 'Jimmy Carter', 'Albert Einstein', 'Abraham Lincoln', 'Steven Weinberg', 'Franklin D. Roosevelt', 'Albert Einstein', 'Maya Angelou', 'Mark Twain', 'Theodore Roosevelt', 'Michael Jackson', 'Martin Luther King, Jr.', 'C. S. Lewis', 'Theodore Roosevelt', 'Mark Twain', 'Abraham Lincoln', 'Ruth Graham', 'C. S. Lewis', 'Groucho Marx', 'John Lennon', 'Barbara Bush', 'Albert Einstein', 'Francis Chan', 'Henry Ford', 'Victor Hugo', 'Abu Bakr', 'Zig Ziglar', 'Winston Churchill', 'Zig Ziglar', 'John F. Kennedy', 'Dwight D. Eisenhower', 'Winston Churchill', 'Albert Einstein', 'Willie Nelson', 'Johnny Cash', 'Marie Curie', 'Maya Angelou', 'Amy Bloom', 'Zig Ziglar', 'John Lennon', 'Thomas Sowell', 'Max Lucado', 'Martin Luther King, Jr.', 'Thomas Sowell', 'Salma Hayek', 'Martin Luther King, Jr.', 'Douglas MacArthur', 'Douglas MacArthur', 'George S. Patton', 'Corrie Ten Boom', 'Jim Courier', 'Zig Ziglar', 'Edgar Allan Poe', 'Zig Ziglar', 'Stephen Covey', 'Pablo Neruda', 'Joe Frazier', 'Bill Cosby', 'Lewis Grizzard', 'Les Brown', 'Meister Eckhart', 'Muhammad Ali', 'John C. Maxwell', 'Thomas A. Edison', 'Rose Kennedy', 'Neil Armstrong', 'Martin Luther', 'Ronald Reagan', 'Andrew Murray', 'Arianna Huffington', 'Anne Frank', 'Corrie Ten Boom', 'Nelson Mandela', 'Robin Williams', 'Walt Disney', 'John F. Kennedy', 'Mark Twain', 'John Stott', 'Wayne Dyer', 'Steve Jobs', 'Maya Angelou', 'Satchel Paige', 'Mwai Kibaki', 'Roald Dahl', 'Robert H. Schuller', 'Bill Vaughan', 'Hunter S. Thompson', 'Corrie Ten Boom', 'Dalai Lama', 'Mother Teresa', 'Norman Vincent Peale']\n"
     ]
    }
   ],
   "source": [
    "print(author)"
   ]
  },
  {
   "cell_type": "code",
   "execution_count": 127,
   "id": "978fcae2",
   "metadata": {},
   "outputs": [],
   "source": [
    "previous_button=driver.find_element(By.XPATH,'/html/body/div[1]/div[2]/div/div/div/div[1]/div/div[4]/li[2]/a')\n",
    "previous_button.click()"
   ]
  },
  {
   "cell_type": "code",
   "execution_count": 128,
   "id": "a7708c70",
   "metadata": {},
   "outputs": [
    {
     "name": "stdout",
     "output_type": "stream",
     "text": [
      "1000\n"
     ]
    }
   ],
   "source": [
    "start=0\n",
    "end=10\n",
    "for page in range(start,end):\n",
    "    type_quo=driver.find_elements(By.XPATH,'//div[@class=\"tags\"]')\n",
    "    for i in type_quo:\n",
    "        type_of_quotes.append(i.text)\n",
    "next_button=driver.find_element(By.CLASS_NAME,\"next\")\n",
    "next_button.click()\n",
    "time.sleep(10)\n",
    "print(len(type_of_quotes))"
   ]
  },
  {
   "cell_type": "code",
   "execution_count": 129,
   "id": "f6dcc0dd",
   "metadata": {},
   "outputs": [
    {
     "name": "stdout",
     "output_type": "stream",
     "text": [
      "['Essence, Deep Thought, Transcendentalism', 'Inspiration, Past, Trying', 'Country, Peace, War', 'Inspirational, Motivational, Death', '4th Of July, Food, Patriotic', 'Inspirational, Success, Basketball', 'Strong, Revenge, Intelligent', 'Inspirational, Teacher, Religious', 'Truth, Honesty, Lying', 'Funny, Reading, Learning', 'Strong, Thoughtful, Compassion', 'Love, Funny, Life', 'Freedom, Men, Democracies Have', 'God, Religious, Atheist', 'Respect, Kindness, Character', 'Inspirational, Motivational, Change', 'Inspirational, Life, Inspiring', 'Love, Inspirational, Life', 'Inspiring, Country, 4th Of July', 'Inspirational, Dream, Hate', 'Love, Inspirational, Life', 'Forgiveness, God, Christian', 'Country, Men, Squares', 'Inspirational, Relationship, Positive', 'Inspirational, Motivational, Positive', 'Love, Friendship, Relationship', 'Faith, God, Christian', 'Art, Freedom, Political Will', 'Inspirational, Life, Faith', 'Inspirational, Life, Meaningful', 'Happiness, Time, Clever', 'Inspirational, Inspiring, Success', 'Love, Inspirational, Life', 'Music, Sound And Music, Musical Life', 'Adversity, Blow, Action', 'Positive, Thinking Of You, Attitude', 'Inspirational, Funny, Life', 'Inspirational, Life, Motivational', 'Inspirational, Memorial Day, Freedom', 'Freedom, Patriotic, Vaccines', 'Philosophy, Ignorance, Democratic Socialism', 'Inspirational, Dance, Education', 'Life, Change, Positive', 'Life, Bullying, Mistake', 'Life, Nature, Children', 'Inspirational, Life, Motivational', 'Marriage, Love You, Long', 'Inspirational, Motivational, Success', 'Love, Inspirational, Life', 'Diversity, Important, Liberty', 'Inspirational, God, Faith', 'Inspirational, Motivational, Inspiring', 'Business, Stupid, Government', 'Beauty, Love Yourself, Your Beautiful', 'Inspirational, Life, Motivational', 'Peace, Military, War', 'Inspirational, Leadership, Confidence', 'Motivational, Military, War', 'Christian, Jesus, Confusing', 'Inspirational, Success, Sports', 'Inspirational, Motivational, Success', 'Inspirational, Life, Clever', 'Inspirational, Death, Failure', 'Inspirational, Life, Motivational', 'Inspiring, Hope, Spring', 'Motivational, Running, People', 'Inspirational, Motivational, Positive', 'Summer, Food, Garden', 'Inspirational, Life, Motivational', 'Inspirational, Life, Thank You', 'Funny, Sports, Jobs', 'Being Strong, Wisdom, Stay Strong', 'Inspirational, Motivational, Positive', 'Time, Pain, Get Well', 'Motivational, Positive, Moon', 'Life, God, Christian', 'President, Needs, Purpose', 'God, Faith, Christian', 'Women, Failure, Successful', 'Inspirational, Morning, Kindness', 'Hiding Place, Ability, Baby Boom', 'Love, Inspirational, Life', 'Inspirational, Change, Philosophy', 'Inspirational, Family, Inspiring', 'Inspirational, Success, Courage', 'Inspirational, Life, Motivational', 'Christian, Vision, Missionary', 'Inspirational, Positive, Regret', 'Love, Inspirational, Life', 'Inspirational, Life, Encouragement', 'Happy Birthday, Baseball, Fun', 'Leadership, Power, Opportunity', 'Inspirational, Life, Positive', 'Inspirational, Encouraging, Patience', 'New Year, Fun, New Beginnings', 'Music, Sports, Hunting', 'Trust, Encouraging, Uplifting', 'Inspirational, Funny, Change', 'Success, God, Mother', 'Inspirational, Motivational, Change', 'Essence, Deep Thought, Transcendentalism', 'Inspiration, Past, Trying', 'Country, Peace, War', 'Inspirational, Motivational, Death', '4th Of July, Food, Patriotic', 'Inspirational, Success, Basketball', 'Strong, Revenge, Intelligent', 'Inspirational, Teacher, Religious', 'Truth, Honesty, Lying', 'Funny, Reading, Learning', 'Strong, Thoughtful, Compassion', 'Love, Funny, Life', 'Freedom, Men, Democracies Have', 'God, Religious, Atheist', 'Respect, Kindness, Character', 'Inspirational, Motivational, Change', 'Inspirational, Life, Inspiring', 'Love, Inspirational, Life', 'Inspiring, Country, 4th Of July', 'Inspirational, Dream, Hate', 'Love, Inspirational, Life', 'Forgiveness, God, Christian', 'Country, Men, Squares', 'Inspirational, Relationship, Positive', 'Inspirational, Motivational, Positive', 'Love, Friendship, Relationship', 'Faith, God, Christian', 'Art, Freedom, Political Will', 'Inspirational, Life, Faith', 'Inspirational, Life, Meaningful', 'Happiness, Time, Clever', 'Inspirational, Inspiring, Success', 'Love, Inspirational, Life', 'Music, Sound And Music, Musical Life', 'Adversity, Blow, Action', 'Positive, Thinking Of You, Attitude', 'Inspirational, Funny, Life', 'Inspirational, Life, Motivational', 'Inspirational, Memorial Day, Freedom', 'Freedom, Patriotic, Vaccines', 'Philosophy, Ignorance, Democratic Socialism', 'Inspirational, Dance, Education', 'Life, Change, Positive', 'Life, Bullying, Mistake', 'Life, Nature, Children', 'Inspirational, Life, Motivational', 'Marriage, Love You, Long', 'Inspirational, Motivational, Success', 'Love, Inspirational, Life', 'Diversity, Important, Liberty', 'Inspirational, God, Faith', 'Inspirational, Motivational, Inspiring', 'Business, Stupid, Government', 'Beauty, Love Yourself, Your Beautiful', 'Inspirational, Life, Motivational', 'Peace, Military, War', 'Inspirational, Leadership, Confidence', 'Motivational, Military, War', 'Christian, Jesus, Confusing', 'Inspirational, Success, Sports', 'Inspirational, Motivational, Success', 'Inspirational, Life, Clever', 'Inspirational, Death, Failure', 'Inspirational, Life, Motivational', 'Inspiring, Hope, Spring', 'Motivational, Running, People', 'Inspirational, Motivational, Positive', 'Summer, Food, Garden', 'Inspirational, Life, Motivational', 'Inspirational, Life, Thank You', 'Funny, Sports, Jobs', 'Being Strong, Wisdom, Stay Strong', 'Inspirational, Motivational, Positive', 'Time, Pain, Get Well', 'Motivational, Positive, Moon', 'Life, God, Christian', 'President, Needs, Purpose', 'God, Faith, Christian', 'Women, Failure, Successful', 'Inspirational, Morning, Kindness', 'Hiding Place, Ability, Baby Boom', 'Love, Inspirational, Life', 'Inspirational, Change, Philosophy', 'Inspirational, Family, Inspiring', 'Inspirational, Success, Courage', 'Inspirational, Life, Motivational', 'Christian, Vision, Missionary', 'Inspirational, Positive, Regret', 'Love, Inspirational, Life', 'Inspirational, Life, Encouragement', 'Happy Birthday, Baseball, Fun', 'Leadership, Power, Opportunity', 'Inspirational, Life, Positive', 'Inspirational, Encouraging, Patience', 'New Year, Fun, New Beginnings', 'Music, Sports, Hunting', 'Trust, Encouraging, Uplifting', 'Inspirational, Funny, Change', 'Success, God, Mother', 'Inspirational, Motivational, Change', 'Essence, Deep Thought, Transcendentalism', 'Inspiration, Past, Trying', 'Country, Peace, War', 'Inspirational, Motivational, Death', '4th Of July, Food, Patriotic', 'Inspirational, Success, Basketball', 'Strong, Revenge, Intelligent', 'Inspirational, Teacher, Religious', 'Truth, Honesty, Lying', 'Funny, Reading, Learning', 'Strong, Thoughtful, Compassion', 'Love, Funny, Life', 'Freedom, Men, Democracies Have', 'God, Religious, Atheist', 'Respect, Kindness, Character', 'Inspirational, Motivational, Change', 'Inspirational, Life, Inspiring', 'Love, Inspirational, Life', 'Inspiring, Country, 4th Of July', 'Inspirational, Dream, Hate', 'Love, Inspirational, Life', 'Forgiveness, God, Christian', 'Country, Men, Squares', 'Inspirational, Relationship, Positive', 'Inspirational, Motivational, Positive', 'Love, Friendship, Relationship', 'Faith, God, Christian', 'Art, Freedom, Political Will', 'Inspirational, Life, Faith', 'Inspirational, Life, Meaningful', 'Happiness, Time, Clever', 'Inspirational, Inspiring, Success', 'Love, Inspirational, Life', 'Music, Sound And Music, Musical Life', 'Adversity, Blow, Action', 'Positive, Thinking Of You, Attitude', 'Inspirational, Funny, Life', 'Inspirational, Life, Motivational', 'Inspirational, Memorial Day, Freedom', 'Freedom, Patriotic, Vaccines', 'Philosophy, Ignorance, Democratic Socialism', 'Inspirational, Dance, Education', 'Life, Change, Positive', 'Life, Bullying, Mistake', 'Life, Nature, Children', 'Inspirational, Life, Motivational', 'Marriage, Love You, Long', 'Inspirational, Motivational, Success', 'Love, Inspirational, Life', 'Diversity, Important, Liberty', 'Inspirational, God, Faith', 'Inspirational, Motivational, Inspiring', 'Business, Stupid, Government', 'Beauty, Love Yourself, Your Beautiful', 'Inspirational, Life, Motivational', 'Peace, Military, War', 'Inspirational, Leadership, Confidence', 'Motivational, Military, War', 'Christian, Jesus, Confusing', 'Inspirational, Success, Sports', 'Inspirational, Motivational, Success', 'Inspirational, Life, Clever', 'Inspirational, Death, Failure', 'Inspirational, Life, Motivational', 'Inspiring, Hope, Spring', 'Motivational, Running, People', 'Inspirational, Motivational, Positive', 'Summer, Food, Garden', 'Inspirational, Life, Motivational', 'Inspirational, Life, Thank You', 'Funny, Sports, Jobs', 'Being Strong, Wisdom, Stay Strong', 'Inspirational, Motivational, Positive', 'Time, Pain, Get Well', 'Motivational, Positive, Moon', 'Life, God, Christian', 'President, Needs, Purpose', 'God, Faith, Christian', 'Women, Failure, Successful', 'Inspirational, Morning, Kindness', 'Hiding Place, Ability, Baby Boom', 'Love, Inspirational, Life', 'Inspirational, Change, Philosophy', 'Inspirational, Family, Inspiring', 'Inspirational, Success, Courage', 'Inspirational, Life, Motivational', 'Christian, Vision, Missionary', 'Inspirational, Positive, Regret', 'Love, Inspirational, Life', 'Inspirational, Life, Encouragement', 'Happy Birthday, Baseball, Fun', 'Leadership, Power, Opportunity', 'Inspirational, Life, Positive', 'Inspirational, Encouraging, Patience', 'New Year, Fun, New Beginnings', 'Music, Sports, Hunting', 'Trust, Encouraging, Uplifting', 'Inspirational, Funny, Change', 'Success, God, Mother', 'Inspirational, Motivational, Change', 'Essence, Deep Thought, Transcendentalism', 'Inspiration, Past, Trying', 'Country, Peace, War', 'Inspirational, Motivational, Death', '4th Of July, Food, Patriotic', 'Inspirational, Success, Basketball', 'Strong, Revenge, Intelligent', 'Inspirational, Teacher, Religious', 'Truth, Honesty, Lying', 'Funny, Reading, Learning', 'Strong, Thoughtful, Compassion', 'Love, Funny, Life', 'Freedom, Men, Democracies Have', 'God, Religious, Atheist', 'Respect, Kindness, Character', 'Inspirational, Motivational, Change', 'Inspirational, Life, Inspiring', 'Love, Inspirational, Life', 'Inspiring, Country, 4th Of July', 'Inspirational, Dream, Hate', 'Love, Inspirational, Life', 'Forgiveness, God, Christian', 'Country, Men, Squares', 'Inspirational, Relationship, Positive', 'Inspirational, Motivational, Positive', 'Love, Friendship, Relationship', 'Faith, God, Christian', 'Art, Freedom, Political Will', 'Inspirational, Life, Faith', 'Inspirational, Life, Meaningful', 'Happiness, Time, Clever', 'Inspirational, Inspiring, Success', 'Love, Inspirational, Life', 'Music, Sound And Music, Musical Life', 'Adversity, Blow, Action', 'Positive, Thinking Of You, Attitude', 'Inspirational, Funny, Life', 'Inspirational, Life, Motivational', 'Inspirational, Memorial Day, Freedom', 'Freedom, Patriotic, Vaccines', 'Philosophy, Ignorance, Democratic Socialism', 'Inspirational, Dance, Education', 'Life, Change, Positive', 'Life, Bullying, Mistake', 'Life, Nature, Children', 'Inspirational, Life, Motivational', 'Marriage, Love You, Long', 'Inspirational, Motivational, Success', 'Love, Inspirational, Life', 'Diversity, Important, Liberty', 'Inspirational, God, Faith', 'Inspirational, Motivational, Inspiring', 'Business, Stupid, Government', 'Beauty, Love Yourself, Your Beautiful', 'Inspirational, Life, Motivational', 'Peace, Military, War', 'Inspirational, Leadership, Confidence', 'Motivational, Military, War', 'Christian, Jesus, Confusing', 'Inspirational, Success, Sports', 'Inspirational, Motivational, Success', 'Inspirational, Life, Clever', 'Inspirational, Death, Failure', 'Inspirational, Life, Motivational', 'Inspiring, Hope, Spring', 'Motivational, Running, People', 'Inspirational, Motivational, Positive', 'Summer, Food, Garden', 'Inspirational, Life, Motivational', 'Inspirational, Life, Thank You', 'Funny, Sports, Jobs', 'Being Strong, Wisdom, Stay Strong', 'Inspirational, Motivational, Positive', 'Time, Pain, Get Well', 'Motivational, Positive, Moon', 'Life, God, Christian', 'President, Needs, Purpose', 'God, Faith, Christian', 'Women, Failure, Successful', 'Inspirational, Morning, Kindness', 'Hiding Place, Ability, Baby Boom', 'Love, Inspirational, Life', 'Inspirational, Change, Philosophy', 'Inspirational, Family, Inspiring', 'Inspirational, Success, Courage', 'Inspirational, Life, Motivational', 'Christian, Vision, Missionary', 'Inspirational, Positive, Regret', 'Love, Inspirational, Life', 'Inspirational, Life, Encouragement', 'Happy Birthday, Baseball, Fun', 'Leadership, Power, Opportunity', 'Inspirational, Life, Positive', 'Inspirational, Encouraging, Patience', 'New Year, Fun, New Beginnings', 'Music, Sports, Hunting', 'Trust, Encouraging, Uplifting', 'Inspirational, Funny, Change', 'Success, God, Mother', 'Inspirational, Motivational, Change', 'Essence, Deep Thought, Transcendentalism', 'Inspiration, Past, Trying', 'Country, Peace, War', 'Inspirational, Motivational, Death', '4th Of July, Food, Patriotic', 'Inspirational, Success, Basketball', 'Strong, Revenge, Intelligent', 'Inspirational, Teacher, Religious', 'Truth, Honesty, Lying', 'Funny, Reading, Learning', 'Strong, Thoughtful, Compassion', 'Love, Funny, Life', 'Freedom, Men, Democracies Have', 'God, Religious, Atheist', 'Respect, Kindness, Character', 'Inspirational, Motivational, Change', 'Inspirational, Life, Inspiring', 'Love, Inspirational, Life', 'Inspiring, Country, 4th Of July', 'Inspirational, Dream, Hate', 'Love, Inspirational, Life', 'Forgiveness, God, Christian', 'Country, Men, Squares', 'Inspirational, Relationship, Positive', 'Inspirational, Motivational, Positive', 'Love, Friendship, Relationship', 'Faith, God, Christian', 'Art, Freedom, Political Will', 'Inspirational, Life, Faith', 'Inspirational, Life, Meaningful', 'Happiness, Time, Clever', 'Inspirational, Inspiring, Success', 'Love, Inspirational, Life', 'Music, Sound And Music, Musical Life', 'Adversity, Blow, Action', 'Positive, Thinking Of You, Attitude', 'Inspirational, Funny, Life', 'Inspirational, Life, Motivational', 'Inspirational, Memorial Day, Freedom', 'Freedom, Patriotic, Vaccines', 'Philosophy, Ignorance, Democratic Socialism', 'Inspirational, Dance, Education', 'Life, Change, Positive', 'Life, Bullying, Mistake', 'Life, Nature, Children', 'Inspirational, Life, Motivational', 'Marriage, Love You, Long', 'Inspirational, Motivational, Success', 'Love, Inspirational, Life', 'Diversity, Important, Liberty', 'Inspirational, God, Faith', 'Inspirational, Motivational, Inspiring', 'Business, Stupid, Government', 'Beauty, Love Yourself, Your Beautiful', 'Inspirational, Life, Motivational', 'Peace, Military, War', 'Inspirational, Leadership, Confidence', 'Motivational, Military, War', 'Christian, Jesus, Confusing', 'Inspirational, Success, Sports', 'Inspirational, Motivational, Success', 'Inspirational, Life, Clever', 'Inspirational, Death, Failure', 'Inspirational, Life, Motivational', 'Inspiring, Hope, Spring', 'Motivational, Running, People', 'Inspirational, Motivational, Positive', 'Summer, Food, Garden', 'Inspirational, Life, Motivational', 'Inspirational, Life, Thank You', 'Funny, Sports, Jobs', 'Being Strong, Wisdom, Stay Strong', 'Inspirational, Motivational, Positive', 'Time, Pain, Get Well', 'Motivational, Positive, Moon', 'Life, God, Christian', 'President, Needs, Purpose', 'God, Faith, Christian', 'Women, Failure, Successful', 'Inspirational, Morning, Kindness', 'Hiding Place, Ability, Baby Boom', 'Love, Inspirational, Life', 'Inspirational, Change, Philosophy', 'Inspirational, Family, Inspiring', 'Inspirational, Success, Courage', 'Inspirational, Life, Motivational', 'Christian, Vision, Missionary', 'Inspirational, Positive, Regret', 'Love, Inspirational, Life', 'Inspirational, Life, Encouragement', 'Happy Birthday, Baseball, Fun', 'Leadership, Power, Opportunity', 'Inspirational, Life, Positive', 'Inspirational, Encouraging, Patience', 'New Year, Fun, New Beginnings', 'Music, Sports, Hunting', 'Trust, Encouraging, Uplifting', 'Inspirational, Funny, Change', 'Success, God, Mother', 'Inspirational, Motivational, Change', 'Essence, Deep Thought, Transcendentalism', 'Inspiration, Past, Trying', 'Country, Peace, War', 'Inspirational, Motivational, Death', '4th Of July, Food, Patriotic', 'Inspirational, Success, Basketball', 'Strong, Revenge, Intelligent', 'Inspirational, Teacher, Religious', 'Truth, Honesty, Lying', 'Funny, Reading, Learning', 'Strong, Thoughtful, Compassion', 'Love, Funny, Life', 'Freedom, Men, Democracies Have', 'God, Religious, Atheist', 'Respect, Kindness, Character', 'Inspirational, Motivational, Change', 'Inspirational, Life, Inspiring', 'Love, Inspirational, Life', 'Inspiring, Country, 4th Of July', 'Inspirational, Dream, Hate', 'Love, Inspirational, Life', 'Forgiveness, God, Christian', 'Country, Men, Squares', 'Inspirational, Relationship, Positive', 'Inspirational, Motivational, Positive', 'Love, Friendship, Relationship', 'Faith, God, Christian', 'Art, Freedom, Political Will', 'Inspirational, Life, Faith', 'Inspirational, Life, Meaningful', 'Happiness, Time, Clever', 'Inspirational, Inspiring, Success', 'Love, Inspirational, Life', 'Music, Sound And Music, Musical Life', 'Adversity, Blow, Action', 'Positive, Thinking Of You, Attitude', 'Inspirational, Funny, Life', 'Inspirational, Life, Motivational', 'Inspirational, Memorial Day, Freedom', 'Freedom, Patriotic, Vaccines', 'Philosophy, Ignorance, Democratic Socialism', 'Inspirational, Dance, Education', 'Life, Change, Positive', 'Life, Bullying, Mistake', 'Life, Nature, Children', 'Inspirational, Life, Motivational', 'Marriage, Love You, Long', 'Inspirational, Motivational, Success', 'Love, Inspirational, Life', 'Diversity, Important, Liberty', 'Inspirational, God, Faith', 'Inspirational, Motivational, Inspiring', 'Business, Stupid, Government', 'Beauty, Love Yourself, Your Beautiful', 'Inspirational, Life, Motivational', 'Peace, Military, War', 'Inspirational, Leadership, Confidence', 'Motivational, Military, War', 'Christian, Jesus, Confusing', 'Inspirational, Success, Sports', 'Inspirational, Motivational, Success', 'Inspirational, Life, Clever', 'Inspirational, Death, Failure', 'Inspirational, Life, Motivational', 'Inspiring, Hope, Spring', 'Motivational, Running, People', 'Inspirational, Motivational, Positive', 'Summer, Food, Garden', 'Inspirational, Life, Motivational', 'Inspirational, Life, Thank You', 'Funny, Sports, Jobs', 'Being Strong, Wisdom, Stay Strong', 'Inspirational, Motivational, Positive', 'Time, Pain, Get Well', 'Motivational, Positive, Moon', 'Life, God, Christian', 'President, Needs, Purpose', 'God, Faith, Christian', 'Women, Failure, Successful', 'Inspirational, Morning, Kindness', 'Hiding Place, Ability, Baby Boom', 'Love, Inspirational, Life', 'Inspirational, Change, Philosophy', 'Inspirational, Family, Inspiring', 'Inspirational, Success, Courage', 'Inspirational, Life, Motivational', 'Christian, Vision, Missionary', 'Inspirational, Positive, Regret', 'Love, Inspirational, Life', 'Inspirational, Life, Encouragement', 'Happy Birthday, Baseball, Fun', 'Leadership, Power, Opportunity', 'Inspirational, Life, Positive', 'Inspirational, Encouraging, Patience', 'New Year, Fun, New Beginnings', 'Music, Sports, Hunting', 'Trust, Encouraging, Uplifting', 'Inspirational, Funny, Change', 'Success, God, Mother', 'Inspirational, Motivational, Change', 'Essence, Deep Thought, Transcendentalism', 'Inspiration, Past, Trying', 'Country, Peace, War', 'Inspirational, Motivational, Death', '4th Of July, Food, Patriotic', 'Inspirational, Success, Basketball', 'Strong, Revenge, Intelligent', 'Inspirational, Teacher, Religious', 'Truth, Honesty, Lying', 'Funny, Reading, Learning', 'Strong, Thoughtful, Compassion', 'Love, Funny, Life', 'Freedom, Men, Democracies Have', 'God, Religious, Atheist', 'Respect, Kindness, Character', 'Inspirational, Motivational, Change', 'Inspirational, Life, Inspiring', 'Love, Inspirational, Life', 'Inspiring, Country, 4th Of July', 'Inspirational, Dream, Hate', 'Love, Inspirational, Life', 'Forgiveness, God, Christian', 'Country, Men, Squares', 'Inspirational, Relationship, Positive', 'Inspirational, Motivational, Positive', 'Love, Friendship, Relationship', 'Faith, God, Christian', 'Art, Freedom, Political Will', 'Inspirational, Life, Faith', 'Inspirational, Life, Meaningful', 'Happiness, Time, Clever', 'Inspirational, Inspiring, Success', 'Love, Inspirational, Life', 'Music, Sound And Music, Musical Life', 'Adversity, Blow, Action', 'Positive, Thinking Of You, Attitude', 'Inspirational, Funny, Life', 'Inspirational, Life, Motivational', 'Inspirational, Memorial Day, Freedom', 'Freedom, Patriotic, Vaccines', 'Philosophy, Ignorance, Democratic Socialism', 'Inspirational, Dance, Education', 'Life, Change, Positive', 'Life, Bullying, Mistake', 'Life, Nature, Children', 'Inspirational, Life, Motivational', 'Marriage, Love You, Long', 'Inspirational, Motivational, Success', 'Love, Inspirational, Life', 'Diversity, Important, Liberty', 'Inspirational, God, Faith', 'Inspirational, Motivational, Inspiring', 'Business, Stupid, Government', 'Beauty, Love Yourself, Your Beautiful', 'Inspirational, Life, Motivational', 'Peace, Military, War', 'Inspirational, Leadership, Confidence', 'Motivational, Military, War', 'Christian, Jesus, Confusing', 'Inspirational, Success, Sports', 'Inspirational, Motivational, Success', 'Inspirational, Life, Clever', 'Inspirational, Death, Failure', 'Inspirational, Life, Motivational', 'Inspiring, Hope, Spring', 'Motivational, Running, People', 'Inspirational, Motivational, Positive', 'Summer, Food, Garden', 'Inspirational, Life, Motivational', 'Inspirational, Life, Thank You', 'Funny, Sports, Jobs', 'Being Strong, Wisdom, Stay Strong', 'Inspirational, Motivational, Positive', 'Time, Pain, Get Well', 'Motivational, Positive, Moon', 'Life, God, Christian', 'President, Needs, Purpose', 'God, Faith, Christian', 'Women, Failure, Successful', 'Inspirational, Morning, Kindness', 'Hiding Place, Ability, Baby Boom', 'Love, Inspirational, Life', 'Inspirational, Change, Philosophy', 'Inspirational, Family, Inspiring', 'Inspirational, Success, Courage', 'Inspirational, Life, Motivational', 'Christian, Vision, Missionary', 'Inspirational, Positive, Regret', 'Love, Inspirational, Life', 'Inspirational, Life, Encouragement', 'Happy Birthday, Baseball, Fun', 'Leadership, Power, Opportunity', 'Inspirational, Life, Positive', 'Inspirational, Encouraging, Patience', 'New Year, Fun, New Beginnings', 'Music, Sports, Hunting', 'Trust, Encouraging, Uplifting', 'Inspirational, Funny, Change', 'Success, God, Mother', 'Inspirational, Motivational, Change', 'Essence, Deep Thought, Transcendentalism', 'Inspiration, Past, Trying', 'Country, Peace, War', 'Inspirational, Motivational, Death', '4th Of July, Food, Patriotic', 'Inspirational, Success, Basketball', 'Strong, Revenge, Intelligent', 'Inspirational, Teacher, Religious', 'Truth, Honesty, Lying', 'Funny, Reading, Learning', 'Strong, Thoughtful, Compassion', 'Love, Funny, Life', 'Freedom, Men, Democracies Have', 'God, Religious, Atheist', 'Respect, Kindness, Character', 'Inspirational, Motivational, Change', 'Inspirational, Life, Inspiring', 'Love, Inspirational, Life', 'Inspiring, Country, 4th Of July', 'Inspirational, Dream, Hate', 'Love, Inspirational, Life', 'Forgiveness, God, Christian', 'Country, Men, Squares', 'Inspirational, Relationship, Positive', 'Inspirational, Motivational, Positive', 'Love, Friendship, Relationship', 'Faith, God, Christian', 'Art, Freedom, Political Will', 'Inspirational, Life, Faith', 'Inspirational, Life, Meaningful', 'Happiness, Time, Clever', 'Inspirational, Inspiring, Success', 'Love, Inspirational, Life', 'Music, Sound And Music, Musical Life', 'Adversity, Blow, Action', 'Positive, Thinking Of You, Attitude', 'Inspirational, Funny, Life', 'Inspirational, Life, Motivational', 'Inspirational, Memorial Day, Freedom', 'Freedom, Patriotic, Vaccines', 'Philosophy, Ignorance, Democratic Socialism', 'Inspirational, Dance, Education', 'Life, Change, Positive', 'Life, Bullying, Mistake', 'Life, Nature, Children', 'Inspirational, Life, Motivational', 'Marriage, Love You, Long', 'Inspirational, Motivational, Success', 'Love, Inspirational, Life', 'Diversity, Important, Liberty', 'Inspirational, God, Faith', 'Inspirational, Motivational, Inspiring', 'Business, Stupid, Government', 'Beauty, Love Yourself, Your Beautiful', 'Inspirational, Life, Motivational', 'Peace, Military, War', 'Inspirational, Leadership, Confidence', 'Motivational, Military, War', 'Christian, Jesus, Confusing', 'Inspirational, Success, Sports', 'Inspirational, Motivational, Success', 'Inspirational, Life, Clever', 'Inspirational, Death, Failure', 'Inspirational, Life, Motivational', 'Inspiring, Hope, Spring', 'Motivational, Running, People', 'Inspirational, Motivational, Positive', 'Summer, Food, Garden', 'Inspirational, Life, Motivational', 'Inspirational, Life, Thank You', 'Funny, Sports, Jobs', 'Being Strong, Wisdom, Stay Strong', 'Inspirational, Motivational, Positive', 'Time, Pain, Get Well', 'Motivational, Positive, Moon', 'Life, God, Christian', 'President, Needs, Purpose', 'God, Faith, Christian', 'Women, Failure, Successful', 'Inspirational, Morning, Kindness', 'Hiding Place, Ability, Baby Boom', 'Love, Inspirational, Life', 'Inspirational, Change, Philosophy', 'Inspirational, Family, Inspiring', 'Inspirational, Success, Courage', 'Inspirational, Life, Motivational', 'Christian, Vision, Missionary', 'Inspirational, Positive, Regret', 'Love, Inspirational, Life', 'Inspirational, Life, Encouragement', 'Happy Birthday, Baseball, Fun', 'Leadership, Power, Opportunity', 'Inspirational, Life, Positive', 'Inspirational, Encouraging, Patience', 'New Year, Fun, New Beginnings', 'Music, Sports, Hunting', 'Trust, Encouraging, Uplifting', 'Inspirational, Funny, Change', 'Success, God, Mother', 'Inspirational, Motivational, Change', 'Essence, Deep Thought, Transcendentalism', 'Inspiration, Past, Trying', 'Country, Peace, War', 'Inspirational, Motivational, Death', '4th Of July, Food, Patriotic', 'Inspirational, Success, Basketball', 'Strong, Revenge, Intelligent', 'Inspirational, Teacher, Religious', 'Truth, Honesty, Lying', 'Funny, Reading, Learning', 'Strong, Thoughtful, Compassion', 'Love, Funny, Life', 'Freedom, Men, Democracies Have', 'God, Religious, Atheist', 'Respect, Kindness, Character', 'Inspirational, Motivational, Change', 'Inspirational, Life, Inspiring', 'Love, Inspirational, Life', 'Inspiring, Country, 4th Of July', 'Inspirational, Dream, Hate', 'Love, Inspirational, Life', 'Forgiveness, God, Christian', 'Country, Men, Squares', 'Inspirational, Relationship, Positive', 'Inspirational, Motivational, Positive', 'Love, Friendship, Relationship', 'Faith, God, Christian', 'Art, Freedom, Political Will', 'Inspirational, Life, Faith', 'Inspirational, Life, Meaningful', 'Happiness, Time, Clever', 'Inspirational, Inspiring, Success', 'Love, Inspirational, Life', 'Music, Sound And Music, Musical Life', 'Adversity, Blow, Action', 'Positive, Thinking Of You, Attitude', 'Inspirational, Funny, Life', 'Inspirational, Life, Motivational', 'Inspirational, Memorial Day, Freedom', 'Freedom, Patriotic, Vaccines', 'Philosophy, Ignorance, Democratic Socialism', 'Inspirational, Dance, Education', 'Life, Change, Positive', 'Life, Bullying, Mistake', 'Life, Nature, Children', 'Inspirational, Life, Motivational', 'Marriage, Love You, Long', 'Inspirational, Motivational, Success', 'Love, Inspirational, Life', 'Diversity, Important, Liberty', 'Inspirational, God, Faith', 'Inspirational, Motivational, Inspiring', 'Business, Stupid, Government', 'Beauty, Love Yourself, Your Beautiful', 'Inspirational, Life, Motivational', 'Peace, Military, War', 'Inspirational, Leadership, Confidence', 'Motivational, Military, War', 'Christian, Jesus, Confusing', 'Inspirational, Success, Sports', 'Inspirational, Motivational, Success', 'Inspirational, Life, Clever', 'Inspirational, Death, Failure', 'Inspirational, Life, Motivational', 'Inspiring, Hope, Spring', 'Motivational, Running, People', 'Inspirational, Motivational, Positive', 'Summer, Food, Garden', 'Inspirational, Life, Motivational', 'Inspirational, Life, Thank You', 'Funny, Sports, Jobs', 'Being Strong, Wisdom, Stay Strong', 'Inspirational, Motivational, Positive', 'Time, Pain, Get Well', 'Motivational, Positive, Moon', 'Life, God, Christian', 'President, Needs, Purpose', 'God, Faith, Christian', 'Women, Failure, Successful', 'Inspirational, Morning, Kindness', 'Hiding Place, Ability, Baby Boom', 'Love, Inspirational, Life', 'Inspirational, Change, Philosophy', 'Inspirational, Family, Inspiring', 'Inspirational, Success, Courage', 'Inspirational, Life, Motivational', 'Christian, Vision, Missionary', 'Inspirational, Positive, Regret', 'Love, Inspirational, Life', 'Inspirational, Life, Encouragement', 'Happy Birthday, Baseball, Fun', 'Leadership, Power, Opportunity', 'Inspirational, Life, Positive', 'Inspirational, Encouraging, Patience', 'New Year, Fun, New Beginnings', 'Music, Sports, Hunting', 'Trust, Encouraging, Uplifting', 'Inspirational, Funny, Change', 'Success, God, Mother', 'Inspirational, Motivational, Change', 'Essence, Deep Thought, Transcendentalism', 'Inspiration, Past, Trying', 'Country, Peace, War', 'Inspirational, Motivational, Death', '4th Of July, Food, Patriotic', 'Inspirational, Success, Basketball', 'Strong, Revenge, Intelligent', 'Inspirational, Teacher, Religious', 'Truth, Honesty, Lying', 'Funny, Reading, Learning', 'Strong, Thoughtful, Compassion', 'Love, Funny, Life', 'Freedom, Men, Democracies Have', 'God, Religious, Atheist', 'Respect, Kindness, Character', 'Inspirational, Motivational, Change', 'Inspirational, Life, Inspiring', 'Love, Inspirational, Life', 'Inspiring, Country, 4th Of July', 'Inspirational, Dream, Hate', 'Love, Inspirational, Life', 'Forgiveness, God, Christian', 'Country, Men, Squares', 'Inspirational, Relationship, Positive', 'Inspirational, Motivational, Positive', 'Love, Friendship, Relationship', 'Faith, God, Christian', 'Art, Freedom, Political Will', 'Inspirational, Life, Faith', 'Inspirational, Life, Meaningful', 'Happiness, Time, Clever', 'Inspirational, Inspiring, Success', 'Love, Inspirational, Life', 'Music, Sound And Music, Musical Life', 'Adversity, Blow, Action', 'Positive, Thinking Of You, Attitude', 'Inspirational, Funny, Life', 'Inspirational, Life, Motivational', 'Inspirational, Memorial Day, Freedom', 'Freedom, Patriotic, Vaccines', 'Philosophy, Ignorance, Democratic Socialism', 'Inspirational, Dance, Education', 'Life, Change, Positive', 'Life, Bullying, Mistake', 'Life, Nature, Children', 'Inspirational, Life, Motivational', 'Marriage, Love You, Long', 'Inspirational, Motivational, Success', 'Love, Inspirational, Life', 'Diversity, Important, Liberty', 'Inspirational, God, Faith', 'Inspirational, Motivational, Inspiring', 'Business, Stupid, Government', 'Beauty, Love Yourself, Your Beautiful', 'Inspirational, Life, Motivational', 'Peace, Military, War', 'Inspirational, Leadership, Confidence', 'Motivational, Military, War', 'Christian, Jesus, Confusing', 'Inspirational, Success, Sports', 'Inspirational, Motivational, Success', 'Inspirational, Life, Clever', 'Inspirational, Death, Failure', 'Inspirational, Life, Motivational', 'Inspiring, Hope, Spring', 'Motivational, Running, People', 'Inspirational, Motivational, Positive', 'Summer, Food, Garden', 'Inspirational, Life, Motivational', 'Inspirational, Life, Thank You', 'Funny, Sports, Jobs', 'Being Strong, Wisdom, Stay Strong', 'Inspirational, Motivational, Positive', 'Time, Pain, Get Well', 'Motivational, Positive, Moon', 'Life, God, Christian', 'President, Needs, Purpose', 'God, Faith, Christian', 'Women, Failure, Successful', 'Inspirational, Morning, Kindness', 'Hiding Place, Ability, Baby Boom', 'Love, Inspirational, Life', 'Inspirational, Change, Philosophy', 'Inspirational, Family, Inspiring', 'Inspirational, Success, Courage', 'Inspirational, Life, Motivational', 'Christian, Vision, Missionary', 'Inspirational, Positive, Regret', 'Love, Inspirational, Life', 'Inspirational, Life, Encouragement', 'Happy Birthday, Baseball, Fun', 'Leadership, Power, Opportunity', 'Inspirational, Life, Positive', 'Inspirational, Encouraging, Patience', 'New Year, Fun, New Beginnings', 'Music, Sports, Hunting', 'Trust, Encouraging, Uplifting', 'Inspirational, Funny, Change', 'Success, God, Mother', 'Inspirational, Motivational, Change']\n"
     ]
    }
   ],
   "source": [
    "print(type_of_quotes)"
   ]
  },
  {
   "cell_type": "code",
   "execution_count": 130,
   "id": "42a81250",
   "metadata": {},
   "outputs": [
    {
     "data": {
      "text/html": [
       "<div>\n",
       "<style scoped>\n",
       "    .dataframe tbody tr th:only-of-type {\n",
       "        vertical-align: middle;\n",
       "    }\n",
       "\n",
       "    .dataframe tbody tr th {\n",
       "        vertical-align: top;\n",
       "    }\n",
       "\n",
       "    .dataframe thead th {\n",
       "        text-align: right;\n",
       "    }\n",
       "</style>\n",
       "<table border=\"1\" class=\"dataframe\">\n",
       "  <thead>\n",
       "    <tr style=\"text-align: right;\">\n",
       "      <th></th>\n",
       "      <th>QUOTES</th>\n",
       "      <th>AUTHORS</th>\n",
       "      <th>TYPE OF QUOTES</th>\n",
       "    </tr>\n",
       "  </thead>\n",
       "  <tbody>\n",
       "    <tr>\n",
       "      <th>0</th>\n",
       "      <td>The essence of strategy is choosing what not t...</td>\n",
       "      <td>Michael Porter</td>\n",
       "      <td>Essence, Deep Thought, Transcendentalism</td>\n",
       "    </tr>\n",
       "    <tr>\n",
       "      <th>1</th>\n",
       "      <td>One cannot and must not try to erase the past ...</td>\n",
       "      <td>Golda Meir</td>\n",
       "      <td>Inspiration, Past, Trying</td>\n",
       "    </tr>\n",
       "    <tr>\n",
       "      <th>2</th>\n",
       "      <td>Patriotism means to stand by the country. It d...</td>\n",
       "      <td>Theodore Roosevelt</td>\n",
       "      <td>Country, Peace, War</td>\n",
       "    </tr>\n",
       "    <tr>\n",
       "      <th>3</th>\n",
       "      <td>Death is something inevitable. When a man has ...</td>\n",
       "      <td>Nelson Mandela</td>\n",
       "      <td>Inspirational, Motivational, Death</td>\n",
       "    </tr>\n",
       "    <tr>\n",
       "      <th>4</th>\n",
       "      <td>You have to love a nation that celebrates its ...</td>\n",
       "      <td>Erma Bombeck</td>\n",
       "      <td>4th Of July, Food, Patriotic</td>\n",
       "    </tr>\n",
       "    <tr>\n",
       "      <th>...</th>\n",
       "      <td>...</td>\n",
       "      <td>...</td>\n",
       "      <td>...</td>\n",
       "    </tr>\n",
       "    <tr>\n",
       "      <th>995</th>\n",
       "      <td>When the going gets weird, the weird turn pro.</td>\n",
       "      <td>Hunter S. Thompson</td>\n",
       "      <td>Music, Sports, Hunting</td>\n",
       "    </tr>\n",
       "    <tr>\n",
       "      <th>996</th>\n",
       "      <td>When a train goes through a tunnel and it gets...</td>\n",
       "      <td>Corrie Ten Boom</td>\n",
       "      <td>Trust, Encouraging, Uplifting</td>\n",
       "    </tr>\n",
       "    <tr>\n",
       "      <th>997</th>\n",
       "      <td>If you think you are too small to make a diffe...</td>\n",
       "      <td>Dalai Lama</td>\n",
       "      <td>Inspirational, Funny, Change</td>\n",
       "    </tr>\n",
       "    <tr>\n",
       "      <th>998</th>\n",
       "      <td>God doesn't require us to succeed, he only req...</td>\n",
       "      <td>Mother Teresa</td>\n",
       "      <td>Success, God, Mother</td>\n",
       "    </tr>\n",
       "    <tr>\n",
       "      <th>999</th>\n",
       "      <td>Change your thoughts and you change your world.</td>\n",
       "      <td>Norman Vincent Peale</td>\n",
       "      <td>Inspirational, Motivational, Change</td>\n",
       "    </tr>\n",
       "  </tbody>\n",
       "</table>\n",
       "<p>1000 rows × 3 columns</p>\n",
       "</div>"
      ],
      "text/plain": [
       "                                                QUOTES               AUTHORS  \\\n",
       "0    The essence of strategy is choosing what not t...        Michael Porter   \n",
       "1    One cannot and must not try to erase the past ...            Golda Meir   \n",
       "2    Patriotism means to stand by the country. It d...    Theodore Roosevelt   \n",
       "3    Death is something inevitable. When a man has ...        Nelson Mandela   \n",
       "4    You have to love a nation that celebrates its ...          Erma Bombeck   \n",
       "..                                                 ...                   ...   \n",
       "995     When the going gets weird, the weird turn pro.    Hunter S. Thompson   \n",
       "996  When a train goes through a tunnel and it gets...       Corrie Ten Boom   \n",
       "997  If you think you are too small to make a diffe...            Dalai Lama   \n",
       "998  God doesn't require us to succeed, he only req...         Mother Teresa   \n",
       "999    Change your thoughts and you change your world.  Norman Vincent Peale   \n",
       "\n",
       "                               TYPE OF QUOTES  \n",
       "0    Essence, Deep Thought, Transcendentalism  \n",
       "1                   Inspiration, Past, Trying  \n",
       "2                         Country, Peace, War  \n",
       "3          Inspirational, Motivational, Death  \n",
       "4                4th Of July, Food, Patriotic  \n",
       "..                                        ...  \n",
       "995                    Music, Sports, Hunting  \n",
       "996             Trust, Encouraging, Uplifting  \n",
       "997              Inspirational, Funny, Change  \n",
       "998                      Success, God, Mother  \n",
       "999       Inspirational, Motivational, Change  \n",
       "\n",
       "[1000 rows x 3 columns]"
      ]
     },
     "execution_count": 130,
     "metadata": {},
     "output_type": "execute_result"
    }
   ],
   "source": [
    "df=pd.DataFrame({'QUOTES':quote,'AUTHORS':author,'TYPE OF QUOTES':type_of_quotes})\n",
    "df"
   ]
  },
  {
   "cell_type": "code",
   "execution_count": null,
   "id": "5ea7ee60",
   "metadata": {},
   "outputs": [],
   "source": []
  },
  {
   "cell_type": "raw",
   "id": "20cf2e84",
   "metadata": {},
   "source": [
    "Q7: Write a python program to display list of respected former Prime Ministers of India (i.e. Name,\n",
    "\n",
    "Born-Dead, Term of office, Remarks) from https://www.jagranjosh.com/general-knowledge/list-of-\n",
    "all-prime-ministers-of-india-1473165149-1\n",
    "\n",
    "scrap the mentioned data and make the DataFrame"
   ]
  },
  {
   "cell_type": "code",
   "execution_count": 160,
   "id": "41390687",
   "metadata": {},
   "outputs": [],
   "source": [
    "ministers=webdriver.Chrome()"
   ]
  },
  {
   "cell_type": "code",
   "execution_count": 161,
   "id": "7a056ae6",
   "metadata": {},
   "outputs": [],
   "source": [
    "ministers.get('https://www.jagranjosh.com/general-knowledge/list-of-all-prime-ministers-of-india-1473165149-1')"
   ]
  },
  {
   "cell_type": "code",
   "execution_count": 229,
   "id": "2b90a720",
   "metadata": {},
   "outputs": [],
   "source": [
    "name=[]\n",
    "born_dead=[]\n",
    "term_of_office=[]\n",
    "remarks=[]"
   ]
  },
  {
   "cell_type": "code",
   "execution_count": 230,
   "id": "f2cceeaa",
   "metadata": {},
   "outputs": [
    {
     "name": "stdout",
     "output_type": "stream",
     "text": [
      "['Jawahar Lal Nehru']\n"
     ]
    }
   ],
   "source": [
    "names=[]\n",
    "name_tags=ministers.find_elements(By.XPATH,'//div[@class=\"TableData\"]/table//tr[2]/td[2]/div/strong/a')\n",
    "for i in name_tags:\n",
    "    name.append(i.text)\n",
    "print(name)"
   ]
  },
  {
   "cell_type": "code",
   "execution_count": null,
   "id": "2f34efdb",
   "metadata": {},
   "outputs": [],
   "source": []
  },
  {
   "cell_type": "code",
   "execution_count": null,
   "id": "3170463c",
   "metadata": {},
   "outputs": [],
   "source": []
  },
  {
   "cell_type": "code",
   "execution_count": null,
   "id": "7b5c3a87",
   "metadata": {},
   "outputs": [],
   "source": []
  },
  {
   "cell_type": "code",
   "execution_count": null,
   "id": "f74477d7",
   "metadata": {},
   "outputs": [],
   "source": []
  },
  {
   "cell_type": "raw",
   "id": "3cbd50c2",
   "metadata": {},
   "source": [
    "Q8: Write a python program to display list of 50 Most expensive cars in the world\n",
    "(i.e. Car name and Price) from https://www.motor1.com/\n",
    "\n",
    "This task will be done in following steps:\n",
    "1. First get the webpage https://www.motor1.com/\n",
    "2. Then You have to type in the search bar ’50 most expensive cars’\n",
    "3. Then click on 50 most expensive carsin the world..\n",
    "4. Then scrap thementioned data and make the dataframe."
   ]
  },
  {
   "cell_type": "code",
   "execution_count": 149,
   "id": "35bba82a",
   "metadata": {},
   "outputs": [],
   "source": [
    "cars=webdriver.Chrome()"
   ]
  },
  {
   "cell_type": "code",
   "execution_count": 150,
   "id": "7e8aabad",
   "metadata": {},
   "outputs": [],
   "source": [
    "cars.get('https://www.motor1.com/')"
   ]
  },
  {
   "cell_type": "code",
   "execution_count": 152,
   "id": "836786ec",
   "metadata": {},
   "outputs": [],
   "source": [
    "search=cars.find_element(By.XPATH,'/html/body/div[9]/div[2]/div/div/div[3]/div/div/button')\n",
    "search.click()"
   ]
  },
  {
   "cell_type": "code",
   "execution_count": 154,
   "id": "baf2c649",
   "metadata": {},
   "outputs": [],
   "source": [
    "search_1=cars.find_element(By.XPATH,'/html/body/div[9]/div[2]/div/div/div[3]/div/div/div/form/input')\n",
    "search_1.send_keys('50 most expensive cars')"
   ]
  },
  {
   "cell_type": "code",
   "execution_count": 155,
   "id": "3d0827c5",
   "metadata": {},
   "outputs": [],
   "source": [
    "search_2=cars.find_element(By.XPATH,'/html/body/div[9]/div[2]/div/div/div[3]/div/div/div/form/button[1]')\n",
    "search_2.click()"
   ]
  },
  {
   "cell_type": "code",
   "execution_count": 156,
   "id": "ad355011",
   "metadata": {},
   "outputs": [],
   "source": [
    "search_3=cars.find_element(By.XPATH,'//div[@class=\"text-box\"]/h3/a')\n",
    "search_3.click()"
   ]
  },
  {
   "cell_type": "code",
   "execution_count": 158,
   "id": "de98018d",
   "metadata": {},
   "outputs": [
    {
     "name": "stdout",
     "output_type": "stream",
     "text": [
      "['Aston Martin Valour', 'McLaren Elva', 'Czinger 21C', 'Ferrari Monza', 'Gordon Murray T.33', 'Koenigsegg Gemera', 'Zenvo TSR-S', 'Hennessey Venom F5', 'Bentley Bacalar', 'Hispano Suiza Carmen Boulogne', 'Bentley Mulliner Batur', 'Deus Vayanne', 'SSC Tuatara', 'Lotus Evija', 'Aston Martin Vulcan', 'Delage D12', 'Ferrari Daytona SP3', 'McLaren Speedtail', 'Rimac Nevera', 'Pagani Utopia', 'Pininfarina Battista', 'Gordon Murray T.50', 'Lamborghini Countach', 'Mercedes-AMG Project One', 'Zenvo Aurora', 'Aston Martin Victor', 'Hennessey Venom F5 Roadster', 'Koenigsegg Jesko', 'Aston Martin Valkyrie', 'W Motors Lykan Hypersport', 'McLaren Solus', 'Lamborghini Sian', 'Koenigsegg CC850', 'Bugatti Chiron Super Sport 300+', 'Lamborghini Veneno', 'Bugatti Bolide', 'Pininfarina B95 Speedster', 'Bugatti Mistral', 'Pagani Huayra Imola', 'Bugatti Divo', 'SP Automotive Chaos', 'Pagani Codalunga', '777 Hypercar', 'Mercedes-Maybach Exelero', 'Bugatti Centodieci', 'Bugatti Chiron Profilée', 'Rolls-Royce Sweptail', 'Bugatti La Voiture Noire', 'Rolls-Royce Boat Tail*', 'Rolls-Royce La Rose Noire Droptail', 'Most Expensive Cars In The World']\n"
     ]
    }
   ],
   "source": [
    "car_names=[]\n",
    "car_tags=cars.find_elements(By.XPATH,'//h3[@class=\"subheader\"]')\n",
    "for i in car_tags:\n",
    "    car_names.append(i.text)\n",
    "print(car_names)"
   ]
  },
  {
   "cell_type": "code",
   "execution_count": 159,
   "id": "1d825126",
   "metadata": {},
   "outputs": [
    {
     "name": "stdout",
     "output_type": "stream",
     "text": [
      "51\n"
     ]
    }
   ],
   "source": [
    "print(len(car_names))"
   ]
  },
  {
   "cell_type": "code",
   "execution_count": null,
   "id": "fa45309e",
   "metadata": {},
   "outputs": [],
   "source": [
    "car_prices=[]\n",
    "price_tags=cars.find_elements(By.XPATH)\n",
    "for i in"
   ]
  },
  {
   "cell_type": "code",
   "execution_count": null,
   "id": "7966d61e",
   "metadata": {},
   "outputs": [],
   "source": []
  }
 ],
 "metadata": {
  "kernelspec": {
   "display_name": "Python 3 (ipykernel)",
   "language": "python",
   "name": "python3"
  },
  "language_info": {
   "codemirror_mode": {
    "name": "ipython",
    "version": 3
   },
   "file_extension": ".py",
   "mimetype": "text/x-python",
   "name": "python",
   "nbconvert_exporter": "python",
   "pygments_lexer": "ipython3",
   "version": "3.11.4"
  }
 },
 "nbformat": 4,
 "nbformat_minor": 5
}
